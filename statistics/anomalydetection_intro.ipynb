{
 "cells": [
  {
   "cell_type": "markdown",
   "metadata": {
    "collapsed": true
   },
   "source": [
    "## Articles\n",
    "PyOD has been well acknowledged by the machine learning community with a few featured posts and tutorials.\n",
    "\n",
    "[**Analytics Vidhya**: An Awesome Tutorial to Learn Outlier Detection in Python using PyOD Library](https://www.analyticsvidhya.com/blog/2019/02/outlier-detection-python-pyod/)\n",
    "\n",
    "[**KDnuggets**: Intuitive Visualization of Outlier Detection Methods](https://www.kdnuggets.com/2019/02/outlier-detection-methods-cheat-sheet.html)\n",
    "\n",
    "[**Towards Data Science**: Anomaly Detection for Dummies](https://towardsdatascience.com/anomaly-detection-for-dummies-15f148e559c1)\n",
    "\n",
    "[**Computer Vision News (March 2019)** Python Open Source Toolbox for Outlier Detection](https://rsipvision.com/ComputerVisionNews-2019March/18/)\n",
    "\n",
    "[**awesome-machine-learning**: General-Purpose Machine Learning](https://github.com/josephmisiti/awesome-machine-learning#python-general-purpose)\n",
    "\n",
    "[**Introduction to Anomaly Detection in Python**](https://blog.floydhub.com/introduction-to-anomaly-detection-in-python/)"
   ]
  },
  {
   "cell_type": "markdown",
   "metadata": {},
   "source": [
    "## Datasets\n",
    "1. https://www.unb.ca/cic/datasets/index.html\n",
    "\n",
    "There are multiple major ones which have been widely used in research:\n",
    "- ELKI Outlier Datasets: https://elki-project.github.io/datasets/outlier\n",
    "- Outlier Detection DataSets (ODDS): http://odds.cs.stonybrook.edu/#table1\n",
    "- Unsupervised Anomaly Detection Dataverse: https://dataverse.harvard.edu/dataset.xhtml?persistentId=doi:10.7910/DVN/OPQMVF\n",
    "- Anomaly Detection Meta-Analysis Benchmarks: https://ir.library.oregonstate.edu/concern/datasets/47429f155\n",
    "\n",
    "IDS ( Network Intrusion Detection) applications for both Anomaly and Misuse detection.\n",
    "- KDD Cup 1999. Available on: http://kdd.ics.uci.edu/databases/kddcup99/kddcup99.html\n",
    "- The University of New Mexico (UNM) dataset which can be downloaded from http://www.cs.unm.edu/~immsec/systemcalls.htm,"
   ]
  },
  {
   "cell_type": "markdown",
   "metadata": {},
   "source": [
    "## Normal distribution"
   ]
  },
  {
   "cell_type": "markdown",
   "metadata": {},
   "source": [
    "## Non-normal distribution"
   ]
  },
  {
   "cell_type": "markdown",
   "metadata": {},
   "source": [
    "## Time series"
   ]
  },
  {
   "cell_type": "code",
   "execution_count": null,
   "metadata": {},
   "outputs": [],
   "source": []
  }
 ],
 "metadata": {
  "kernelspec": {
   "display_name": "Python 3",
   "language": "python",
   "name": "python3"
  },
  "language_info": {
   "codemirror_mode": {
    "name": "ipython",
    "version": 3
   },
   "file_extension": ".py",
   "mimetype": "text/x-python",
   "name": "python",
   "nbconvert_exporter": "python",
   "pygments_lexer": "ipython3",
   "version": "3.6.5"
  }
 },
 "nbformat": 4,
 "nbformat_minor": 2
}
