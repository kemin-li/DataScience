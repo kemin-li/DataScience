{
 "cells": [
  {
   "cell_type": "code",
   "execution_count": 1,
   "metadata": {},
   "outputs": [],
   "source": [
    "%load_ext autoreload\n",
    "%autoreload 2\n",
    "\n",
    "import sys\n",
    "import pandas as pd\n",
    "import numpy as np\n",
    "import scipy as sp\n",
    "from scipy import stats\n",
    "import statsmodels.api as sm\n",
    "import statsmodels.stats as smstats\n",
    "from IPython.display import HTML, Markdown, Latex, Math\n",
    "import matplotlib.pyplot as plt\n",
    "import seaborn as sns\n",
    "\n",
    "from IPython.core.interactiveshell import InteractiveShell\n",
    "InteractiveShell.ast_node_interactivity = \"all\"\n",
    "pd.set_option('display.max_rows', 300)\n",
    "pd.set_option('display.max_columns', 50)\n",
    "pd.set_option('display.max_colwidth', 80)\n",
    "pd.set_option('display.precision', 4)\n",
    "%precision 4\n",
    "%matplotlib inline\n",
    "\n",
    "random_seed = 42\n",
    "h3 = r\"<h3>{text}</h3>\"\n",
    "h4_centered = r\"<h4><center>{text}</center></h4>\""
   ]
  },
  {
   "cell_type": "markdown",
   "metadata": {},
   "source": [
    "## Hypothesis test (univariate)\n",
    "- $H_0$ Null hypothesis: something can be nullified or invalidated, usually \"no difference is expected\"\n",
    "- $H_a$ Alternative hypothesis: opposite of the null hypothesis, usually \"some difference observed\"\n",
    "- types of tests\n",
    " - test of differences: mean, proportation, median, ranking, distributions\n",
    " - test of association"
   ]
  },
  {
   "cell_type": "markdown",
   "metadata": {},
   "source": [
    "### One sample mean, $z$ test and $t$ test, normal distribution\n",
    "Whether sample mean is significantly different from population mean (hypothesis)\n",
    "- normally distributed population, $\\sigma$ known, or\n",
    "- $\\sigma$ unknown, sample size > 30, independent samples\n",
    " - sample mean $\\bar x$, pop mean $\\mu$\n",
    " - Z-score: $\\begin{align}\\frac{\\bar x - \\mu}{\\sigma\\big/\\sqrt n}\\end{align}$\n",
    "\n",
    "Example: normal distribution of mean 10+$\\delta$, std 1, 30 samples. Test Hypothesis population mean $\\neq,\\ \\le,\\ \\ge$ 10.\n",
    "- $H_0:\\ \\mu=10$, check 3 alternate hypothesis\n",
    " - $H_1:\\ \\mu\\neq10$\n",
    " - $H_2:\\ \\mu<10$\n",
    " - $H_3:\\ \\mu>10$\n",
    "We compute p-value using different approaches, essentially shall have the same results\n",
    "- compute CDF of test statistics for normal distribution and student distribution\n",
    "- ztest function of statsmodels\n",
    "- ttest_1sample function of scipy.stats\n",
    "- **NOTE:** scipy.stats.ttest_1samp always compute two sided p value of abs(t). Need to adjust for $H_2$ and $H_3$"
   ]
  },
  {
   "cell_type": "code",
   "execution_count": 2,
   "metadata": {
    "scrolled": false
   },
   "outputs": [
    {
     "data": {
      "text/html": [
       "<h3>$\\delta$ = -0.5</h3>"
      ],
      "text/plain": [
       "<IPython.core.display.HTML object>"
      ]
     },
     "execution_count": 2,
     "metadata": {},
     "output_type": "execute_result"
    },
    {
     "data": {
      "text/html": [
       "<h4><center>Alternate H: two_sided</center></h4>"
      ],
      "text/plain": [
       "<IPython.core.display.HTML object>"
      ]
     },
     "execution_count": 2,
     "metadata": {},
     "output_type": "execute_result"
    },
    {
     "data": {
      "text/plain": [
       "('z score (normal CDF)', -4.187898733374785, 2.815490846892387e-05)"
      ]
     },
     "execution_count": 2,
     "metadata": {},
     "output_type": "execute_result"
    },
    {
     "data": {
      "text/plain": [
       "('statsmodels ztest', (-4.187898733374785, 2.815490846892387e-05))"
      ]
     },
     "execution_count": 2,
     "metadata": {},
     "output_type": "execute_result"
    },
    {
     "data": {
      "text/plain": [
       "('t score (student CDF)', -4.187898733374785, 0.0002396583683886073)"
      ]
     },
     "execution_count": 2,
     "metadata": {},
     "output_type": "execute_result"
    },
    {
     "data": {
      "text/plain": [
       "('1 sample t-test', -4.1878987333747855, 0.0002396583683886073)"
      ]
     },
     "execution_count": 2,
     "metadata": {},
     "output_type": "execute_result"
    },
    {
     "data": {
      "text/html": [
       "<h4><center>Alternate H: left_side</center></h4>"
      ],
      "text/plain": [
       "<IPython.core.display.HTML object>"
      ]
     },
     "execution_count": 2,
     "metadata": {},
     "output_type": "execute_result"
    },
    {
     "data": {
      "text/plain": [
       "('z score (normal CDF)', -4.187898733374785, 1.4077454234461935e-05)"
      ]
     },
     "execution_count": 2,
     "metadata": {},
     "output_type": "execute_result"
    },
    {
     "data": {
      "text/plain": [
       "('statsmodels ztest', (-4.187898733374785, 1.4077454234461935e-05))"
      ]
     },
     "execution_count": 2,
     "metadata": {},
     "output_type": "execute_result"
    },
    {
     "data": {
      "text/plain": [
       "('t score (student CDF)', -4.187898733374785, 0.00011982918419430366)"
      ]
     },
     "execution_count": 2,
     "metadata": {},
     "output_type": "execute_result"
    },
    {
     "data": {
      "text/plain": [
       "('1 sample t-test (adjusted)', -4.1878987333747855, 0.00011982918419430366)"
      ]
     },
     "execution_count": 2,
     "metadata": {},
     "output_type": "execute_result"
    },
    {
     "data": {
      "text/plain": [
       "'t(x)=-4.1878987333747855, ttest_1samp(x)/2=0.00011982918419430366'"
      ]
     },
     "execution_count": 2,
     "metadata": {},
     "output_type": "execute_result"
    },
    {
     "data": {
      "text/html": [
       "<h4><center>Alternate H: right_side</center></h4>"
      ],
      "text/plain": [
       "<IPython.core.display.HTML object>"
      ]
     },
     "execution_count": 2,
     "metadata": {},
     "output_type": "execute_result"
    },
    {
     "data": {
      "text/plain": [
       "('z score (normal CDF)', -4.187898733374785, 0.9999859225457656)"
      ]
     },
     "execution_count": 2,
     "metadata": {},
     "output_type": "execute_result"
    },
    {
     "data": {
      "text/plain": [
       "('statsmodels ztest', (-4.187898733374785, 0.9999859225457656))"
      ]
     },
     "execution_count": 2,
     "metadata": {},
     "output_type": "execute_result"
    },
    {
     "data": {
      "text/plain": [
       "('t score (student CDF)', -4.187898733374785, 0.9998801708158057)"
      ]
     },
     "execution_count": 2,
     "metadata": {},
     "output_type": "execute_result"
    },
    {
     "data": {
      "text/plain": [
       "('1 sample t-test (adjusted)', -4.1878987333747855, 0.9998801708158057)"
      ]
     },
     "execution_count": 2,
     "metadata": {},
     "output_type": "execute_result"
    },
    {
     "data": {
      "text/plain": [
       "'t(x)=-4.1878987333747855, ttest_1samp(x)/2=0.00011982918419430366'"
      ]
     },
     "execution_count": 2,
     "metadata": {},
     "output_type": "execute_result"
    },
    {
     "data": {
      "text/html": [
       "<h3>$\\delta$ = 0</h3>"
      ],
      "text/plain": [
       "<IPython.core.display.HTML object>"
      ]
     },
     "execution_count": 2,
     "metadata": {},
     "output_type": "execute_result"
    },
    {
     "data": {
      "text/html": [
       "<h4><center>Alternate H: two_sided</center></h4>"
      ],
      "text/plain": [
       "<IPython.core.display.HTML object>"
      ]
     },
     "execution_count": 2,
     "metadata": {},
     "output_type": "execute_result"
    },
    {
     "data": {
      "text/plain": [
       "('z score (normal CDF)', -1.1450173670383417, 0.2522019632828153)"
      ]
     },
     "execution_count": 2,
     "metadata": {},
     "output_type": "execute_result"
    },
    {
     "data": {
      "text/plain": [
       "('statsmodels ztest', (-1.1450173670383417, 0.2522019632828153))"
      ]
     },
     "execution_count": 2,
     "metadata": {},
     "output_type": "execute_result"
    },
    {
     "data": {
      "text/plain": [
       "('t score (student CDF)', -1.1450173670383417, 0.26156414618801027)"
      ]
     },
     "execution_count": 2,
     "metadata": {},
     "output_type": "execute_result"
    },
    {
     "data": {
      "text/plain": [
       "('1 sample t-test', -1.145017367038342, 0.26156414618801016)"
      ]
     },
     "execution_count": 2,
     "metadata": {},
     "output_type": "execute_result"
    },
    {
     "data": {
      "text/html": [
       "<h4><center>Alternate H: left_side</center></h4>"
      ],
      "text/plain": [
       "<IPython.core.display.HTML object>"
      ]
     },
     "execution_count": 2,
     "metadata": {},
     "output_type": "execute_result"
    },
    {
     "data": {
      "text/plain": [
       "('z score (normal CDF)', -1.1450173670383417, 0.12610098164140765)"
      ]
     },
     "execution_count": 2,
     "metadata": {},
     "output_type": "execute_result"
    },
    {
     "data": {
      "text/plain": [
       "('statsmodels ztest', (-1.1450173670383417, 0.12610098164140765))"
      ]
     },
     "execution_count": 2,
     "metadata": {},
     "output_type": "execute_result"
    },
    {
     "data": {
      "text/plain": [
       "('t score (student CDF)', -1.1450173670383417, 0.13078207309400514)"
      ]
     },
     "execution_count": 2,
     "metadata": {},
     "output_type": "execute_result"
    },
    {
     "data": {
      "text/plain": [
       "('1 sample t-test (adjusted)', -1.145017367038342, 0.13078207309400508)"
      ]
     },
     "execution_count": 2,
     "metadata": {},
     "output_type": "execute_result"
    },
    {
     "data": {
      "text/plain": [
       "'t(x)=-1.145017367038342, ttest_1samp(x)/2=0.13078207309400508'"
      ]
     },
     "execution_count": 2,
     "metadata": {},
     "output_type": "execute_result"
    },
    {
     "data": {
      "text/html": [
       "<h4><center>Alternate H: right_side</center></h4>"
      ],
      "text/plain": [
       "<IPython.core.display.HTML object>"
      ]
     },
     "execution_count": 2,
     "metadata": {},
     "output_type": "execute_result"
    },
    {
     "data": {
      "text/plain": [
       "('z score (normal CDF)', -1.1450173670383417, 0.8738990183585924)"
      ]
     },
     "execution_count": 2,
     "metadata": {},
     "output_type": "execute_result"
    },
    {
     "data": {
      "text/plain": [
       "('statsmodels ztest', (-1.1450173670383417, 0.8738990183585924))"
      ]
     },
     "execution_count": 2,
     "metadata": {},
     "output_type": "execute_result"
    },
    {
     "data": {
      "text/plain": [
       "('t score (student CDF)', -1.1450173670383417, 0.8692179269059949)"
      ]
     },
     "execution_count": 2,
     "metadata": {},
     "output_type": "execute_result"
    },
    {
     "data": {
      "text/plain": [
       "('1 sample t-test (adjusted)', -1.145017367038342, 0.869217926905995)"
      ]
     },
     "execution_count": 2,
     "metadata": {},
     "output_type": "execute_result"
    },
    {
     "data": {
      "text/plain": [
       "'t(x)=-1.145017367038342, ttest_1samp(x)/2=0.13078207309400508'"
      ]
     },
     "execution_count": 2,
     "metadata": {},
     "output_type": "execute_result"
    },
    {
     "data": {
      "text/html": [
       "<h3>$\\delta$ = 0.5</h3>"
      ],
      "text/plain": [
       "<IPython.core.display.HTML object>"
      ]
     },
     "execution_count": 2,
     "metadata": {},
     "output_type": "execute_result"
    },
    {
     "data": {
      "text/html": [
       "<h4><center>Alternate H: two_sided</center></h4>"
      ],
      "text/plain": [
       "<IPython.core.display.HTML object>"
      ]
     },
     "execution_count": 2,
     "metadata": {},
     "output_type": "execute_result"
    },
    {
     "data": {
      "text/plain": [
       "('z score (normal CDF)', 1.897863999298091, 0.05771399984826409)"
      ]
     },
     "execution_count": 2,
     "metadata": {},
     "output_type": "execute_result"
    },
    {
     "data": {
      "text/plain": [
       "('statsmodels ztest', (1.897863999298091, 0.05771399984826409))"
      ]
     },
     "execution_count": 2,
     "metadata": {},
     "output_type": "execute_result"
    },
    {
     "data": {
      "text/plain": [
       "('t score (student CDF)', 1.897863999298091, 0.06770906624859512)"
      ]
     },
     "execution_count": 2,
     "metadata": {},
     "output_type": "execute_result"
    },
    {
     "data": {
      "text/plain": [
       "('1 sample t-test', 1.897863999298091, 0.06770906624859512)"
      ]
     },
     "execution_count": 2,
     "metadata": {},
     "output_type": "execute_result"
    },
    {
     "data": {
      "text/html": [
       "<h4><center>Alternate H: left_side</center></h4>"
      ],
      "text/plain": [
       "<IPython.core.display.HTML object>"
      ]
     },
     "execution_count": 2,
     "metadata": {},
     "output_type": "execute_result"
    },
    {
     "data": {
      "text/plain": [
       "('z score (normal CDF)', 1.897863999298091, 0.971143000075868)"
      ]
     },
     "execution_count": 2,
     "metadata": {},
     "output_type": "execute_result"
    },
    {
     "data": {
      "text/plain": [
       "('statsmodels ztest', (1.897863999298091, 0.971143000075868))"
      ]
     },
     "execution_count": 2,
     "metadata": {},
     "output_type": "execute_result"
    },
    {
     "data": {
      "text/plain": [
       "('t score (student CDF)', 1.897863999298091, 0.9661454668757025)"
      ]
     },
     "execution_count": 2,
     "metadata": {},
     "output_type": "execute_result"
    },
    {
     "data": {
      "text/plain": [
       "('1 sample t-test (adjusted)', 1.897863999298091, 0.9661454668757025)"
      ]
     },
     "execution_count": 2,
     "metadata": {},
     "output_type": "execute_result"
    },
    {
     "data": {
      "text/plain": [
       "'t(x)=1.897863999298091, ttest_1samp(x)/2=0.03385453312429756'"
      ]
     },
     "execution_count": 2,
     "metadata": {},
     "output_type": "execute_result"
    },
    {
     "data": {
      "text/html": [
       "<h4><center>Alternate H: right_side</center></h4>"
      ],
      "text/plain": [
       "<IPython.core.display.HTML object>"
      ]
     },
     "execution_count": 2,
     "metadata": {},
     "output_type": "execute_result"
    },
    {
     "data": {
      "text/plain": [
       "('z score (normal CDF)', 1.897863999298091, 0.028856999924132043)"
      ]
     },
     "execution_count": 2,
     "metadata": {},
     "output_type": "execute_result"
    },
    {
     "data": {
      "text/plain": [
       "('statsmodels ztest', (1.897863999298091, 0.028856999924132046))"
      ]
     },
     "execution_count": 2,
     "metadata": {},
     "output_type": "execute_result"
    },
    {
     "data": {
      "text/plain": [
       "('t score (student CDF)', 1.897863999298091, 0.03385453312429754)"
      ]
     },
     "execution_count": 2,
     "metadata": {},
     "output_type": "execute_result"
    },
    {
     "data": {
      "text/plain": [
       "('1 sample t-test (adjusted)', 1.897863999298091, 0.03385453312429756)"
      ]
     },
     "execution_count": 2,
     "metadata": {},
     "output_type": "execute_result"
    },
    {
     "data": {
      "text/plain": [
       "'t(x)=1.897863999298091, ttest_1samp(x)/2=0.03385453312429756'"
      ]
     },
     "execution_count": 2,
     "metadata": {},
     "output_type": "execute_result"
    }
   ],
   "source": [
    "# directly compute CDF value from normal distribution\n",
    "# use alternate hypothesis of \\lt, \\neq, \\gt\n",
    "# population mean and std\n",
    "# for two sided, multiple p_value by 2. the threshold is always 0.05\n",
    "deltas=[-.5, 0, .5]\n",
    "H_alternate=['two_sided', 'left_side', 'right_side']\n",
    "for delta in deltas:\n",
    "    HTML(h3.format(text=f\"$\\delta$ = {delta}\"))\n",
    "    mu, std, N = 10, 1, 30\n",
    "    mu_real = mu + delta\n",
    "    # generate data samples\n",
    "    # normal distribution\n",
    "    # normal_dist = stats.norm(mu_real, std)\n",
    "    # x = normal_dist.rvs(size=N, random_state=random_seed)\n",
    "    rng = np.random.RandomState(random_seed)\n",
    "    x = rng.randn(N)*std+mu+delta\n",
    "    \n",
    "    for h_alt in H_alternate:\n",
    "        HTML(h4_centered.format(text=f\"Alternate H: {h_alt}\"))\n",
    "        Z_dist = stats.norm(0, 1)\n",
    "        t_dist = stats.t(N-1)\n",
    "\n",
    "        Z = (x.mean()-mu)/(x.std()/np.sqrt(N-1))\n",
    "        t = (x.mean()-mu)/(x.std()/np.sqrt(N-1))\n",
    "\n",
    "        if h_alt == 'two_sided':\n",
    "            p = Z_dist.cdf(-abs(Z))\n",
    "            \"z score (normal CDF)\", Z, p*2\n",
    "            \"statsmodels ztest\", sm.stats.ztest(x, value=mu)\n",
    "            p_t = t_dist.cdf(-abs(t))\n",
    "            \"t score (student CDF)\", t, p_t*2\n",
    "            t, p = stats.ttest_1samp(x, popmean=mu)\n",
    "            \"1 sample t-test\", t, p\n",
    "        elif h_alt == 'left_side':\n",
    "            p = Z_dist.cdf(Z)\n",
    "            \"z score (normal CDF)\", Z, p\n",
    "            \"statsmodels ztest\", sm.stats.ztest(x, value=mu, alternative='smaller')\n",
    "            p_t = t_dist.cdf(t)\n",
    "            \"t score (student CDF)\", t, p_t\n",
    "            t, p = stats.ttest_1samp(x, popmean=mu)\n",
    "            \"1 sample t-test (adjusted)\", t, (p/2 if t<0 else 1-p/2)\n",
    "            f\"t(x)={t}, ttest_1samp(x)/2={p/2}\"\n",
    "        else: # 'right_side'\n",
    "            p = 1-Z_dist.cdf(Z)\n",
    "            \"z score (normal CDF)\", Z, p\n",
    "            \"statsmodels ztest\", sm.stats.ztest(x, value=mu, alternative='larger')\n",
    "            p_t = 1-t_dist.cdf(t)\n",
    "            \"t score (student CDF)\", t, p_t\n",
    "            t, p = stats.ttest_1samp(x, popmean=mu)\n",
    "            \"1 sample t-test (adjusted)\", t, (p/2 if t>0 else 1-p/2)\n",
    "            f\"t(x)={t}, ttest_1samp(x)/2={p/2}\"\n",
    "\n",
    "pass"
   ]
  },
  {
   "cell_type": "markdown",
   "metadata": {},
   "source": [
    "### One sample mean, $z$ and $t$ test, Rayleigh distribution\n",
    "Whether sample mean is significantly different from population mean (hypothesis)\n",
    "- normally distributed population, $\\sigma$ unknown OR non-normal distribution\n",
    "- sample size < 30, independent samples\n",
    " - sample mean $\\bar x$, pop mean $\\mu$\n",
    " - $s$ is sample standard deviation, $n$ sample size\n",
    " - t-value: $\\begin{align}\\frac{\\bar x - \\mu}{\\hat s\\big/\\sqrt n}\\end{align}$\n",
    " - DF (degree of freedom): n-1\n",
    "\n",
    "Example: rayleigh distribution (asymmetric) of mean 1.2533+$\\delta$, std 0.655, 20 samples. Test Hypothesis $\\neq,\\ \\le,\\ \\ge$ population mean.\n",
    "- $H_0:\\ \\mu=\\mu_{pop}$, \n",
    "- **NOTE:** rayleigh is asymmetrical distribution, therefore results for -delta and delta are different.\n",
    "- When N increase, ttest and ztest results do not seem to converge?"
   ]
  },
  {
   "cell_type": "code",
   "execution_count": 4,
   "metadata": {
    "scrolled": false
   },
   "outputs": [
    {
     "data": {
      "text/html": [
       "<h3>$\\delta$ = -0.1</h3>"
      ],
      "text/plain": [
       "<IPython.core.display.HTML object>"
      ]
     },
     "execution_count": 4,
     "metadata": {},
     "output_type": "execute_result"
    },
    {
     "data": {
      "text/html": [
       "<h4><center>Alternate H: two_sided</center></h4>"
      ],
      "text/plain": [
       "<IPython.core.display.HTML object>"
      ]
     },
     "execution_count": 4,
     "metadata": {},
     "output_type": "execute_result"
    },
    {
     "data": {
      "text/plain": [
       "('z score (normal CDF)', -2.1029151868161393, 0.03547318404105932)"
      ]
     },
     "execution_count": 4,
     "metadata": {},
     "output_type": "execute_result"
    },
    {
     "data": {
      "text/plain": [
       "('statsmodels ztest', (-2.1029151868161393, 0.03547318404105932))"
      ]
     },
     "execution_count": 4,
     "metadata": {},
     "output_type": "execute_result"
    },
    {
     "data": {
      "text/plain": [
       "('t score (student CDF)', -2.1029151868161393, 0.04426685677652784)"
      ]
     },
     "execution_count": 4,
     "metadata": {},
     "output_type": "execute_result"
    },
    {
     "data": {
      "text/plain": [
       "('1 sample t-test', -2.1029151868161393, 0.04426685677652784)"
      ]
     },
     "execution_count": 4,
     "metadata": {},
     "output_type": "execute_result"
    },
    {
     "data": {
      "text/html": [
       "<h4><center>Alternate H: left_side</center></h4>"
      ],
      "text/plain": [
       "<IPython.core.display.HTML object>"
      ]
     },
     "execution_count": 4,
     "metadata": {},
     "output_type": "execute_result"
    },
    {
     "data": {
      "text/plain": [
       "('z score (normal CDF)', -2.1029151868161393, 0.01773659202052966)"
      ]
     },
     "execution_count": 4,
     "metadata": {},
     "output_type": "execute_result"
    },
    {
     "data": {
      "text/plain": [
       "('statsmodels ztest', (-2.1029151868161393, 0.01773659202052966))"
      ]
     },
     "execution_count": 4,
     "metadata": {},
     "output_type": "execute_result"
    },
    {
     "data": {
      "text/plain": [
       "('t score (student CDF)', -2.1029151868161393, 0.02213342838826392)"
      ]
     },
     "execution_count": 4,
     "metadata": {},
     "output_type": "execute_result"
    },
    {
     "data": {
      "text/plain": [
       "('1 sample t-test (adjusted)', -2.1029151868161393, 0.02213342838826392)"
      ]
     },
     "execution_count": 4,
     "metadata": {},
     "output_type": "execute_result"
    },
    {
     "data": {
      "text/plain": [
       "'t(x)=-2.1029151868161393, ttest_1samp(x)/2=0.02213342838826392'"
      ]
     },
     "execution_count": 4,
     "metadata": {},
     "output_type": "execute_result"
    },
    {
     "data": {
      "text/html": [
       "<h4><center>Alternate H: right_side</center></h4>"
      ],
      "text/plain": [
       "<IPython.core.display.HTML object>"
      ]
     },
     "execution_count": 4,
     "metadata": {},
     "output_type": "execute_result"
    },
    {
     "data": {
      "text/plain": [
       "('z score (normal CDF)', -2.1029151868161393, 0.9822634079794703)"
      ]
     },
     "execution_count": 4,
     "metadata": {},
     "output_type": "execute_result"
    },
    {
     "data": {
      "text/plain": [
       "('statsmodels ztest', (-2.1029151868161393, 0.9822634079794703))"
      ]
     },
     "execution_count": 4,
     "metadata": {},
     "output_type": "execute_result"
    },
    {
     "data": {
      "text/plain": [
       "('t score (student CDF)', -2.1029151868161393, 0.9778665716117361)"
      ]
     },
     "execution_count": 4,
     "metadata": {},
     "output_type": "execute_result"
    },
    {
     "data": {
      "text/plain": [
       "('1 sample t-test (adjusted)', -2.1029151868161393, 0.9778665716117361)"
      ]
     },
     "execution_count": 4,
     "metadata": {},
     "output_type": "execute_result"
    },
    {
     "data": {
      "text/plain": [
       "'t(x)=-2.1029151868161393, ttest_1samp(x)/2=0.02213342838826392'"
      ]
     },
     "execution_count": 4,
     "metadata": {},
     "output_type": "execute_result"
    },
    {
     "data": {
      "text/html": [
       "<h3>$\\delta$ = 0</h3>"
      ],
      "text/plain": [
       "<IPython.core.display.HTML object>"
      ]
     },
     "execution_count": 4,
     "metadata": {},
     "output_type": "execute_result"
    },
    {
     "data": {
      "text/html": [
       "<h4><center>Alternate H: two_sided</center></h4>"
      ],
      "text/plain": [
       "<IPython.core.display.HTML object>"
      ]
     },
     "execution_count": 4,
     "metadata": {},
     "output_type": "execute_result"
    },
    {
     "data": {
      "text/plain": [
       "('z score (normal CDF)', -1.2028032052199853, 0.2290524841756253)"
      ]
     },
     "execution_count": 4,
     "metadata": {},
     "output_type": "execute_result"
    },
    {
     "data": {
      "text/plain": [
       "('statsmodels ztest', (-1.2028032052199853, 0.2290524841756253))"
      ]
     },
     "execution_count": 4,
     "metadata": {},
     "output_type": "execute_result"
    },
    {
     "data": {
      "text/plain": [
       "('t score (student CDF)', -1.2028032052199853, 0.23878100888073334)"
      ]
     },
     "execution_count": 4,
     "metadata": {},
     "output_type": "execute_result"
    },
    {
     "data": {
      "text/plain": [
       "('1 sample t-test', -1.2028032052199853, 0.23878100888073334)"
      ]
     },
     "execution_count": 4,
     "metadata": {},
     "output_type": "execute_result"
    },
    {
     "data": {
      "text/html": [
       "<h4><center>Alternate H: left_side</center></h4>"
      ],
      "text/plain": [
       "<IPython.core.display.HTML object>"
      ]
     },
     "execution_count": 4,
     "metadata": {},
     "output_type": "execute_result"
    },
    {
     "data": {
      "text/plain": [
       "('z score (normal CDF)', -1.2028032052199853, 0.11452624208781265)"
      ]
     },
     "execution_count": 4,
     "metadata": {},
     "output_type": "execute_result"
    },
    {
     "data": {
      "text/plain": [
       "('statsmodels ztest', (-1.2028032052199853, 0.11452624208781265))"
      ]
     },
     "execution_count": 4,
     "metadata": {},
     "output_type": "execute_result"
    },
    {
     "data": {
      "text/plain": [
       "('t score (student CDF)', -1.2028032052199853, 0.11939050444036667)"
      ]
     },
     "execution_count": 4,
     "metadata": {},
     "output_type": "execute_result"
    },
    {
     "data": {
      "text/plain": [
       "('1 sample t-test (adjusted)', -1.2028032052199853, 0.11939050444036667)"
      ]
     },
     "execution_count": 4,
     "metadata": {},
     "output_type": "execute_result"
    },
    {
     "data": {
      "text/plain": [
       "'t(x)=-1.2028032052199853, ttest_1samp(x)/2=0.11939050444036667'"
      ]
     },
     "execution_count": 4,
     "metadata": {},
     "output_type": "execute_result"
    },
    {
     "data": {
      "text/html": [
       "<h4><center>Alternate H: right_side</center></h4>"
      ],
      "text/plain": [
       "<IPython.core.display.HTML object>"
      ]
     },
     "execution_count": 4,
     "metadata": {},
     "output_type": "execute_result"
    },
    {
     "data": {
      "text/plain": [
       "('z score (normal CDF)', -1.2028032052199853, 0.8854737579121874)"
      ]
     },
     "execution_count": 4,
     "metadata": {},
     "output_type": "execute_result"
    },
    {
     "data": {
      "text/plain": [
       "('statsmodels ztest', (-1.2028032052199853, 0.8854737579121874))"
      ]
     },
     "execution_count": 4,
     "metadata": {},
     "output_type": "execute_result"
    },
    {
     "data": {
      "text/plain": [
       "('t score (student CDF)', -1.2028032052199853, 0.8806094955596333)"
      ]
     },
     "execution_count": 4,
     "metadata": {},
     "output_type": "execute_result"
    },
    {
     "data": {
      "text/plain": [
       "('1 sample t-test (adjusted)', -1.2028032052199853, 0.8806094955596333)"
      ]
     },
     "execution_count": 4,
     "metadata": {},
     "output_type": "execute_result"
    },
    {
     "data": {
      "text/plain": [
       "'t(x)=-1.2028032052199853, ttest_1samp(x)/2=0.11939050444036667'"
      ]
     },
     "execution_count": 4,
     "metadata": {},
     "output_type": "execute_result"
    },
    {
     "data": {
      "text/html": [
       "<h3>$\\delta$ = 0.1</h3>"
      ],
      "text/plain": [
       "<IPython.core.display.HTML object>"
      ]
     },
     "execution_count": 4,
     "metadata": {},
     "output_type": "execute_result"
    },
    {
     "data": {
      "text/html": [
       "<h4><center>Alternate H: two_sided</center></h4>"
      ],
      "text/plain": [
       "<IPython.core.display.HTML object>"
      ]
     },
     "execution_count": 4,
     "metadata": {},
     "output_type": "execute_result"
    },
    {
     "data": {
      "text/plain": [
       "('z score (normal CDF)', -0.3026912236238317, 0.7621251867594626)"
      ]
     },
     "execution_count": 4,
     "metadata": {},
     "output_type": "execute_result"
    },
    {
     "data": {
      "text/plain": [
       "('statsmodels ztest', (-0.30269122362383166, 0.7621251867594626))"
      ]
     },
     "execution_count": 4,
     "metadata": {},
     "output_type": "execute_result"
    },
    {
     "data": {
      "text/plain": [
       "('t score (student CDF)', -0.3026912236238317, 0.7642857679517796)"
      ]
     },
     "execution_count": 4,
     "metadata": {},
     "output_type": "execute_result"
    },
    {
     "data": {
      "text/plain": [
       "('1 sample t-test', -0.30269122362383166, 0.7642857679517797)"
      ]
     },
     "execution_count": 4,
     "metadata": {},
     "output_type": "execute_result"
    },
    {
     "data": {
      "text/html": [
       "<h4><center>Alternate H: left_side</center></h4>"
      ],
      "text/plain": [
       "<IPython.core.display.HTML object>"
      ]
     },
     "execution_count": 4,
     "metadata": {},
     "output_type": "execute_result"
    },
    {
     "data": {
      "text/plain": [
       "('z score (normal CDF)', -0.3026912236238317, 0.3810625933797313)"
      ]
     },
     "execution_count": 4,
     "metadata": {},
     "output_type": "execute_result"
    },
    {
     "data": {
      "text/plain": [
       "('statsmodels ztest', (-0.30269122362383166, 0.3810625933797313))"
      ]
     },
     "execution_count": 4,
     "metadata": {},
     "output_type": "execute_result"
    },
    {
     "data": {
      "text/plain": [
       "('t score (student CDF)', -0.3026912236238317, 0.3821428839758898)"
      ]
     },
     "execution_count": 4,
     "metadata": {},
     "output_type": "execute_result"
    },
    {
     "data": {
      "text/plain": [
       "('1 sample t-test (adjusted)', -0.30269122362383166, 0.38214288397588986)"
      ]
     },
     "execution_count": 4,
     "metadata": {},
     "output_type": "execute_result"
    },
    {
     "data": {
      "text/plain": [
       "'t(x)=-0.30269122362383166, ttest_1samp(x)/2=0.38214288397588986'"
      ]
     },
     "execution_count": 4,
     "metadata": {},
     "output_type": "execute_result"
    },
    {
     "data": {
      "text/html": [
       "<h4><center>Alternate H: right_side</center></h4>"
      ],
      "text/plain": [
       "<IPython.core.display.HTML object>"
      ]
     },
     "execution_count": 4,
     "metadata": {},
     "output_type": "execute_result"
    },
    {
     "data": {
      "text/plain": [
       "('z score (normal CDF)', -0.3026912236238317, 0.6189374066202686)"
      ]
     },
     "execution_count": 4,
     "metadata": {},
     "output_type": "execute_result"
    },
    {
     "data": {
      "text/plain": [
       "('statsmodels ztest', (-0.30269122362383166, 0.6189374066202686))"
      ]
     },
     "execution_count": 4,
     "metadata": {},
     "output_type": "execute_result"
    },
    {
     "data": {
      "text/plain": [
       "('t score (student CDF)', -0.3026912236238317, 0.6178571160241102)"
      ]
     },
     "execution_count": 4,
     "metadata": {},
     "output_type": "execute_result"
    },
    {
     "data": {
      "text/plain": [
       "('1 sample t-test (adjusted)', -0.30269122362383166, 0.6178571160241102)"
      ]
     },
     "execution_count": 4,
     "metadata": {},
     "output_type": "execute_result"
    },
    {
     "data": {
      "text/plain": [
       "'t(x)=-0.30269122362383166, ttest_1samp(x)/2=0.38214288397588986'"
      ]
     },
     "execution_count": 4,
     "metadata": {},
     "output_type": "execute_result"
    }
   ],
   "source": [
    "# directly compute CDF value from normal distribution\n",
    "# population mean and std\n",
    "deltas = [-0.1, 0, 0.1]\n",
    "\n",
    "for delta in deltas:\n",
    "    HTML(h3.format(text=f\"$\\delta$ = {delta}\"))\n",
    "\n",
    "    # generate rayleight distribution rv\n",
    "    mu, std, N = 1.2533, 1, 30\n",
    "    mu_real = mu + delta\n",
    "    rayleigh_dist = stats.rayleigh(loc=delta)\n",
    "    x = rayleigh_dist.rvs(N, random_state=random_seed)\n",
    "    # 'Mean, Variance', uniform_dist.stats('mv')\n",
    "    # uniform distribution\n",
    "    #mu, std, N = 0.5, 1, 100\n",
    "    #uniform_dist = stats.uniform(loc=delta)\n",
    "    #x = uniform_dist.rvs(N, random_state=random_seed)\n",
    "    #'Mean, Variance', uniform_dist.stats('mv')\n",
    "\n",
    "    for h_alt in H_alternate:\n",
    "        HTML(h4_centered.format(text=f\"Alternate H: {h_alt}\"))\n",
    "        Z_dist = stats.norm(0, 1)\n",
    "        t_dist = stats.t(N-1)\n",
    "        Z = (x.mean()-mu)/(x.std()/np.sqrt(N-1))\n",
    "        t = (x.mean()-mu)/(x.std()/np.sqrt(N-1))\n",
    "\n",
    "        if h_alt == 'two_sided':\n",
    "            p = Z_dist.cdf(-abs(Z))\n",
    "            \"z score (normal CDF)\", Z, p*2\n",
    "            \"statsmodels ztest\", sm.stats.ztest(x, value=mu)\n",
    "            p_t = t_dist.cdf(-abs(t))\n",
    "            \"t score (student CDF)\", t, p_t*2\n",
    "            t, p = stats.ttest_1samp(x, popmean=mu)\n",
    "            \"1 sample t-test\", t, p\n",
    "        elif h_alt == 'left_side':\n",
    "            p = Z_dist.cdf(Z)\n",
    "            \"z score (normal CDF)\", Z, p\n",
    "            \"statsmodels ztest\", sm.stats.ztest(x, value=mu, alternative='smaller')\n",
    "            p_t = t_dist.cdf(t)\n",
    "            \"t score (student CDF)\", t, p_t\n",
    "            t, p = stats.ttest_1samp(x, popmean=mu)\n",
    "            \"1 sample t-test (adjusted)\", t, (p/2 if t<0 else 1-p/2)\n",
    "            f\"t(x)={t}, ttest_1samp(x)/2={p/2}\"\n",
    "        else: # 'right_side'\n",
    "            p = 1-Z_dist.cdf(Z)\n",
    "            \"z score (normal CDF)\", Z, p\n",
    "            \"statsmodels ztest\", sm.stats.ztest(x, value=mu, alternative='larger')\n",
    "            p_t = 1-t_dist.cdf(t)\n",
    "            \"t score (student CDF)\", t, p_t\n",
    "            t, p = stats.ttest_1samp(x, popmean=mu)\n",
    "            \"1 sample t-test (adjusted)\", t, (p/2 if t>0 else 1-p/2)\n",
    "            f\"t(x)={t}, ttest_1samp(x)/2={p/2}\"\n",
    "\n",
    "pass"
   ]
  },
  {
   "cell_type": "markdown",
   "metadata": {},
   "source": [
    "### Two-sample mean difference (indenpendent), $z$ and $t$ test,\n",
    "Whether two sample means are different from each other\n",
    "- two normally distributed and independent population, $\\sigma$ known, or\n",
    "- $\\sigma$ unknown, sample size > 30, independent samples\n",
    " - sample mean $\\bar x_1$, $\\bar x_2$, pop mean difference $\\Delta$\n",
    " - pop deviation $\\sigma_1$, $\\sigma_2$\n",
    " - Z-score: $\\begin{align}\\frac{\\bar x_1-\\bar x_2 - \\Delta}{\\sqrt{\\frac{\\sigma_1^2}{n_1} + \\frac{\\sigma_1^2}{n_2}}}\\end{align}$\n",
    "\n",
    "**OR**\n",
    "- two normally distributed and independent population, $\\sigma$ unknown\n",
    "- sample size > 25, independent samples\n",
    " - sample mean $\\bar x_1$, $\\bar x_2$, pop mean difference $\\Delta$\\\n",
    " - sample deviation $\\hat s_1$, $\\hat s_2$\n",
    " - t-stats: $\\begin{align}\\frac{\\bar x_1-\\bar x_2 - \\Delta}{\\sqrt{\\frac{\\hat s_1^2}{n_1} + \\frac{\\hat s_1^2}{n_2}}}\\end{align}$\n",
    " - DF: $n_1+n_2-1$\n",
    "\n",
    "This is to compare means of smaples from two independent distribution\n",
    "- $H_0:\\ \\mu_1=\\mu_2$\n",
    "\n",
    "**NOTE:**\n",
    "- \"pooled\": equal variances, \"unpooled\": unequal variances\n",
    "- when compute sum of squares $(n-1) s^2$, either use n\\*x.var() or (n-1)\\*x.var(ddof=1)\n",
    "- scipy.stats.ttest_ind always compute two sided p value of abs(t). Need to adjust for $H_2$ and $H_3$"
   ]
  },
  {
   "cell_type": "code",
   "execution_count": 5,
   "metadata": {
    "scrolled": false
   },
   "outputs": [
    {
     "data": {
      "text/html": [
       "<h3>$\\delta$ = -0.25</h3>"
      ],
      "text/plain": [
       "<IPython.core.display.HTML object>"
      ]
     },
     "execution_count": 5,
     "metadata": {},
     "output_type": "execute_result"
    },
    {
     "data": {
      "text/html": [
       "<h4><center>Alternate H: two_sided</center></h4>"
      ],
      "text/plain": [
       "<IPython.core.display.HTML object>"
      ]
     },
     "execution_count": 5,
     "metadata": {},
     "output_type": "execute_result"
    },
    {
     "data": {
      "text/plain": [
       "('z score (normal CDF)', 1.7855909011666655, 0.0741655212071542)"
      ]
     },
     "execution_count": 5,
     "metadata": {},
     "output_type": "execute_result"
    },
    {
     "data": {
      "text/plain": [
       "('statsmodels ztest', (1.7978928742848388, 0.07219398556160762))"
      ]
     },
     "execution_count": 5,
     "metadata": {},
     "output_type": "execute_result"
    },
    {
     "data": {
      "text/plain": [
       "('t score (pooled student CDF)', 1.7978928742848388, 0.077891023026402)"
      ]
     },
     "execution_count": 5,
     "metadata": {},
     "output_type": "execute_result"
    },
    {
     "data": {
      "text/plain": [
       "('t score (unpooled student CDF)', 1.7855909011666655, 0.08026300031956757)"
      ]
     },
     "execution_count": 5,
     "metadata": {},
     "output_type": "execute_result"
    },
    {
     "data": {
      "text/plain": [
       "('2 sample t-test (scipy)', 1.7978928742848388, 0.077891023026402)"
      ]
     },
     "execution_count": 5,
     "metadata": {},
     "output_type": "execute_result"
    },
    {
     "data": {
      "text/plain": [
       "('2 sample t-test (sm pooled)', 1.7978928742848246, 0.0779, 53.0000)"
      ]
     },
     "execution_count": 5,
     "metadata": {},
     "output_type": "execute_result"
    },
    {
     "data": {
      "text/plain": [
       "('2 sample t-test (sm unpooled)', 1.785590901166651, 0.0803, 49.6581)"
      ]
     },
     "execution_count": 5,
     "metadata": {},
     "output_type": "execute_result"
    },
    {
     "data": {
      "text/html": [
       "<h4><center>Alternate H: left_side</center></h4>"
      ],
      "text/plain": [
       "<IPython.core.display.HTML object>"
      ]
     },
     "execution_count": 5,
     "metadata": {},
     "output_type": "execute_result"
    },
    {
     "data": {
      "text/plain": [
       "('z score (normal CDF)', 1.7855909011666655, 0.9629172393964229)"
      ]
     },
     "execution_count": 5,
     "metadata": {},
     "output_type": "execute_result"
    },
    {
     "data": {
      "text/plain": [
       "('statsmodels ztest', (1.7978928742848388, 0.9639030072191962))"
      ]
     },
     "execution_count": 5,
     "metadata": {},
     "output_type": "execute_result"
    },
    {
     "data": {
      "text/plain": [
       "('t score (pooled student CDF)', 1.7978928742848388, 0.077891023026402)"
      ]
     },
     "execution_count": 5,
     "metadata": {},
     "output_type": "execute_result"
    },
    {
     "data": {
      "text/plain": [
       "('t score (unpooled student CDF)', 1.7855909011666655, 0.08026300031956757)"
      ]
     },
     "execution_count": 5,
     "metadata": {},
     "output_type": "execute_result"
    },
    {
     "data": {
      "text/plain": [
       "('2 sample t-test (scipy)', 1.7978928742848388, 0.961054488486799)"
      ]
     },
     "execution_count": 5,
     "metadata": {},
     "output_type": "execute_result"
    },
    {
     "data": {
      "text/plain": [
       "('2 sample t-test (sm pooled)', 1.7978928742848246, 0.9611, 53.0000)"
      ]
     },
     "execution_count": 5,
     "metadata": {},
     "output_type": "execute_result"
    },
    {
     "data": {
      "text/plain": [
       "('2 sample t-test (sm unpooled)', 1.785590901166651, 0.9599, 49.6581)"
      ]
     },
     "execution_count": 5,
     "metadata": {},
     "output_type": "execute_result"
    },
    {
     "data": {
      "text/html": [
       "<h4><center>Alternate H: right_side</center></h4>"
      ],
      "text/plain": [
       "<IPython.core.display.HTML object>"
      ]
     },
     "execution_count": 5,
     "metadata": {},
     "output_type": "execute_result"
    },
    {
     "data": {
      "text/plain": [
       "('z score (normal CDF)', 1.7855909011666655, 0.03708276060357707)"
      ]
     },
     "execution_count": 5,
     "metadata": {},
     "output_type": "execute_result"
    },
    {
     "data": {
      "text/plain": [
       "('statsmodels ztest', (1.7978928742848388, 0.03609699278080381))"
      ]
     },
     "execution_count": 5,
     "metadata": {},
     "output_type": "execute_result"
    },
    {
     "data": {
      "text/plain": [
       "('t score (pooled student CDF)', 1.7978928742848388, 0.077891023026402)"
      ]
     },
     "execution_count": 5,
     "metadata": {},
     "output_type": "execute_result"
    },
    {
     "data": {
      "text/plain": [
       "('t score (unpooled student CDF)', 1.7855909011666655, 0.08026300031956757)"
      ]
     },
     "execution_count": 5,
     "metadata": {},
     "output_type": "execute_result"
    },
    {
     "data": {
      "text/plain": [
       "('2 sample t-test (scipy)', 1.7978928742848388, 0.038945511513201)"
      ]
     },
     "execution_count": 5,
     "metadata": {},
     "output_type": "execute_result"
    },
    {
     "data": {
      "text/plain": [
       "('2 sample t-test (sm pooled)', 1.7978928742848246, 0.0389, 53.0000)"
      ]
     },
     "execution_count": 5,
     "metadata": {},
     "output_type": "execute_result"
    },
    {
     "data": {
      "text/plain": [
       "('2 sample t-test (sm unpooled)', 1.785590901166651, 0.0401, 49.6581)"
      ]
     },
     "execution_count": 5,
     "metadata": {},
     "output_type": "execute_result"
    },
    {
     "data": {
      "text/html": [
       "<h3>$\\delta$ = 0.25</h3>"
      ],
      "text/plain": [
       "<IPython.core.display.HTML object>"
      ]
     },
     "execution_count": 5,
     "metadata": {},
     "output_type": "execute_result"
    },
    {
     "data": {
      "text/html": [
       "<h4><center>Alternate H: two_sided</center></h4>"
      ],
      "text/plain": [
       "<IPython.core.display.HTML object>"
      ]
     },
     "execution_count": 5,
     "metadata": {},
     "output_type": "execute_result"
    },
    {
     "data": {
      "text/plain": [
       "('z score (normal CDF)', -0.2081911703809967, 0.8350797025643513)"
      ]
     },
     "execution_count": 5,
     "metadata": {},
     "output_type": "execute_result"
    },
    {
     "data": {
      "text/plain": [
       "('statsmodels ztest', (-0.2096255203095244, 0.8339599598360039))"
      ]
     },
     "execution_count": 5,
     "metadata": {},
     "output_type": "execute_result"
    },
    {
     "data": {
      "text/plain": [
       "('t score (pooled student CDF)', -0.2096255203095244, 0.8347636730522061)"
      ]
     },
     "execution_count": 5,
     "metadata": {},
     "output_type": "execute_result"
    },
    {
     "data": {
      "text/plain": [
       "('t score (unpooled student CDF)', -0.2081911703809967, 0.8359298670679491)"
      ]
     },
     "execution_count": 5,
     "metadata": {},
     "output_type": "execute_result"
    },
    {
     "data": {
      "text/plain": [
       "('2 sample t-test (scipy)', -0.2096255203095244, 0.8347636730522061)"
      ]
     },
     "execution_count": 5,
     "metadata": {},
     "output_type": "execute_result"
    },
    {
     "data": {
      "text/plain": [
       "('2 sample t-test (sm pooled)', -0.20962552030953863, 0.8348, 53.0000)"
      ]
     },
     "execution_count": 5,
     "metadata": {},
     "output_type": "execute_result"
    },
    {
     "data": {
      "text/plain": [
       "('2 sample t-test (sm unpooled)', -0.20819117038101081, 0.8359, 49.6581)"
      ]
     },
     "execution_count": 5,
     "metadata": {},
     "output_type": "execute_result"
    },
    {
     "data": {
      "text/html": [
       "<h4><center>Alternate H: left_side</center></h4>"
      ],
      "text/plain": [
       "<IPython.core.display.HTML object>"
      ]
     },
     "execution_count": 5,
     "metadata": {},
     "output_type": "execute_result"
    },
    {
     "data": {
      "text/plain": [
       "('z score (normal CDF)', -0.2081911703809967, 0.41753985128217563)"
      ]
     },
     "execution_count": 5,
     "metadata": {},
     "output_type": "execute_result"
    },
    {
     "data": {
      "text/plain": [
       "('statsmodels ztest', (-0.2096255203095244, 0.41697997991800195))"
      ]
     },
     "execution_count": 5,
     "metadata": {},
     "output_type": "execute_result"
    },
    {
     "data": {
      "text/plain": [
       "('t score (pooled student CDF)', -0.2096255203095244, 0.8347636730522061)"
      ]
     },
     "execution_count": 5,
     "metadata": {},
     "output_type": "execute_result"
    },
    {
     "data": {
      "text/plain": [
       "('t score (unpooled student CDF)', -0.2081911703809967, 0.8359298670679491)"
      ]
     },
     "execution_count": 5,
     "metadata": {},
     "output_type": "execute_result"
    },
    {
     "data": {
      "text/plain": [
       "('2 sample t-test (scipy)', -0.2096255203095244, 0.41738183652610306)"
      ]
     },
     "execution_count": 5,
     "metadata": {},
     "output_type": "execute_result"
    },
    {
     "data": {
      "text/plain": [
       "('2 sample t-test (sm pooled)', -0.20962552030953863, 0.4174, 53.0000)"
      ]
     },
     "execution_count": 5,
     "metadata": {},
     "output_type": "execute_result"
    },
    {
     "data": {
      "text/plain": [
       "('2 sample t-test (sm unpooled)', -0.20819117038101081, 0.4180, 49.6581)"
      ]
     },
     "execution_count": 5,
     "metadata": {},
     "output_type": "execute_result"
    },
    {
     "data": {
      "text/html": [
       "<h4><center>Alternate H: right_side</center></h4>"
      ],
      "text/plain": [
       "<IPython.core.display.HTML object>"
      ]
     },
     "execution_count": 5,
     "metadata": {},
     "output_type": "execute_result"
    },
    {
     "data": {
      "text/plain": [
       "('z score (normal CDF)', -0.2081911703809967, 0.5824601487178244)"
      ]
     },
     "execution_count": 5,
     "metadata": {},
     "output_type": "execute_result"
    },
    {
     "data": {
      "text/plain": [
       "('statsmodels ztest', (-0.2096255203095244, 0.583020020081998))"
      ]
     },
     "execution_count": 5,
     "metadata": {},
     "output_type": "execute_result"
    },
    {
     "data": {
      "text/plain": [
       "('t score (pooled student CDF)', -0.2096255203095244, 0.8347636730522061)"
      ]
     },
     "execution_count": 5,
     "metadata": {},
     "output_type": "execute_result"
    },
    {
     "data": {
      "text/plain": [
       "('t score (unpooled student CDF)', -0.2081911703809967, 0.8359298670679491)"
      ]
     },
     "execution_count": 5,
     "metadata": {},
     "output_type": "execute_result"
    },
    {
     "data": {
      "text/plain": [
       "('2 sample t-test (scipy)', -0.2096255203095244, 0.5826181634738969)"
      ]
     },
     "execution_count": 5,
     "metadata": {},
     "output_type": "execute_result"
    },
    {
     "data": {
      "text/plain": [
       "('2 sample t-test (sm pooled)', -0.20962552030953863, 0.5826, 53.0000)"
      ]
     },
     "execution_count": 5,
     "metadata": {},
     "output_type": "execute_result"
    },
    {
     "data": {
      "text/plain": [
       "('2 sample t-test (sm unpooled)', -0.20819117038101081, 0.5820, 49.6581)"
      ]
     },
     "execution_count": 5,
     "metadata": {},
     "output_type": "execute_result"
    }
   ],
   "source": [
    "# directly compute CDF value from normal distribution\n",
    "# use alternate hypothesis of \\lt, \\neq, \\gt\n",
    "# population mean and std\n",
    "# for two sided, multiple p_value by 2. the threshold is always 0.05\n",
    "deltas=[-.25, 0.25]\n",
    "H_alternate=['two_sided', 'left_side', 'right_side']\n",
    "for delta in deltas:\n",
    "    HTML(h3.format(text=f\"$\\delta$ = {delta}\"))\n",
    "    mu, std, n1, n2 = 10, 1, 25, 30\n",
    "    mu_real = mu + delta\n",
    "    # generate data samples\n",
    "    # normal distribution\n",
    "    dist1 = stats.norm(mu, std)\n",
    "    dist2 = stats.norm(mu_real, std)\n",
    "    x1 = dist1.rvs(size=n1, random_state=random_seed)\n",
    "    x2 = dist2.rvs(size=n2, random_state=(random_seed*2))\n",
    "    \n",
    "    for h_alt in H_alternate:\n",
    "        HTML(h4_centered.format(text=f\"Alternate H: {h_alt}\"))\n",
    "        Z_dist = stats.norm(0, 1)\n",
    "        t_dist = stats.t(n1+n2-2)\n",
    "\n",
    "        Z = (x1.mean()-x2.mean())/np.sqrt(x1.var()/(n1-1)+x2.var()/(n2-1))\n",
    "        s_p = ((n1-1)*x1.var(ddof=1) + (n2-1)*x2.var(ddof=1))/(n1+n2-2)\n",
    "        t = (x1.mean()-x2.mean())/(np.sqrt(s_p*(1/n1+1/n2)))\n",
    "\n",
    "        t_unpooled = (x1.mean()-x2.mean())/np.sqrt(x1.var()/(n1-1)+x2.var()/(n2-1))\n",
    "        df_unpooled = (x1.var()/n1+x2.var()/n2)**2/( (x1.var()/n1)**2/(n1-1)+(x2.var()/n2)**2/(n2-1))\n",
    "        t_dist_unpooled = stats.t(df_unpooled)\n",
    "\n",
    "        if h_alt == 'two_sided':\n",
    "            p = Z_dist.cdf(-abs(Z))\n",
    "            \"z score (normal CDF)\", Z, p*2\n",
    "            \"statsmodels ztest\", sm.stats.ztest(x1, x2)\n",
    "            p_t = t_dist.cdf(-abs(t))\n",
    "            \"t score (pooled student CDF)\", t, p_t*2\n",
    "            p_t = t_dist_unpooled.cdf(-abs(t_unpooled))\n",
    "            \"t score (unpooled student CDF)\", t_unpooled, p_t*2\n",
    "            t, p = stats.ttest_ind(x1, x2, equal_var=True)   # equal var\n",
    "            \"2 sample t-test (scipy)\", t, p\n",
    "            t, p, df = sm.stats.ttest_ind(x1, x2, usevar='pooled')  # pooled: equal var, unequal: diff var\n",
    "            \"2 sample t-test (sm pooled)\", t, float(p), float(df)\n",
    "            t, p, df = sm.stats.ttest_ind(x1, x2, usevar='unequal')  # pooled: equal var, unequal: diff var\n",
    "            \"2 sample t-test (sm unpooled)\", t, float(p), float(df)\n",
    "\n",
    "        elif h_alt == 'left_side':\n",
    "            p = Z_dist.cdf(Z)\n",
    "            \"z score (normal CDF)\", Z, p\n",
    "            \"statsmodels ztest\", sm.stats.ztest(x1, x2, value=0, alternative='smaller')\n",
    "            p_t = t_dist.cdf(-abs(t))\n",
    "            \"t score (pooled student CDF)\", t, p_t*2\n",
    "            p_t = t_dist_unpooled.cdf(-abs(t_unpooled))\n",
    "            \"t score (unpooled student CDF)\", t_unpooled, p_t*2\n",
    "            t, p = stats.ttest_ind(x1, x2, equal_var=True)\n",
    "            \"2 sample t-test (scipy)\", t, (p/2 if t<0 else 1-p/2)\n",
    "            t, p, df = sm.stats.ttest_ind(x1, x2, alternative='smaller', usevar='pooled')  # pooled: equal var, unequal: diff var\n",
    "            \"2 sample t-test (sm pooled)\", t, float(p), float(df)\n",
    "            t, p, df = sm.stats.ttest_ind(x1, x2, alternative='smaller', usevar='unequal')  # pooled: equal var, unequal: diff var\n",
    "            \"2 sample t-test (sm unpooled)\", t, float(p), float(df)\n",
    "        else: # 'right_side'\n",
    "            p = 1-Z_dist.cdf(Z)\n",
    "            \"z score (normal CDF)\", Z, p\n",
    "            \"statsmodels ztest\", sm.stats.ztest(x1, x2, value=0, alternative='larger')\n",
    "            p_t = t_dist.cdf(-abs(t))\n",
    "            \"t score (pooled student CDF)\", t, p_t*2\n",
    "            p_t = t_dist_unpooled.cdf(-abs(t_unpooled))\n",
    "            \"t score (unpooled student CDF)\", t_unpooled, p_t*2\n",
    "            t, p = stats.ttest_ind(x1, x2, equal_var=True)\n",
    "            \"2 sample t-test (scipy)\", t, (p/2 if t>0 else 1-p/2)\n",
    "            t, p, df = sm.stats.ttest_ind(x1, x2, alternative='larger', usevar='pooled')  # pooled: equal var, unequal: diff var\n",
    "            \"2 sample t-test (sm pooled)\", t, float(p), float(df)\n",
    "            t, p, df = sm.stats.ttest_ind(x1, x2, alternative='larger', usevar='unequal')  # pooled: equal var, unequal: diff var\n",
    "            \"2 sample t-test (sm unpooled)\", t, float(p), float(df)\n",
    "\n",
    "pass"
   ]
  },
  {
   "cell_type": "markdown",
   "metadata": {},
   "source": [
    "### Paired difference $t$ test, compare means\n",
    "Whether two related sample means are significantly different. For example, blood pressure before and after medicine\n",
    "- Paired observation from a normal distribution\n",
    "- sample size < 25, independent samples\n",
    " - sample mean $\\bar x$, $\\Delta$ is hypothesized mean difference\n",
    " - $s$ is sample standard deviation of the differences, $n$ sample size\n",
    " - t-value: $\\begin{align}\\frac{\\bar x - \\Delta}{\\hat s\\big/\\sqrt n}\\end{align}$\n",
    " - DF (degree of freedom): n-1\n",
    "\n",
    "This is to compare means of smaples from paired distribution\n",
    "- $H_0:\\ \\mu(1)=\\mu(2)$\n",
    "- scipy.stats.ttest_rel always compute two sided p value of abs(t). Need to adjust for left side or right side $H_\\alpha$"
   ]
  },
  {
   "cell_type": "code",
   "execution_count": 6,
   "metadata": {
    "scrolled": false
   },
   "outputs": [
    {
     "data": {
      "text/html": [
       "<h3>$\\delta$ = -0.3</h3>"
      ],
      "text/plain": [
       "<IPython.core.display.HTML object>"
      ]
     },
     "execution_count": 6,
     "metadata": {},
     "output_type": "execute_result"
    },
    {
     "data": {
      "text/html": [
       "<h4><center>Alternate H: two_sided</center></h4>"
      ],
      "text/plain": [
       "<IPython.core.display.HTML object>"
      ]
     },
     "execution_count": 6,
     "metadata": {},
     "output_type": "execute_result"
    },
    {
     "data": {
      "text/plain": [
       "('t score (student CDF)', -0.6622248219302276, 0.5130558436835859)"
      ]
     },
     "execution_count": 6,
     "metadata": {},
     "output_type": "execute_result"
    },
    {
     "data": {
      "text/plain": [
       "('2 sample t-test (scipy)', -0.6622248219302276, 0.5130558436835859)"
      ]
     },
     "execution_count": 6,
     "metadata": {},
     "output_type": "execute_result"
    },
    {
     "data": {
      "text/plain": [
       "('2 sample t-test (sm pooled)', 0.7434720781582069)"
      ]
     },
     "execution_count": 6,
     "metadata": {},
     "output_type": "execute_result"
    },
    {
     "data": {
      "text/plain": [
       "((-0.6622248219302276, 0.7434720781582069, 29.0),\n",
       " (-0.6622248219302276, 0.25652792184179296, 29.0))"
      ]
     },
     "execution_count": 6,
     "metadata": {},
     "output_type": "execute_result"
    },
    {
     "data": {
      "text/html": [
       "<h4><center>Alternate H: left_side</center></h4>"
      ],
      "text/plain": [
       "<IPython.core.display.HTML object>"
      ]
     },
     "execution_count": 6,
     "metadata": {},
     "output_type": "execute_result"
    },
    {
     "data": {
      "text/plain": [
       "('t score (student CDF)', -0.6622248219302276, 0.25652792184179296)"
      ]
     },
     "execution_count": 6,
     "metadata": {},
     "output_type": "execute_result"
    },
    {
     "data": {
      "text/plain": [
       "('paired t-test (scipy)', -0.6622248219302276, 0.25652792184179296)"
      ]
     },
     "execution_count": 6,
     "metadata": {},
     "output_type": "execute_result"
    },
    {
     "data": {
      "text/plain": [
       "('paired t-test (statsmodels)', 0.7434720781582069)"
      ]
     },
     "execution_count": 6,
     "metadata": {},
     "output_type": "execute_result"
    },
    {
     "data": {
      "text/plain": [
       "((-0.6622248219302276, 0.7434720781582069, 29.0),\n",
       " (-0.6622248219302276, 0.25652792184179296, 29.0))"
      ]
     },
     "execution_count": 6,
     "metadata": {},
     "output_type": "execute_result"
    },
    {
     "data": {
      "text/html": [
       "<h4><center>Alternate H: right_side</center></h4>"
      ],
      "text/plain": [
       "<IPython.core.display.HTML object>"
      ]
     },
     "execution_count": 6,
     "metadata": {},
     "output_type": "execute_result"
    },
    {
     "data": {
      "text/plain": [
       "('t score (student CDF)', -0.6622248219302276, 0.743472078158207)"
      ]
     },
     "execution_count": 6,
     "metadata": {},
     "output_type": "execute_result"
    },
    {
     "data": {
      "text/plain": [
       "('paired t-test (scipy)', -0.6622248219302276, 0.743472078158207)"
      ]
     },
     "execution_count": 6,
     "metadata": {},
     "output_type": "execute_result"
    },
    {
     "data": {
      "text/plain": [
       "('paired t-test (statsmodels)', 0.7434720781582069)"
      ]
     },
     "execution_count": 6,
     "metadata": {},
     "output_type": "execute_result"
    },
    {
     "data": {
      "text/plain": [
       "((-0.6622248219302276, 0.7434720781582069, 29.0),\n",
       " (-0.6622248219302276, 0.25652792184179296, 29.0))"
      ]
     },
     "execution_count": 6,
     "metadata": {},
     "output_type": "execute_result"
    },
    {
     "data": {
      "text/html": [
       "<h3>$\\delta$ = 0</h3>"
      ],
      "text/plain": [
       "<IPython.core.display.HTML object>"
      ]
     },
     "execution_count": 6,
     "metadata": {},
     "output_type": "execute_result"
    },
    {
     "data": {
      "text/html": [
       "<h4><center>Alternate H: two_sided</center></h4>"
      ],
      "text/plain": [
       "<IPython.core.display.HTML object>"
      ]
     },
     "execution_count": 6,
     "metadata": {},
     "output_type": "execute_result"
    },
    {
     "data": {
      "text/plain": [
       "('t score (student CDF)', -0.7352772011261675, 0.46807585218054126)"
      ]
     },
     "execution_count": 6,
     "metadata": {},
     "output_type": "execute_result"
    },
    {
     "data": {
      "text/plain": [
       "('2 sample t-test (scipy)', -0.7352772011261675, 0.46807585218054126)"
      ]
     },
     "execution_count": 6,
     "metadata": {},
     "output_type": "execute_result"
    },
    {
     "data": {
      "text/plain": [
       "('2 sample t-test (sm pooled)', 0.7659620739097293)"
      ]
     },
     "execution_count": 6,
     "metadata": {},
     "output_type": "execute_result"
    },
    {
     "data": {
      "text/plain": [
       "((-0.7352772011261673, 0.7659620739097293, 29.0),\n",
       " (-0.7352772011261673, 0.23403792609027074, 29.0))"
      ]
     },
     "execution_count": 6,
     "metadata": {},
     "output_type": "execute_result"
    },
    {
     "data": {
      "text/html": [
       "<h4><center>Alternate H: left_side</center></h4>"
      ],
      "text/plain": [
       "<IPython.core.display.HTML object>"
      ]
     },
     "execution_count": 6,
     "metadata": {},
     "output_type": "execute_result"
    },
    {
     "data": {
      "text/plain": [
       "('t score (student CDF)', -0.7352772011261675, 0.23403792609027063)"
      ]
     },
     "execution_count": 6,
     "metadata": {},
     "output_type": "execute_result"
    },
    {
     "data": {
      "text/plain": [
       "('paired t-test (scipy)', -0.7352772011261675, 0.23403792609027063)"
      ]
     },
     "execution_count": 6,
     "metadata": {},
     "output_type": "execute_result"
    },
    {
     "data": {
      "text/plain": [
       "('paired t-test (statsmodels)', 0.7659620739097293)"
      ]
     },
     "execution_count": 6,
     "metadata": {},
     "output_type": "execute_result"
    },
    {
     "data": {
      "text/plain": [
       "((-0.7352772011261673, 0.7659620739097293, 29.0),\n",
       " (-0.7352772011261673, 0.23403792609027074, 29.0))"
      ]
     },
     "execution_count": 6,
     "metadata": {},
     "output_type": "execute_result"
    },
    {
     "data": {
      "text/html": [
       "<h4><center>Alternate H: right_side</center></h4>"
      ],
      "text/plain": [
       "<IPython.core.display.HTML object>"
      ]
     },
     "execution_count": 6,
     "metadata": {},
     "output_type": "execute_result"
    },
    {
     "data": {
      "text/plain": [
       "('t score (student CDF)', -0.7352772011261675, 0.7659620739097294)"
      ]
     },
     "execution_count": 6,
     "metadata": {},
     "output_type": "execute_result"
    },
    {
     "data": {
      "text/plain": [
       "('paired t-test (scipy)', -0.7352772011261675, 0.7659620739097294)"
      ]
     },
     "execution_count": 6,
     "metadata": {},
     "output_type": "execute_result"
    },
    {
     "data": {
      "text/plain": [
       "('paired t-test (statsmodels)', 0.7659620739097293)"
      ]
     },
     "execution_count": 6,
     "metadata": {},
     "output_type": "execute_result"
    },
    {
     "data": {
      "text/plain": [
       "((-0.7352772011261673, 0.7659620739097293, 29.0),\n",
       " (-0.7352772011261673, 0.23403792609027074, 29.0))"
      ]
     },
     "execution_count": 6,
     "metadata": {},
     "output_type": "execute_result"
    },
    {
     "data": {
      "text/html": [
       "<h3>$\\delta$ = 0.3</h3>"
      ],
      "text/plain": [
       "<IPython.core.display.HTML object>"
      ]
     },
     "execution_count": 6,
     "metadata": {},
     "output_type": "execute_result"
    },
    {
     "data": {
      "text/html": [
       "<h4><center>Alternate H: two_sided</center></h4>"
      ],
      "text/plain": [
       "<IPython.core.display.HTML object>"
      ]
     },
     "execution_count": 6,
     "metadata": {},
     "output_type": "execute_result"
    },
    {
     "data": {
      "text/plain": [
       "('t score (student CDF)', -4.193295176618447, 0.00023614333585392265)"
      ]
     },
     "execution_count": 6,
     "metadata": {},
     "output_type": "execute_result"
    },
    {
     "data": {
      "text/plain": [
       "('2 sample t-test (scipy)', -4.193295176618447, 0.00023614333585392265)"
      ]
     },
     "execution_count": 6,
     "metadata": {},
     "output_type": "execute_result"
    },
    {
     "data": {
      "text/plain": [
       "('2 sample t-test (sm pooled)', 0.999881928332073)"
      ]
     },
     "execution_count": 6,
     "metadata": {},
     "output_type": "execute_result"
    },
    {
     "data": {
      "text/plain": [
       "((-4.193295176618447, 0.999881928332073, 29.0),\n",
       " (-4.193295176618447, 0.00011807166792696133, 29.0))"
      ]
     },
     "execution_count": 6,
     "metadata": {},
     "output_type": "execute_result"
    },
    {
     "data": {
      "text/html": [
       "<h4><center>Alternate H: left_side</center></h4>"
      ],
      "text/plain": [
       "<IPython.core.display.HTML object>"
      ]
     },
     "execution_count": 6,
     "metadata": {},
     "output_type": "execute_result"
    },
    {
     "data": {
      "text/plain": [
       "('t score (student CDF)', -4.193295176618447, 0.00011807166792696133)"
      ]
     },
     "execution_count": 6,
     "metadata": {},
     "output_type": "execute_result"
    },
    {
     "data": {
      "text/plain": [
       "('paired t-test (scipy)', -4.193295176618447, 0.00011807166792696133)"
      ]
     },
     "execution_count": 6,
     "metadata": {},
     "output_type": "execute_result"
    },
    {
     "data": {
      "text/plain": [
       "('paired t-test (statsmodels)', 0.999881928332073)"
      ]
     },
     "execution_count": 6,
     "metadata": {},
     "output_type": "execute_result"
    },
    {
     "data": {
      "text/plain": [
       "((-4.193295176618447, 0.999881928332073, 29.0),\n",
       " (-4.193295176618447, 0.00011807166792696133, 29.0))"
      ]
     },
     "execution_count": 6,
     "metadata": {},
     "output_type": "execute_result"
    },
    {
     "data": {
      "text/html": [
       "<h4><center>Alternate H: right_side</center></h4>"
      ],
      "text/plain": [
       "<IPython.core.display.HTML object>"
      ]
     },
     "execution_count": 6,
     "metadata": {},
     "output_type": "execute_result"
    },
    {
     "data": {
      "text/plain": [
       "('t score (student CDF)', -4.193295176618447, 0.999881928332073)"
      ]
     },
     "execution_count": 6,
     "metadata": {},
     "output_type": "execute_result"
    },
    {
     "data": {
      "text/plain": [
       "('paired t-test (scipy)', -4.193295176618447, 0.999881928332073)"
      ]
     },
     "execution_count": 6,
     "metadata": {},
     "output_type": "execute_result"
    },
    {
     "data": {
      "text/plain": [
       "('paired t-test (statsmodels)', 0.999881928332073)"
      ]
     },
     "execution_count": 6,
     "metadata": {},
     "output_type": "execute_result"
    },
    {
     "data": {
      "text/plain": [
       "((-4.193295176618447, 0.999881928332073, 29.0),\n",
       " (-4.193295176618447, 0.00011807166792696133, 29.0))"
      ]
     },
     "execution_count": 6,
     "metadata": {},
     "output_type": "execute_result"
    }
   ],
   "source": [
    "# directly compute CDF value from normal distribution\n",
    "# use alternate hypothesis of \\lt, \\neq, \\gt\n",
    "# population mean and std\n",
    "# for two sided, multiple p_value by 2. the threshold is always 0.05\n",
    "deltas=[-.3, 0, 0.3]\n",
    "H_alternate=['two_sided', 'left_side', 'right_side']\n",
    "for delta in deltas:\n",
    "    HTML(h3.format(text=f\"$\\delta$ = {delta}\"))\n",
    "    mu, std, N = 10, 1, 30\n",
    "    mu_real = mu + delta\n",
    "    # generate data samples\n",
    "    # normal distribution\n",
    "    dist1 = stats.norm(mu, std)\n",
    "    dist2 = stats.norm(delta, std)\n",
    "    x1 = dist1.rvs(size=N, random_state=random_seed)\n",
    "    x2 = x1 + dist2.rvs(size=N)\n",
    "    x = x1 - x2\n",
    "    \n",
    "    for h_alt in H_alternate:\n",
    "        HTML(h4_centered.format(text=f\"Alternate H: {h_alt}\"))\n",
    "        t_dist = stats.t(N-1)\n",
    "\n",
    "        t = x.mean()/np.sqrt(x.var()/(N-1))\n",
    "\n",
    "        if h_alt == 'two_sided':\n",
    "            p_t = t_dist.cdf(-abs(t))\n",
    "            \"t score (student CDF)\", t, p_t*2\n",
    "            t, p = stats.ttest_rel(x1, x2)\n",
    "            \"2 sample t-test (scipy)\", t, p\n",
    "            t, tp1, tp2 = sm.stats.ttost_paired(x1, x2, 0, 0)\n",
    "            \"2 sample t-test (sm pooled)\", t\n",
    "            tp1, tp2\n",
    "\n",
    "        elif h_alt == 'left_side':\n",
    "            p_t = t_dist.cdf(t)\n",
    "            \"t score (student CDF)\", t, p_t\n",
    "            t, p = stats.ttest_rel(x1, x2)\n",
    "            \"paired t-test (scipy)\", t, (p/2 if t<0 else 1-p/2)\n",
    "            t, tp1, tp2 = sm.stats.ttost_paired(x1, x2, 0, 0)\n",
    "            \"paired t-test (statsmodels)\", t\n",
    "            tp1, tp2\n",
    "        else: # 'right_side'\n",
    "            p_t = 1-t_dist.cdf(t)\n",
    "            \"t score (student CDF)\", t, p_t\n",
    "            t, p = stats.ttest_rel(x1, x2)\n",
    "            \"paired t-test (scipy)\", t, (p/2 if t>0 else 1-p/2)\n",
    "            t, tp1, tp2 = sm.stats.ttost_paired(x1, x2, 0, 0)\n",
    "            \"paired t-test (statsmodels)\", t\n",
    "            tp1, tp2\n",
    "\n",
    "pass"
   ]
  },
  {
   "cell_type": "markdown",
   "metadata": {},
   "source": [
    "### Proportion for single population, $z$ test\n",
    "Whether sample proportion is different from population proportion (hypothesis)\n",
    "- Binomial population\n",
    "- sample size $np>10$, and $n(1-p)>10$, independent samples\n",
    " - sample proportion $\\hat p$, hypothesized pop proportion $p_0$\n",
    " - sample size $n$\n",
    " - Z-score: $\\begin{align}\\frac{\\hat p-p_0}{\\sqrt{p_0(1-p_0)/n}}\\end{align}$\n",
    "\n",
    "This is to compare ratio of positive samples with expected values\n",
    "- $H_0:\\ p_1=p$\n",
    "\n",
    "**NOTE:**\n",
    "- scipy binom_test directly compute the binomial probability, seems to be the most accurate."
   ]
  },
  {
   "cell_type": "code",
   "execution_count": 7,
   "metadata": {
    "scrolled": false
   },
   "outputs": [
    {
     "data": {
      "text/html": [
       "<h4><center>Alternate H: two_sided</center></h4>"
      ],
      "text/plain": [
       "<IPython.core.display.HTML object>"
      ]
     },
     "execution_count": 7,
     "metadata": {},
     "output_type": "execute_result"
    },
    {
     "data": {
      "text/plain": [
       "('proportation ztest (CDF)', -1.175320190850308, 0.23986663961723942)"
      ]
     },
     "execution_count": 7,
     "metadata": {},
     "output_type": "execute_result"
    },
    {
     "data": {
      "text/plain": [
       "('1 proportion ztest (scipy)', 0.2567699741027077)"
      ]
     },
     "execution_count": 7,
     "metadata": {},
     "output_type": "execute_result"
    },
    {
     "data": {
      "text/plain": [
       "('1 proportion ztest (sm known var)', -1.175320190850308, 0.2399)"
      ]
     },
     "execution_count": 7,
     "metadata": {},
     "output_type": "execute_result"
    },
    {
     "data": {
      "text/plain": [
       "('1 proportion ztest (sm unknown var)', -1.2068397942272941, 0.2275)"
      ]
     },
     "execution_count": 7,
     "metadata": {},
     "output_type": "execute_result"
    },
    {
     "data": {
      "text/html": [
       "<h4><center>Alternate H: left_side</center></h4>"
      ],
      "text/plain": [
       "<IPython.core.display.HTML object>"
      ]
     },
     "execution_count": 7,
     "metadata": {},
     "output_type": "execute_result"
    },
    {
     "data": {
      "text/plain": [
       "('proportation ztest (CDF)', -1.175320190850308, 0.11993331980861971)"
      ]
     },
     "execution_count": 7,
     "metadata": {},
     "output_type": "execute_result"
    },
    {
     "data": {
      "text/plain": [
       "('1 proportion ztest (scipy)', 0.13013591459555066)"
      ]
     },
     "execution_count": 7,
     "metadata": {},
     "output_type": "execute_result"
    },
    {
     "data": {
      "text/plain": [
       "('1 proportion ztest (sm known var)', -1.175320190850308, 0.1199)"
      ]
     },
     "execution_count": 7,
     "metadata": {},
     "output_type": "execute_result"
    },
    {
     "data": {
      "text/plain": [
       "('1 proportion ztest (sm unknown var)', -1.2068397942272941, 0.1137)"
      ]
     },
     "execution_count": 7,
     "metadata": {},
     "output_type": "execute_result"
    },
    {
     "data": {
      "text/html": [
       "<h4><center>Alternate H: right_side</center></h4>"
      ],
      "text/plain": [
       "<IPython.core.display.HTML object>"
      ]
     },
     "execution_count": 7,
     "metadata": {},
     "output_type": "execute_result"
    },
    {
     "data": {
      "text/plain": [
       "('proportation ztest (CDF)', -1.175320190850308, 0.8800666801913803)"
      ]
     },
     "execution_count": 7,
     "metadata": {},
     "output_type": "execute_result"
    },
    {
     "data": {
      "text/plain": [
       "('1 proportion ztest (scipy)', 0.8907684324784393)"
      ]
     },
     "execution_count": 7,
     "metadata": {},
     "output_type": "execute_result"
    },
    {
     "data": {
      "text/plain": [
       "('1 proportion ztest (sm known var)', -1.175320190850308, 0.8801)"
      ]
     },
     "execution_count": 7,
     "metadata": {},
     "output_type": "execute_result"
    },
    {
     "data": {
      "text/plain": [
       "('1 proportion ztest (sm unknown var)', -1.2068397942272941, 0.8863)"
      ]
     },
     "execution_count": 7,
     "metadata": {},
     "output_type": "execute_result"
    }
   ],
   "source": [
    "# example, target conversion ratio >= 30%\n",
    "# N viewed, np clicked, H_0: ration <= 30%\n",
    "N, n_pos, r = 448, 123, 0.3\n",
    "# N, n_pos, r = 100, 82, 0.9\n",
    "H_alternate=['two_sided', 'left_side', 'right_side']\n",
    "   \n",
    "for h_alt in H_alternate:\n",
    "    HTML(h4_centered.format(text=f\"Alternate H: {h_alt}\"))\n",
    "\n",
    "    # compute z score, and p value\n",
    "    Z = ((n_pos/N)-r)/np.sqrt(r*(1-r)/N)\n",
    "    Z_dist = stats.norm(0, 1)\n",
    "\n",
    "    if h_alt == 'two_sided':\n",
    "        p = Z_dist.cdf(-abs(Z))\n",
    "        \"proportation ztest (CDF)\", Z, p*2\n",
    "        p = stats.binom_test(n_pos, n=N, p=0.3)\n",
    "        \"1 proportion ztest (scipy)\", p\n",
    "        z, p = sm.stats.proportions_ztest(n_pos, N, value=r, alternative='two-sided', prop_var=r)\n",
    "        \"1 proportion ztest (sm known var)\", z, float(p)\n",
    "        z, p = sm.stats.proportions_ztest(n_pos, N, value=r, alternative='two-sided')\n",
    "        \"1 proportion ztest (sm unknown var)\", z, float(p)\n",
    "\n",
    "    elif h_alt == 'left_side':\n",
    "        p = Z_dist.cdf(Z)\n",
    "        \"proportation ztest (CDF)\", Z, p\n",
    "        p = stats.binom_test(n_pos, n=N, p=0.3, alternative='less')\n",
    "        \"1 proportion ztest (scipy)\", p\n",
    "        z, p = sm.stats.proportions_ztest(n_pos, N, value=r, alternative='smaller', prop_var=r)\n",
    "        \"1 proportion ztest (sm known var)\", z, float(p)\n",
    "        z, p = sm.stats.proportions_ztest(n_pos, N, value=r, alternative='smaller')\n",
    "        \"1 proportion ztest (sm unknown var)\", z, float(p)\n",
    "    else: # 'right_side'\n",
    "        p = 1 - Z_dist.cdf(Z)\n",
    "        \"proportation ztest (CDF)\", Z, p\n",
    "        p = stats.binom_test(n_pos, n=N, p=0.3, alternative='greater')\n",
    "        \"1 proportion ztest (scipy)\", p\n",
    "        z, p = sm.stats.proportions_ztest(n_pos, N, value=r, alternative='larger', prop_var=r)\n",
    "        \"1 proportion ztest (sm known var)\", z, float(p)\n",
    "        z, p = sm.stats.proportions_ztest(n_pos, N, value=r, alternative='larger')\n",
    "        \"1 proportion ztest (sm unknown var)\", z, float(p)\n",
    "\n",
    "pass"
   ]
  },
  {
   "cell_type": "markdown",
   "metadata": {},
   "source": [
    "### Compare two proportions, z-test\n",
    "Whether two sample proportions are different from each other\n",
    "- Two binomial populations\n",
    "- sample size $np_0>5$, and $n(1-p_0)>5$, for each sample\n",
    " - sample proportion $\\hat p_1$, $\\hat p_2$, hypothesized propotion difference $\\Delta$\n",
    " - sample size $n_1$, $n_2$\n",
    " - Z-score: $\\begin{align}\\frac{\\hat p_1-\\hat p_2-\\Delta}{\\sqrt{\\hat p(1-\\hat p)(1/n_1+1/n_2)}}\\end{align}$\n",
    " - where $\\hat p=\\frac{\\hat p_1 n_1 + \\hat p_2 n_2}{n_1+n_2}$\n",
    "\n",
    "This is to compare proportion of two sampled population\n",
    "- $H_0:\\ p_1=p_2$"
   ]
  },
  {
   "cell_type": "code",
   "execution_count": 8,
   "metadata": {},
   "outputs": [
    {
     "data": {
      "text/html": [
       "<h4><center>Alternate H: two_sided</center></h4>"
      ],
      "text/plain": [
       "<IPython.core.display.HTML object>"
      ]
     },
     "execution_count": 8,
     "metadata": {},
     "output_type": "execute_result"
    },
    {
     "data": {
      "text/plain": [
       "('2 proportation ztest (CDF)', -4.1611, 3.1669765828788065e-05)"
      ]
     },
     "execution_count": 8,
     "metadata": {},
     "output_type": "execute_result"
    },
    {
     "data": {
      "text/plain": [
       "('2 proportation ztest (CDF, unpooled)', -4.1667, 3.0908396987672115e-05)"
      ]
     },
     "execution_count": 8,
     "metadata": {},
     "output_type": "execute_result"
    },
    {
     "data": {
      "text/plain": [
       "('2 proportion ztest (sm known var)', -4.1611, 3.1669765828788065e-05)"
      ]
     },
     "execution_count": 8,
     "metadata": {},
     "output_type": "execute_result"
    },
    {
     "data": {
      "text/plain": [
       "('2 proportion ztest (sm unknown var)', -4.1611, 3.1669765828788065e-05)"
      ]
     },
     "execution_count": 8,
     "metadata": {},
     "output_type": "execute_result"
    },
    {
     "data": {
      "text/html": [
       "<h4><center>Alternate H: left_side</center></h4>"
      ],
      "text/plain": [
       "<IPython.core.display.HTML object>"
      ]
     },
     "execution_count": 8,
     "metadata": {},
     "output_type": "execute_result"
    },
    {
     "data": {
      "text/plain": [
       "('2 proportation ztest (CDF)', -4.1611, 1.5834882914394032e-05)"
      ]
     },
     "execution_count": 8,
     "metadata": {},
     "output_type": "execute_result"
    },
    {
     "data": {
      "text/plain": [
       "('2 proportation ztest (CDF, unpooled)', -4.1667, 1.5454198493836058e-05)"
      ]
     },
     "execution_count": 8,
     "metadata": {},
     "output_type": "execute_result"
    },
    {
     "data": {
      "text/plain": [
       "('2 proportion ztest (sm known var)', -4.1611, 1.5834882914394032e-05)"
      ]
     },
     "execution_count": 8,
     "metadata": {},
     "output_type": "execute_result"
    },
    {
     "data": {
      "text/plain": [
       "('2 proportion ztest (sm unknown var)', -4.1611, 1.5834882914394032e-05)"
      ]
     },
     "execution_count": 8,
     "metadata": {},
     "output_type": "execute_result"
    },
    {
     "data": {
      "text/html": [
       "<h4><center>Alternate H: right_side</center></h4>"
      ],
      "text/plain": [
       "<IPython.core.display.HTML object>"
      ]
     },
     "execution_count": 8,
     "metadata": {},
     "output_type": "execute_result"
    },
    {
     "data": {
      "text/plain": [
       "('2 proportation ztest (CDF)', -4.1611, 0.9999841651170857)"
      ]
     },
     "execution_count": 8,
     "metadata": {},
     "output_type": "execute_result"
    },
    {
     "data": {
      "text/plain": [
       "('2 proportation ztest (CDF, unpooled)', -4.1667, 0.9999845458015062)"
      ]
     },
     "execution_count": 8,
     "metadata": {},
     "output_type": "execute_result"
    },
    {
     "data": {
      "text/plain": [
       "('2 proportion ztest (sm known var)', -4.1611, 0.9999841651170857)"
      ]
     },
     "execution_count": 8,
     "metadata": {},
     "output_type": "execute_result"
    },
    {
     "data": {
      "text/plain": [
       "('2 proportion ztest (sm unknown var)', -4.1611, 0.9999841651170857)"
      ]
     },
     "execution_count": 8,
     "metadata": {},
     "output_type": "execute_result"
    }
   ],
   "source": [
    "control_installs = 2501\n",
    "control_connected = 1104\n",
    "test_installs = 2141\n",
    "test_connected = 1076\n",
    "\n",
    "count = np.array([control_connected, test_connected])\n",
    "nobs = np.array([control_installs, test_installs])\n",
    "\n",
    "H_alternate=['two_sided', 'left_side', 'right_side']\n",
    "   \n",
    "for h_alt in H_alternate:\n",
    "    HTML(h4_centered.format(text=f\"Alternate H: {h_alt}\"))\n",
    "\n",
    "    # compute z score, and p value\n",
    "    n1, n2 = nobs\n",
    "    r1, r2 = count/nobs\n",
    "    r = count.sum() / nobs.sum()\n",
    "    Z = (r1 - r2) / np.sqrt(r*(1-r)*((1/nobs).sum()))\n",
    "    Z_unpooled = (r1-r2)/np.sqrt(r1*(1-r1)/n1 + r2*(1-r2)/n2)\n",
    "    Z_dist = stats.norm(0, 1)\n",
    "\n",
    "    if h_alt == 'two_sided':\n",
    "        p = Z_dist.cdf(-abs(Z))\n",
    "        \"2 proportation ztest (CDF)\", float(Z), p*2\n",
    "        p_unpooled = Z_dist.cdf(-abs(Z_unpooled))\n",
    "        \"2 proportation ztest (CDF, unpooled)\", float(Z_unpooled), p_unpooled*2\n",
    "        z, p = sm.stats.proportions_ztest(count, nobs, value=0, alternative='two-sided', prop_var=r)\n",
    "        \"2 proportion ztest (sm known var)\", float(z), p\n",
    "        z, p = sm.stats.proportions_ztest(count, nobs, value=0, alternative='two-sided')\n",
    "        \"2 proportion ztest (sm unknown var)\", float(z), p\n",
    "\n",
    "    elif h_alt == 'left_side':\n",
    "        p = Z_dist.cdf(Z)\n",
    "        \"2 proportation ztest (CDF)\", float(Z), p\n",
    "        p_unpooled = Z_dist.cdf(Z_unpooled)\n",
    "        \"2 proportation ztest (CDF, unpooled)\", float(Z_unpooled), p_unpooled\n",
    "        z, p = sm.stats.proportions_ztest(count, nobs, value=0, alternative='smaller', prop_var=r)\n",
    "        \"2 proportion ztest (sm known var)\", float(z), p\n",
    "        z, p = sm.stats.proportions_ztest(count, nobs, value=0, alternative='smaller')\n",
    "        \"2 proportion ztest (sm unknown var)\", float(z), p\n",
    "    else: # 'right_side'\n",
    "        p = 1 - Z_dist.cdf(Z)\n",
    "        \"2 proportation ztest (CDF)\", float(Z), p\n",
    "        p_unpooled = 1 - Z_dist.cdf(Z_unpooled)\n",
    "        \"2 proportation ztest (CDF, unpooled)\", float(Z_unpooled), p_unpooled\n",
    "        z, p = sm.stats.proportions_ztest(count, nobs, value=0, alternative='larger', prop_var=r)\n",
    "        \"2 proportion ztest (sm known var)\", float(z), p\n",
    "        z, p = sm.stats.proportions_ztest(count, nobs, value=0, alternative='larger')\n",
    "        \"2 proportion ztest (sm unknown var)\", float(z), p\n",
    "\n",
    "pass"
   ]
  },
  {
   "cell_type": "markdown",
   "metadata": {},
   "source": [
    "### Chi-Squared test for goodness of fit\n",
    "- Goodness of fit: whether an observed frequency distribution differs from a theoretical distribution.\n",
    " - Null hypothesis is distribution is the same as expected values\n",
    "- Test of homogeneity: compares the distribution of counts for two or more groups using the same categorical variable (e.g. choice of activity—college, military, employment, travel—of graduates of a high school reported a year after graduation, sorted by graduation year, to see if number of graduates choosing a given activity has changed from class to class, or from decade to decade)\n",
    " - Null hypothesis is there is no difference in distribution over the groups from the categorical variables\n",
    "- Test of independence assesses whether observations consisting of measures on two variables, expressed in a contingency table, are independent of each other. (e.g. polling responses from people of different nationalities to see if one's nationality is related to the response). Independent means nationality has no effect on results.\n",
    " - Null hypothesis is x, y are independent\n",
    "- **NOTE**. homogeity and independence are the same thing.\n",
    "\n",
    "- x, y are two random vairables with categorical (multinomial) distribution\n",
    " - $$\\chi^2 = \\sum_k\\frac{(observed-expected)^2}{expected}$$\n",
    " - compute contingincy table, all expected counts > 5\n",
    " - if expected count is not known, $\\frac{colsum\\times rowsum}{totalsum}$ (col_vec)\\*(row_vec)\n",
    " - DF = k-1, k is number of categories, univariate $k-1$, bivariate $(rows-1)(cols-1)$\n",
    " - The larger $\\chi^2$, the more likely that the variables are related."
   ]
  },
  {
   "cell_type": "code",
   "execution_count": 9,
   "metadata": {
    "scrolled": false
   },
   "outputs": [
    {
     "data": {
      "text/html": [
       "<h3>goodness of fit: fair dice</h3>"
      ],
      "text/plain": [
       "<IPython.core.display.HTML object>"
      ]
     },
     "execution_count": 9,
     "metadata": {},
     "output_type": "execute_result"
    },
    {
     "data": {
      "text/plain": [
       "array([50., 50., 50., 50., 50., 50.])"
      ]
     },
     "execution_count": 9,
     "metadata": {},
     "output_type": "execute_result"
    },
    {
     "data": {
      "text/plain": [
       "('chi2 CDF', 11.36, 0.04469140991844312)"
      ]
     },
     "execution_count": 9,
     "metadata": {},
     "output_type": "execute_result"
    },
    {
     "data": {
      "text/plain": [
       "('chi2 test (scipy chisquare)', 11.36, 0.04469140991844312)"
      ]
     },
     "execution_count": 9,
     "metadata": {},
     "output_type": "execute_result"
    },
    {
     "data": {
      "text/html": [
       "<h3>Independence of variables test</h3>"
      ],
      "text/plain": [
       "<IPython.core.display.HTML object>"
      ]
     },
     "execution_count": 9,
     "metadata": {},
     "output_type": "execute_result"
    },
    {
     "data": {
      "text/plain": [
       "('chi2 CDF', 2.5649807120678574, 0.989894577280835)"
      ]
     },
     "execution_count": 9,
     "metadata": {},
     "output_type": "execute_result"
    },
    {
     "data": {
      "text/plain": [
       "'scipy chi2_contingency is more generic, can handle k*n contigency table'"
      ]
     },
     "execution_count": 9,
     "metadata": {},
     "output_type": "execute_result"
    },
    {
     "data": {
      "text/plain": [
       "(2.5649807120678574, 0.989894577280835, 10)"
      ]
     },
     "execution_count": 9,
     "metadata": {},
     "output_type": "execute_result"
    },
    {
     "data": {
      "text/plain": [
       "array([[ 8.4153,  9.3169,  8.1148,  9.0164, 11.1202,  9.0164],\n",
       "       [10.2514, 11.3497,  9.8852, 10.9836, 13.5464, 10.9836],\n",
       "       [ 9.3333, 10.3333,  9.    , 10.    , 12.3333, 10.    ]])"
      ]
     },
     "execution_count": 9,
     "metadata": {},
     "output_type": "execute_result"
    },
    {
     "data": {
      "text/plain": [
       "'statsmodels.stats.proportion.proportion_chisquare can only handle k*2 case'"
      ]
     },
     "execution_count": 9,
     "metadata": {},
     "output_type": "execute_result"
    }
   ],
   "source": [
    "# goodness of fit,\n",
    "# example: whether it's a fair dice\n",
    "HTML(h3.format(text='goodness of fit: fair dice'))\n",
    "dice_result = np.array([62, 62, 40, 42, 40, 54])\n",
    "dice_expected = np.ones_like(dice_result) * dice_result.mean()\n",
    "dice_expected\n",
    "chi2_stat = ((dice_result - dice_expected)**2/dice_expected).sum()\n",
    "dof = len(dice_expected)-1\n",
    "'chi2 CDF', chi2_stat, stats.chi2.sf(chi2_stat, df=dof)\n",
    "\n",
    "dice = np.array([dice_result, dice_expected])\n",
    "chi_stat, p_val = stats.chisquare(dice_result, dice_expected)\n",
    "'chi2 test (scipy chisquare)', chi_stat, p_val \n",
    "\n",
    "# homogenity test\n",
    "\n",
    "# independency test\n",
    "# distribution are similar, independent of groups, not dependent on group\n",
    "HTML(h3.format(text='Independence of variables test'))\n",
    "categorical_samples = np.random.randint(7, 14, (3,6))\n",
    "shape = np.array(categorical_samples.shape)\n",
    "dof = (shape-1).prod()\n",
    "# compute expected count (distribution)\n",
    "categorical_expected = categorical_samples.sum(0)*categorical_samples.sum(1)[:, np.newaxis]/categorical_samples.sum()\n",
    "chi2_stat = ((categorical_samples - categorical_expected)**2/categorical_expected).sum()\n",
    "'chi2 CDF', chi2_stat, stats.chi2.sf(chi2_stat, df=dof)\n",
    "# scipy chi contigency table\n",
    "chi_stat, p_val, dof, expected_freq = stats.chi2_contingency(categorical_samples)\n",
    "'scipy chi2_contingency is more generic, can handle k*n contigency table'\n",
    "chi_stat, p_val, dof\n",
    "expected_freq\n",
    "'statsmodels.stats.proportion.proportion_chisquare can only handle k*2 case'"
   ]
  },
  {
   "cell_type": "markdown",
   "metadata": {},
   "source": [
    "### Chi-Squared test for variance\n",
    "- whether n samples from a normal distribution has a pre-determined variance.\n",
    "- $s^2$ sample variance, $\\sigma^2$ population variance\n",
    " - $\\chi^2=(n-1)\\frac{s^2}{\\sigma^2}$\n",
    " - DF: n-1\n",
    "- **NOTE:** $\\chi^2$ distribution is asymmetrical and centered around N-1. Will compare chi2_stat with N-1 to get half p-value."
   ]
  },
  {
   "cell_type": "code",
   "execution_count": 127,
   "metadata": {},
   "outputs": [
    {
     "data": {
      "text/html": [
       "<h3>$\\delta$ = -0.2</h3>"
      ],
      "text/plain": [
       "<IPython.core.display.HTML object>"
      ]
     },
     "execution_count": 127,
     "metadata": {},
     "output_type": "execute_result"
    },
    {
     "data": {
      "text/plain": [
       "0.7469350255064893"
      ]
     },
     "execution_count": 127,
     "metadata": {},
     "output_type": "execute_result"
    },
    {
     "data": {
      "text/html": [
       "<h4><center>Alternate H: two_sided</center></h4>"
      ],
      "text/plain": [
       "<IPython.core.display.HTML object>"
      ]
     },
     "execution_count": 127,
     "metadata": {},
     "output_type": "execute_result"
    },
    {
     "data": {
      "text/plain": [
       "('chi2 score (chi2 CDF)', 26.790930990408796, 0.008161661743161368)"
      ]
     },
     "execution_count": 127,
     "metadata": {},
     "output_type": "execute_result"
    },
    {
     "data": {
      "text/html": [
       "<h4><center>Alternate H: left_side</center></h4>"
      ],
      "text/plain": [
       "<IPython.core.display.HTML object>"
      ]
     },
     "execution_count": 127,
     "metadata": {},
     "output_type": "execute_result"
    },
    {
     "data": {
      "text/plain": [
       "('chi2 score (chi2 CDF)', 26.790930990408796, 0.004080830871580684)"
      ]
     },
     "execution_count": 127,
     "metadata": {},
     "output_type": "execute_result"
    },
    {
     "data": {
      "text/html": [
       "<h4><center>Alternate H: right_side</center></h4>"
      ],
      "text/plain": [
       "<IPython.core.display.HTML object>"
      ]
     },
     "execution_count": 127,
     "metadata": {},
     "output_type": "execute_result"
    },
    {
     "data": {
      "text/plain": [
       "('chi2 score (chi2 CDF)', 26.790930990408796, 0.9959191691284193)"
      ]
     },
     "execution_count": 127,
     "metadata": {},
     "output_type": "execute_result"
    },
    {
     "data": {
      "text/html": [
       "<h3>$\\delta$ = 0</h3>"
      ],
      "text/plain": [
       "<IPython.core.display.HTML object>"
      ]
     },
     "execution_count": 127,
     "metadata": {},
     "output_type": "execute_result"
    },
    {
     "data": {
      "text/plain": [
       "0.9336687818831115"
      ]
     },
     "execution_count": 127,
     "metadata": {},
     "output_type": "execute_result"
    },
    {
     "data": {
      "text/html": [
       "<h4><center>Alternate H: two_sided</center></h4>"
      ],
      "text/plain": [
       "<IPython.core.display.HTML object>"
      ]
     },
     "execution_count": 127,
     "metadata": {},
     "output_type": "execute_result"
    },
    {
     "data": {
      "text/plain": [
       "('chi2 score (chi2 CDF)', 41.86082967251374, 0.4894124847517008)"
      ]
     },
     "execution_count": 127,
     "metadata": {},
     "output_type": "execute_result"
    },
    {
     "data": {
      "text/html": [
       "<h4><center>Alternate H: left_side</center></h4>"
      ],
      "text/plain": [
       "<IPython.core.display.HTML object>"
      ]
     },
     "execution_count": 127,
     "metadata": {},
     "output_type": "execute_result"
    },
    {
     "data": {
      "text/plain": [
       "('chi2 score (chi2 CDF)', 41.86082967251374, 0.2447062423758504)"
      ]
     },
     "execution_count": 127,
     "metadata": {},
     "output_type": "execute_result"
    },
    {
     "data": {
      "text/html": [
       "<h4><center>Alternate H: right_side</center></h4>"
      ],
      "text/plain": [
       "<IPython.core.display.HTML object>"
      ]
     },
     "execution_count": 127,
     "metadata": {},
     "output_type": "execute_result"
    },
    {
     "data": {
      "text/plain": [
       "('chi2 score (chi2 CDF)', 41.86082967251374, 0.7552937576241495)"
      ]
     },
     "execution_count": 127,
     "metadata": {},
     "output_type": "execute_result"
    },
    {
     "data": {
      "text/html": [
       "<h3>$\\delta$ = 0.25</h3>"
      ],
      "text/plain": [
       "<IPython.core.display.HTML object>"
      ]
     },
     "execution_count": 127,
     "metadata": {},
     "output_type": "execute_result"
    },
    {
     "data": {
      "text/plain": [
       "1.1670859773538895"
      ]
     },
     "execution_count": 127,
     "metadata": {},
     "output_type": "execute_result"
    },
    {
     "data": {
      "text/html": [
       "<h4><center>Alternate H: two_sided</center></h4>"
      ],
      "text/plain": [
       "<IPython.core.display.HTML object>"
      ]
     },
     "execution_count": 127,
     "metadata": {},
     "output_type": "execute_result"
    },
    {
     "data": {
      "text/plain": [
       "('chi2 score (chi2 CDF)', 65.40754636330273, 0.11698907877030602)"
      ]
     },
     "execution_count": 127,
     "metadata": {},
     "output_type": "execute_result"
    },
    {
     "data": {
      "text/html": [
       "<h4><center>Alternate H: left_side</center></h4>"
      ],
      "text/plain": [
       "<IPython.core.display.HTML object>"
      ]
     },
     "execution_count": 127,
     "metadata": {},
     "output_type": "execute_result"
    },
    {
     "data": {
      "text/plain": [
       "('chi2 score (chi2 CDF)', 65.40754636330273, 0.941505460614847)"
      ]
     },
     "execution_count": 127,
     "metadata": {},
     "output_type": "execute_result"
    },
    {
     "data": {
      "text/html": [
       "<h4><center>Alternate H: right_side</center></h4>"
      ],
      "text/plain": [
       "<IPython.core.display.HTML object>"
      ]
     },
     "execution_count": 127,
     "metadata": {},
     "output_type": "execute_result"
    },
    {
     "data": {
      "text/plain": [
       "('chi2 score (chi2 CDF)', 65.40754636330273, 0.05849453938515301)"
      ]
     },
     "execution_count": 127,
     "metadata": {},
     "output_type": "execute_result"
    }
   ],
   "source": [
    "# directly compute CDF value from normal distribution\n",
    "# use alternate hypothesis of \\lt, \\neq, \\gt\n",
    "# population mean and std\n",
    "# for two sided, multiple p_value by 2. the threshold is always 0.05\n",
    "deltas=[-.2, 0, 0.25]\n",
    "H_alternate=['two_sided', 'left_side', 'right_side']\n",
    "for delta in deltas:\n",
    "    HTML(h3.format(text=f\"$\\delta$ = {delta}\"))\n",
    "    mu, std, N = 1, 1, 50\n",
    "    std_real = std + delta\n",
    "    # generate data samples\n",
    "    # normal distribution\n",
    "    dist = stats.norm(mu, std_real)\n",
    "    x = dist.rvs(size=N, random_state=random_seed)\n",
    "    x.std(ddof=1)\n",
    "    \n",
    "    for h_alt in H_alternate:\n",
    "        HTML(h4_centered.format(text=f\"Alternate H: {h_alt}\"))\n",
    "        chi_dist = stats.chi2(N-1)\n",
    "        chi2_stat = (N-1)*(x.std()/std)**2\n",
    "\n",
    "        if h_alt == 'two_sided':\n",
    "            if chi2_stat <= (N-1):\n",
    "                p = chi_dist.cdf(chi2_stat)\n",
    "            else:\n",
    "                p = chi_dist.sf(chi2_stat)\n",
    "            \"chi2 score (chi2 CDF)\", chi2_stat, p*2\n",
    "\n",
    "        elif h_alt == 'left_side':\n",
    "            p = chi_dist.cdf(chi2_stat)\n",
    "            \"chi2 score (chi2 CDF)\", chi2_stat, p\n",
    "        else: # 'right_side'\n",
    "            p = chi_dist.sf(chi2_stat)\n",
    "            \"chi2 score (chi2 CDF)\", chi2_stat, p\n",
    "\n",
    "pass"
   ]
  },
  {
   "cell_type": "markdown",
   "metadata": {},
   "source": [
    "### One-way F test (ANOVA)\n",
    "To compare the means of two or more groups (the independent variable) on one dependent variable to see if the group means are significantly different from each other.\n",
    "- Normal distribution, i.i.d\n",
    "- observation has the same variance\n",
    "- $F=\\frac{SSE_{between}}{SSE_{within}}$\n",
    " - $SSE_{between}=\\frac{\\sum(\\sum k_i) ^2} {n} – \\frac{T^2}{N}=2$\n",
    " - $SSE_{within}=\\sum Y^2 – \\frac{\\sum (\\sum a_i)^2}{n}s=2$\n",
    "\n",
    "This is to compare means of a group of independent samples are the same, for example, high school student height for each region.\n",
    "- $H_0:$ All sample means distributions are equal.\n",
    "- scipy has f_oneway(). statsmodels.formular.api.ols has F-score and p-value after ols fitting"
   ]
  },
  {
   "cell_type": "code",
   "execution_count": 161,
   "metadata": {
    "scrolled": false
   },
   "outputs": [
    {
     "data": {
      "text/html": [
       "<h3>One-way ANOVA</h3>"
      ],
      "text/plain": [
       "<IPython.core.display.HTML object>"
      ]
     },
     "execution_count": 161,
     "metadata": {},
     "output_type": "execute_result"
    },
    {
     "data": {
      "text/html": [
       "<h3>$\\delta$ = -0.3</h3>"
      ],
      "text/plain": [
       "<IPython.core.display.HTML object>"
      ]
     },
     "execution_count": 161,
     "metadata": {},
     "output_type": "execute_result"
    },
    {
     "data": {
      "text/html": [
       "<h4><center>Alternate H: two_sided</center></h4>"
      ],
      "text/plain": [
       "<IPython.core.display.HTML object>"
      ]
     },
     "execution_count": 161,
     "metadata": {},
     "output_type": "execute_result"
    },
    {
     "data": {
      "text/plain": [
       "('2-sample t score (student CDF)', 1.2268980945713148, 0.224818012668941)"
      ]
     },
     "execution_count": 161,
     "metadata": {},
     "output_type": "execute_result"
    },
    {
     "data": {
      "text/plain": [
       "('one-way ANOVA, 2 sample (scipy)', 1.505278934462725, 0.22481801266894197)"
      ]
     },
     "execution_count": 161,
     "metadata": {},
     "output_type": "execute_result"
    },
    {
     "data": {
      "text/plain": [
       "('one-way ANOVA, 3 sample (scipy)', 4.022557761460543, 0.02133737861018209)"
      ]
     },
     "execution_count": 161,
     "metadata": {},
     "output_type": "execute_result"
    },
    {
     "data": {
      "text/plain": [
       "('one-way ANOVA (sm)', 2.0000, 4.0226, 0.0213)"
      ]
     },
     "execution_count": 161,
     "metadata": {},
     "output_type": "execute_result"
    },
    {
     "data": {
      "text/html": [
       "<h3>$\\delta$ = 0.3</h3>"
      ],
      "text/plain": [
       "<IPython.core.display.HTML object>"
      ]
     },
     "execution_count": 161,
     "metadata": {},
     "output_type": "execute_result"
    },
    {
     "data": {
      "text/html": [
       "<h4><center>Alternate H: two_sided</center></h4>"
      ],
      "text/plain": [
       "<IPython.core.display.HTML object>"
      ]
     },
     "execution_count": 161,
     "metadata": {},
     "output_type": "execute_result"
    },
    {
     "data": {
      "text/plain": [
       "('2-sample t score (student CDF)', -1.3255160655274882, 0.19019758504149)"
      ]
     },
     "execution_count": 161,
     "metadata": {},
     "output_type": "execute_result"
    },
    {
     "data": {
      "text/plain": [
       "('one-way ANOVA, 2 sample (scipy)', 1.756992839971431, 0.19019758504149592)"
      ]
     },
     "execution_count": 161,
     "metadata": {},
     "output_type": "execute_result"
    },
    {
     "data": {
      "text/plain": [
       "('one-way ANOVA, 3 sample (scipy)', 0.8758161644910789, 0.42016153448071103)"
      ]
     },
     "execution_count": 161,
     "metadata": {},
     "output_type": "execute_result"
    },
    {
     "data": {
      "text/plain": [
       "('one-way ANOVA (sm)', 2.0000, 0.8758, 0.4202)"
      ]
     },
     "execution_count": 161,
     "metadata": {},
     "output_type": "execute_result"
    }
   ],
   "source": [
    "# directly compute CDF value from normal distribution\n",
    "# use alternate hypothesis of \\lt, \\neq, \\gt\n",
    "# population mean and std\n",
    "# for two sided, multiple p_value by 2. the threshold is always 0.05\n",
    "from statsmodels.formula.api import ols\n",
    "\n",
    "HTML(h3.format(text=\"One-way ANOVA\"))\n",
    "deltas=[-.3, 0.3]\n",
    "H_alternate=['two_sided']\n",
    "for delta in deltas:\n",
    "    HTML(h3.format(text=f\"$\\delta$ = {delta}\"))\n",
    "    mu, std, n1, n2, n3 = 10, 1, 30, 30, 30\n",
    "    mu_real = mu + delta\n",
    "    # generate data samples\n",
    "    # normal distribution\n",
    "    dist1 = stats.norm(mu, std)\n",
    "    dist2 = stats.norm(mu_real, std)\n",
    "    x1 = dist1.rvs(size=n1, random_state=random_seed)\n",
    "    x2 = dist2.rvs(size=n2, random_state=(random_seed*random_seed))\n",
    "    x3 = dist1.rvs(size=n3)\n",
    "    \n",
    "    # compute F-stats\n",
    "    dfd, dfn = x.shape\n",
    "    dfd, dfn = dfd-1, dfn-1\n",
    "    \n",
    "    # form a DataFrame for statsmodels OLS calculation\n",
    "    x=np.vstack([x1,x2,x3])\n",
    "    data_x= pd.DataFrame(x.T, columns=['x1','x2','x3'])\n",
    "    data=data_x.unstack().reset_index(level=0)\n",
    "    data.columns=['group', 'val']\n",
    "\n",
    "    for h_alt in H_alternate:\n",
    "        HTML(h4_centered.format(text=f\"Alternate H: {h_alt}\"))\n",
    "        Z_dist = stats.norm(0, 1)\n",
    "        t_dist = stats.t(n1+n2-2)\n",
    "        #f_dist = stats.f(dfd, dfn)\n",
    "\n",
    "        Z = (x1.mean()-x2.mean())/np.sqrt(x1.var()/(n1-1)+x2.var()/(n2-1))\n",
    "        s_p = ((n1-1)*x1.var(ddof=1) + (n2-1)*x2.var(ddof=1))/(n1+n2-2)\n",
    "        t = (x1.mean()-x2.mean())/(np.sqrt(s_p*(1/n1+1/n2)))\n",
    "        # f= SE_between / SE_within\n",
    "        \n",
    "\n",
    "        if h_alt == 'two_sided':\n",
    "            p_t = t_dist.cdf(-abs(t))\n",
    "            \"2-sample t score (student CDF)\", t, p_t*2\n",
    "            t, p = stats.f_oneway(x1, x2)\n",
    "            \"one-way ANOVA, 2 sample (scipy)\", t, p\n",
    "            t, p = stats.f_oneway(x1, x2, x3)\n",
    "            \"one-way ANOVA, 3 sample (scipy)\", t, p\n",
    "            model = ols(\"val ~ group\", data=data).fit()\n",
    "            table = sm.stats.anova_lm(model)\n",
    "            df, f, p = table.loc['group'].iloc[[0,3,4]]\n",
    "            \"one-way ANOVA (sm)\", df, f, p\n",
    "pass"
   ]
  },
  {
   "cell_type": "markdown",
   "metadata": {},
   "source": [
    "### Repeated ANOVA test\n",
    "To compare the means of repeated measurement of a subject group over different time or conditions and to see if the group means are significantly different.\n",
    "- Normal distribution, i.i.d\n",
    "- observation has the same variance\n",
    "- compute F-statistics in similar way as one-way ANOVA\n",
    "- $F=\\frac{SSE_{conditions}}{SSE_{within_conditions}}$\n",
    "```python\n",
    "smstats.anova.AnovaRM(\n",
    "    data,\n",
    "    depvar, # values\n",
    "    subject, # sequence id, repeated more than 2 times\n",
    "    within=None, # group\n",
    "    between=None,\n",
    "    aggregate_func=None,\n",
    ")\n",
    "```"
   ]
  },
  {
   "cell_type": "markdown",
   "metadata": {},
   "source": [
    "### Two-sample F test for equality of variances\n",
    "- X, Y are iid normal distribution\n",
    "- Whether their variances are the same or not\n",
    " - $S_x^2$, $S_y^2$ sample variances, n, m sample sizes\n",
    " - $F = \\frac{s_1^2}{s_2^2}$, arrange $s_1^2\\geq s_2^2$\n",
    " - DF: n-1, m-1 "
   ]
  },
  {
   "cell_type": "code",
   "execution_count": 160,
   "metadata": {
    "scrolled": false
   },
   "outputs": [
    {
     "data": {
      "text/plain": [
       "(1.2500, 1)"
      ]
     },
     "execution_count": 160,
     "metadata": {},
     "output_type": "execute_result"
    },
    {
     "data": {
      "text/html": [
       "<h3>s1=1.25, s2=1</h3>"
      ],
      "text/plain": [
       "<IPython.core.display.HTML object>"
      ]
     },
     "execution_count": 160,
     "metadata": {},
     "output_type": "execute_result"
    },
    {
     "data": {
      "text/html": [
       "<h4><center>Alternate H: s1 != s2</center></h4>"
      ],
      "text/plain": [
       "<IPython.core.display.HTML object>"
      ]
     },
     "execution_count": 160,
     "metadata": {},
     "output_type": "execute_result"
    },
    {
     "data": {
      "text/plain": [
       "(1.5624999999999998, 1.0)"
      ]
     },
     "execution_count": 160,
     "metadata": {},
     "output_type": "execute_result"
    },
    {
     "data": {
      "text/plain": [
       "('two-sided', 1.5624999999999998, 0.08917282783601777)"
      ]
     },
     "execution_count": 160,
     "metadata": {},
     "output_type": "execute_result"
    },
    {
     "data": {
      "text/html": [
       "<h4><center>Alternate H: s1 < s2</center></h4>"
      ],
      "text/plain": [
       "<IPython.core.display.HTML object>"
      ]
     },
     "execution_count": 160,
     "metadata": {},
     "output_type": "execute_result"
    },
    {
     "data": {
      "text/plain": [
       "('left tail', 0.6400000000000001, 0.9554135860819912)"
      ]
     },
     "execution_count": 160,
     "metadata": {},
     "output_type": "execute_result"
    },
    {
     "data": {
      "text/html": [
       "<h4><center>Alternate H: s1 > s2</center></h4>"
      ],
      "text/plain": [
       "<IPython.core.display.HTML object>"
      ]
     },
     "execution_count": 160,
     "metadata": {},
     "output_type": "execute_result"
    },
    {
     "data": {
      "text/plain": [
       "('right tail', 1.5624999999999998, 0.04458641391800888)"
      ]
     },
     "execution_count": 160,
     "metadata": {},
     "output_type": "execute_result"
    },
    {
     "data": {
      "text/plain": [
       "(1, 1)"
      ]
     },
     "execution_count": 160,
     "metadata": {},
     "output_type": "execute_result"
    },
    {
     "data": {
      "text/html": [
       "<h3>s1=1, s2=1</h3>"
      ],
      "text/plain": [
       "<IPython.core.display.HTML object>"
      ]
     },
     "execution_count": 160,
     "metadata": {},
     "output_type": "execute_result"
    },
    {
     "data": {
      "text/html": [
       "<h4><center>Alternate H: s1 != s2</center></h4>"
      ],
      "text/plain": [
       "<IPython.core.display.HTML object>"
      ]
     },
     "execution_count": 160,
     "metadata": {},
     "output_type": "execute_result"
    },
    {
     "data": {
      "text/plain": [
       "(1.0000000000000002, 1.0000000000000002)"
      ]
     },
     "execution_count": 160,
     "metadata": {},
     "output_type": "execute_result"
    },
    {
     "data": {
      "text/plain": [
       "('two-sided', 1.0, 1.0)"
      ]
     },
     "execution_count": 160,
     "metadata": {},
     "output_type": "execute_result"
    },
    {
     "data": {
      "text/html": [
       "<h4><center>Alternate H: s1 < s2</center></h4>"
      ],
      "text/plain": [
       "<IPython.core.display.HTML object>"
      ]
     },
     "execution_count": 160,
     "metadata": {},
     "output_type": "execute_result"
    },
    {
     "data": {
      "text/plain": [
       "('left tail', 1.0, 0.5)"
      ]
     },
     "execution_count": 160,
     "metadata": {},
     "output_type": "execute_result"
    },
    {
     "data": {
      "text/html": [
       "<h4><center>Alternate H: s1 > s2</center></h4>"
      ],
      "text/plain": [
       "<IPython.core.display.HTML object>"
      ]
     },
     "execution_count": 160,
     "metadata": {},
     "output_type": "execute_result"
    },
    {
     "data": {
      "text/plain": [
       "('right tail', 1.0, 0.5)"
      ]
     },
     "execution_count": 160,
     "metadata": {},
     "output_type": "execute_result"
    },
    {
     "data": {
      "text/plain": [
       "(1, 1.2500)"
      ]
     },
     "execution_count": 160,
     "metadata": {},
     "output_type": "execute_result"
    },
    {
     "data": {
      "text/html": [
       "<h3>s1=1, s2=1.25</h3>"
      ],
      "text/plain": [
       "<IPython.core.display.HTML object>"
      ]
     },
     "execution_count": 160,
     "metadata": {},
     "output_type": "execute_result"
    },
    {
     "data": {
      "text/html": [
       "<h4><center>Alternate H: s1 != s2</center></h4>"
      ],
      "text/plain": [
       "<IPython.core.display.HTML object>"
      ]
     },
     "execution_count": 160,
     "metadata": {},
     "output_type": "execute_result"
    },
    {
     "data": {
      "text/plain": [
       "(1.0000000000000002, 1.5625000000000002)"
      ]
     },
     "execution_count": 160,
     "metadata": {},
     "output_type": "execute_result"
    },
    {
     "data": {
      "text/plain": [
       "('two-sided', 1.5624999999999998, 0.08917282783601777)"
      ]
     },
     "execution_count": 160,
     "metadata": {},
     "output_type": "execute_result"
    },
    {
     "data": {
      "text/html": [
       "<h4><center>Alternate H: s1 < s2</center></h4>"
      ],
      "text/plain": [
       "<IPython.core.display.HTML object>"
      ]
     },
     "execution_count": 160,
     "metadata": {},
     "output_type": "execute_result"
    },
    {
     "data": {
      "text/plain": [
       "('left tail', 1.5624999999999998, 0.04458641391800888)"
      ]
     },
     "execution_count": 160,
     "metadata": {},
     "output_type": "execute_result"
    },
    {
     "data": {
      "text/html": [
       "<h4><center>Alternate H: s1 > s2</center></h4>"
      ],
      "text/plain": [
       "<IPython.core.display.HTML object>"
      ]
     },
     "execution_count": 160,
     "metadata": {},
     "output_type": "execute_result"
    },
    {
     "data": {
      "text/plain": [
       "('right tail', 0.64, 0.9554135860819912)"
      ]
     },
     "execution_count": 160,
     "metadata": {},
     "output_type": "execute_result"
    }
   ],
   "source": [
    "# two normal distributions\n",
    "M, N = 60, 60\n",
    "stds = [[1.25, 1], [1, 1], [1, 1.25]]\n",
    "for std1, std2 in stds:\n",
    "    std1, std2\n",
    "    HTML(h3.format(text=f\"s1={std1}, s2={std2}\"))\n",
    "    x1 = np.random.randn(M)\n",
    "    x1 = x1/x1.std()*std1\n",
    "    x2 = np.random.randn(N)\n",
    "    x2 = x2/x2.std()*std2\n",
    "    f_dist = stats.f(M-1, N-1)\n",
    "\n",
    "    # two-sided test\n",
    "    HTML(h4_centered.format(text=f\"Alternate H: s1 != s2\"))\n",
    "    s1, s2 = x1.var(), x2.var()\n",
    "    s1, s2\n",
    "    if s1 < s2:\n",
    "        s1, s2 = s2, s1\n",
    "    f_stat = s1/s2\n",
    "    p = 1 - f_dist.cdf(f_stat)\n",
    "    'two-sided', f_stat, p*2\n",
    "    # left sided\n",
    "    HTML(h4_centered.format(text=f\"Alternate H: s1 < s2\"))\n",
    "    s1, s2 = x1.var(), x2.var()\n",
    "    f_stat = s2/s1\n",
    "    p = 1 - f_dist.cdf(f_stat)\n",
    "    'left tail', f_stat, p\n",
    "    # right sided\n",
    "    HTML(h4_centered.format(text=f\"Alternate H: s1 > s2\"))\n",
    "    s1, s2 = x1.var(), x2.var()\n",
    "    f_stat = s1/s2\n",
    "    p = 1 - f_dist.cdf(f_stat)\n",
    "    'right tail', f_stat, p\n"
   ]
  },
  {
   "cell_type": "markdown",
   "metadata": {},
   "source": [
    "## Determine sample size"
   ]
  },
  {
   "cell_type": "code",
   "execution_count": null,
   "metadata": {},
   "outputs": [],
   "source": []
  }
 ],
 "metadata": {
  "kernelspec": {
   "display_name": "Python 3",
   "language": "python",
   "name": "python3"
  },
  "language_info": {
   "codemirror_mode": {
    "name": "ipython",
    "version": 3
   },
   "file_extension": ".py",
   "mimetype": "text/x-python",
   "name": "python",
   "nbconvert_exporter": "python",
   "pygments_lexer": "ipython3",
   "version": "3.6.5"
  }
 },
 "nbformat": 4,
 "nbformat_minor": 2
}
