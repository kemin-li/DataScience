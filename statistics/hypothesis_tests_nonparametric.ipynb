{
 "cells": [
  {
   "cell_type": "code",
   "execution_count": 1,
   "metadata": {},
   "outputs": [],
   "source": [
    "%load_ext autoreload\n",
    "%autoreload 2\n",
    "\n",
    "import sys\n",
    "import pandas as pd\n",
    "import numpy as np\n",
    "import scipy as sp\n",
    "from scipy import stats\n",
    "import statsmodels.api as sm\n",
    "import statsmodels.stats as smstats\n",
    "from IPython.display import HTML, Markdown, Latex, Math\n",
    "import matplotlib.pyplot as plt\n",
    "import seaborn as sns\n",
    "\n",
    "from IPython.core.interactiveshell import InteractiveShell\n",
    "InteractiveShell.ast_node_interactivity = \"all\"\n",
    "pd.set_option('display.max_rows', 300)\n",
    "pd.set_option('display.max_columns', 50)\n",
    "pd.set_option('display.max_colwidth', 80)\n",
    "pd.set_option('display.precision', 4)\n",
    "%precision 4\n",
    "%matplotlib inline\n",
    "\n",
    "random_seed = 42\n",
    "h3 = r\"<h3>{text}</h3>\"\n",
    "h4_centered = r\"<h4><center>{text}</center></h4>\""
   ]
  },
  {
   "cell_type": "markdown",
   "metadata": {},
   "source": [
    "# Normality test\n",
    "Test whether samples are drawn from a normal distribution\n",
    "- Could use histogram or Q-Q plot for qualititive checking\n",
    "- Statistical test methods\n",
    " - Shapiro-Wilk test:  $$stat = \\frac{\\left(\\sum_{i=1}^n a_ix(i)\\right)^2}{\\sum_{i=1}^n(x-\\bar x)^2}$$\n",
    " - D’Agostino’s K^2 Test: test_stat = skewtest_stat^2+kurtosistest^2\n",
    " - Anderson-Darling Test: "
   ]
  },
  {
   "cell_type": "code",
   "execution_count": 58,
   "metadata": {},
   "outputs": [
    {
     "data": {
      "text/plain": [
       "array([ 0.    ,  2.6437,  0.7492, 21.1387])"
      ]
     },
     "execution_count": 58,
     "metadata": {},
     "output_type": "execute_result"
    },
    {
     "data": {
      "text/plain": [
       "array([0.    , 1.6857, 0.3992, 6.3357])"
      ]
     },
     "execution_count": 58,
     "metadata": {},
     "output_type": "execute_result"
    },
    {
     "data": {
      "text/html": [
       "<h3>Shapiro-Wilk test</h3>"
      ],
      "text/plain": [
       "<IPython.core.display.HTML object>"
      ]
     },
     "execution_count": 58,
     "metadata": {},
     "output_type": "execute_result"
    },
    {
     "data": {
      "text/plain": [
       "('Normal data', 0.9900, 0.6633)"
      ]
     },
     "execution_count": 58,
     "metadata": {},
     "output_type": "execute_result"
    },
    {
     "data": {
      "text/plain": [
       "('Uniform data', 0.9356, 0.0001)"
      ]
     },
     "execution_count": 58,
     "metadata": {},
     "output_type": "execute_result"
    },
    {
     "data": {
      "text/plain": [
       "('Rayleigh data', 0.9779, 0.0914)"
      ]
     },
     "execution_count": 58,
     "metadata": {},
     "output_type": "execute_result"
    },
    {
     "data": {
      "text/html": [
       "<h3>D’Agostino’s K^2 Test</h3>"
      ],
      "text/plain": [
       "<IPython.core.display.HTML object>"
      ]
     },
     "execution_count": 58,
     "metadata": {},
     "output_type": "execute_result"
    },
    {
     "data": {
      "text/plain": [
       "('Normal data', 0.7072155341407046, 0.7021503198277096)"
      ]
     },
     "execution_count": 58,
     "metadata": {},
     "output_type": "execute_result"
    },
    {
     "data": {
      "text/plain": [
       "('Uniform data', 26.369416587112287, 1.8791175238075755e-06)"
      ]
     },
     "execution_count": 58,
     "metadata": {},
     "output_type": "execute_result"
    },
    {
     "data": {
      "text/plain": [
       "('Rayleigh data', 5.712157324042067, 0.05749377131395891)"
      ]
     },
     "execution_count": 58,
     "metadata": {},
     "output_type": "execute_result"
    },
    {
     "data": {
      "text/html": [
       "<h3>Anderson-Darling Test</h3>"
      ],
      "text/plain": [
       "<IPython.core.display.HTML object>"
      ]
     },
     "execution_count": 58,
     "metadata": {},
     "output_type": "execute_result"
    },
    {
     "data": {
      "text/plain": [
       "('Normal data',\n",
       " 0.40060129693965507,\n",
       " array([0.555, 0.632, 0.759, 0.885, 1.053]),\n",
       " array([15. , 10. ,  5. ,  2.5,  1. ]))"
      ]
     },
     "execution_count": 58,
     "metadata": {},
     "output_type": "execute_result"
    },
    {
     "data": {
      "text/plain": [
       "('Uniform data',\n",
       " 1.711796224702539,\n",
       " array([0.555, 0.632, 0.759, 0.885, 1.053]),\n",
       " array([15. , 10. ,  5. ,  2.5,  1. ]))"
      ]
     },
     "execution_count": 58,
     "metadata": {},
     "output_type": "execute_result"
    },
    {
     "data": {
      "text/plain": [
       "('Rayleigh data',\n",
       " 8.084964132961986,\n",
       " array([0.917, 1.072, 1.333, 1.596, 1.945]),\n",
       " array([15. , 10. ,  5. ,  2.5,  1. ]))"
      ]
     },
     "execution_count": 58,
     "metadata": {},
     "output_type": "execute_result"
    }
   ],
   "source": [
    "from statsmodels.graphics.gofplots import qqplot\n",
    "N = 100\n",
    "normal_data = np.random.randn(N)*2+5\n",
    "uniform_data = np.random.randint(0, 10, N)\n",
    "rayleigh_data = stats.rayleigh(loc=0, scale=2).rvs(N)\n",
    "\n",
    "#descriptive\n",
    "#stats.stats.describe(normal_data)\n",
    "#stats.stats.describe(rayleigh_data)\n",
    "stats.stats.moment(normal_data, moment=[1,2,3,4])\n",
    "stats.stats.moment(rayleigh_data, moment=[1,2,3,4])\n",
    "\n",
    "#qqplot(normal_data, line='s')\n",
    "#qqplot(rayleigh_data, line='s')\n",
    "\n",
    "# Shapiro-Wilk test\n",
    "HTML(h3.format(text='Shapiro-Wilk test'))\n",
    "stat, p = stats.shapiro(normal_data)\n",
    "'Normal data', stat, p\n",
    "stat, p = stats.shapiro(uniform_data)\n",
    "'Uniform data', stat, p\n",
    "stat, p = stats.shapiro(rayleigh_data)\n",
    "'Rayleigh data', stat, p\n",
    "# D’Agostino’s K^2 Test\n",
    "HTML(h3.format(text='D’Agostino’s K^2 Test'))\n",
    "stat, p = stats.normaltest(normal_data)\n",
    "'Normal data', stat, p\n",
    "stat, p = stats.normaltest(uniform_data)\n",
    "'Uniform data', stat, p\n",
    "stat, p = stats.normaltest(rayleigh_data)\n",
    "'Rayleigh data', stat, p\n",
    "# Anderson-Darling Test\n",
    "# can check with norm/expon/logistic, default dist='norm', \n",
    "HTML(h3.format(text='Anderson-Darling Test'))\n",
    "stat, p, level = stats.anderson(normal_data, dist='norm')\n",
    "'Normal data', stat, p, level\n",
    "stat, p, level = stats.anderson(uniform_data, dist='norm')\n",
    "'Uniform data', stat, p, level\n",
    "stat, p, level = stats.anderson(rayleigh_data, dist='expon')\n",
    "'Rayleigh data', stat, p, level\n"
   ]
  },
  {
   "cell_type": "markdown",
   "metadata": {},
   "source": [
    "## Correlation"
   ]
  },
  {
   "cell_type": "markdown",
   "metadata": {},
   "source": [
    "### Correlation between two variables\n",
    "- Pearson corrleation\n",
    " - assume two samples are both from normal distribution\n",
    " - test for linear relationship\n",
    " - pearson correlation coefficient = $\\frac{\\mathrm{cov}(X,\\ Y)}{\\mathrm{std}(X)*\\mathrm{std}(Y)}$\n",
    " - H_0: two samples are uncorrelated\n",
    "- Spearman correlation\n",
    " - non-Gaussian, non-linear relationship\n",
    " - Spearman's correlation coefficient = $\\frac{\\mathrm{cov}(rank(X),\\ rank(Y))}{\\mathrm{std}(rank(X))*\\mathrm{std}(rank(Y))}$\n",
    " - H_0: two samples are uncorrelated"
   ]
  },
  {
   "cell_type": "code",
   "execution_count": 78,
   "metadata": {
    "scrolled": true
   },
   "outputs": [
    {
     "data": {
      "text/plain": [
       "(0.3385933968861355, 0.0005695147113265803)"
      ]
     },
     "execution_count": 78,
     "metadata": {},
     "output_type": "execute_result"
    },
    {
     "data": {
      "text/plain": [
       "SpearmanrResult(correlation=0.31227122712271227, pvalue=0.0015618350238907378)"
      ]
     },
     "execution_count": 78,
     "metadata": {},
     "output_type": "execute_result"
    },
    {
     "data": {
      "text/plain": [
       "KendalltauResult(correlation=0.21131313131313134, pvalue=0.001838762250921649)"
      ]
     },
     "execution_count": 78,
     "metadata": {},
     "output_type": "execute_result"
    }
   ],
   "source": [
    "N=100\n",
    "x1 = 10 * np.random.randn(N) + 10\n",
    "x2 = 0.3*x1 + (10 * np.random.randn(N) + 5)\n",
    "# pearson correlation coefficient\n",
    "stats.pearsonr(x1, x2)\n",
    "# spearman rank correlation\n",
    "stats.spearmanr(x1, x2)\n",
    "# kendall's tau rank correlation\n",
    "stats.kendalltau(x1, x2)"
   ]
  },
  {
   "cell_type": "markdown",
   "metadata": {},
   "source": [
    "## Distribution test\n",
    "Test whether two or more samples distribution are equal\n",
    " - Mann-Whitney U test: two independent samples\n",
    " - Wilcoxon Signed-Rank Test: two paired or dependent samples\n",
    " - Kruskal-Wallis H Test: two or more independent samples\n",
    " - Friedman Test: two or more dependent samples"
   ]
  },
  {
   "cell_type": "code",
   "execution_count": 12,
   "metadata": {},
   "outputs": [
    {
     "data": {
      "text/html": [
       "<h3>Mann-Whitney U test</h3>"
      ],
      "text/plain": [
       "<IPython.core.display.HTML object>"
      ]
     },
     "execution_count": 12,
     "metadata": {},
     "output_type": "execute_result"
    },
    {
     "data": {
      "text/plain": [
       "(40.0, 0.23633779675579358)"
      ]
     },
     "execution_count": 12,
     "metadata": {},
     "output_type": "execute_result"
    },
    {
     "data": {
      "text/plain": [
       "(3679.0, 0.0006265820516807091)"
      ]
     },
     "execution_count": 12,
     "metadata": {},
     "output_type": "execute_result"
    },
    {
     "data": {
      "text/html": [
       "<h3>Wilcoxon Signed-Rank Test</h3>"
      ],
      "text/plain": [
       "<IPython.core.display.HTML object>"
      ]
     },
     "execution_count": 12,
     "metadata": {},
     "output_type": "execute_result"
    },
    {
     "data": {
      "text/plain": [
       "(21.0, 0.5076243443095237)"
      ]
     },
     "execution_count": 12,
     "metadata": {},
     "output_type": "execute_result"
    },
    {
     "data": {
      "text/plain": [
       "(1516.0, 0.0005218751483653687)"
      ]
     },
     "execution_count": 12,
     "metadata": {},
     "output_type": "execute_result"
    },
    {
     "data": {
      "text/html": [
       "<h3>Kruskal-Wallis H Test</h3>"
      ],
      "text/plain": [
       "<IPython.core.display.HTML object>"
      ]
     },
     "execution_count": 12,
     "metadata": {},
     "output_type": "execute_result"
    },
    {
     "data": {
      "text/plain": [
       "(0.5714285714285694, 0.4496917979688917)"
      ]
     },
     "execution_count": 12,
     "metadata": {},
     "output_type": "execute_result"
    },
    {
     "data": {
      "text/plain": [
       "(10.418155223880603, 0.0012478247895852392)"
      ]
     },
     "execution_count": 12,
     "metadata": {},
     "output_type": "execute_result"
    },
    {
     "data": {
      "text/html": [
       "<h3>Friedman Test</h3>"
      ],
      "text/plain": [
       "<IPython.core.display.HTML object>"
      ]
     },
     "execution_count": 12,
     "metadata": {},
     "output_type": "execute_result"
    },
    {
     "data": {
      "text/plain": [
       "(114.66000000000008, 1.2644374564977978e-25)"
      ]
     },
     "execution_count": 12,
     "metadata": {},
     "output_type": "execute_result"
    }
   ],
   "source": [
    "N = 100\n",
    "x1 = np.random.randn(N)*2+4\n",
    "x2 = np.random.randn(N)*2+3\n",
    "x3 = np.random.randint(-3, 3, N)\n",
    "data1 = [0.873, 2.817, 0.121, -0.945, -0.055, -1.436, 0.360, -1.478, -1.637, -1.869]\n",
    "data2 = [1.142, -0.432, -0.938, -0.729, -0.846, -0.157, 0.500, 1.183, -1.075, -0.169]\n",
    "\n",
    "# Mann-Whitney U test\n",
    "HTML(h3.format(text='Mann-Whitney U test'))\n",
    "stat, p = stats.mannwhitneyu(data1, data2)\n",
    "stat, p\n",
    "stat, p = stats.mannwhitneyu(x1, x2)\n",
    "stat, p\n",
    "\n",
    "# Wilcoxon Signed-Rank Test\n",
    "HTML(h3.format(text='Wilcoxon Signed-Rank Test'))\n",
    "stat, p = stats.wilcoxon(data1, data2)\n",
    "stat, p\n",
    "stat, p = stats.wilcoxon(x1, x2)\n",
    "stat, p\n",
    "\n",
    "# Kruskal-Wallis H Test\n",
    "HTML(h3.format(text='Kruskal-Wallis H Test'))\n",
    "stat, p = stats.kruskal(data1, data2)\n",
    "stat, p\n",
    "stat, p = stats.kruskal(x1, x2)\n",
    "stat, p\n",
    "\n",
    "# Friedman Test\n",
    "HTML(h3.format(text='Friedman Test'))\n",
    "stat, p = stats.friedmanchisquare(x1, x2, x3)\n",
    "stat, p"
   ]
  },
  {
   "cell_type": "markdown",
   "metadata": {},
   "source": [
    "## Determine sample size"
   ]
  },
  {
   "cell_type": "markdown",
   "metadata": {},
   "source": [
    "## Sampling\n"
   ]
  },
  {
   "cell_type": "code",
   "execution_count": null,
   "metadata": {},
   "outputs": [],
   "source": []
  }
 ],
 "metadata": {
  "kernelspec": {
   "display_name": "Python 3",
   "language": "python",
   "name": "python3"
  },
  "language_info": {
   "codemirror_mode": {
    "name": "ipython",
    "version": 3
   },
   "file_extension": ".py",
   "mimetype": "text/x-python",
   "name": "python",
   "nbconvert_exporter": "python",
   "pygments_lexer": "ipython3",
   "version": "3.6.5"
  }
 },
 "nbformat": 4,
 "nbformat_minor": 2
}
