{
 "cells": [
  {
   "cell_type": "markdown",
   "metadata": {},
   "source": [
    "<h1 id=\"tocheading\">Table of Contents</h1>\n",
    "<div id=\"toc\"></div>"
   ]
  },
  {
   "cell_type": "code",
   "execution_count": 1,
   "metadata": {},
   "outputs": [
    {
     "data": {
      "application/javascript": [
       "$.getScript('https://kmahelona.github.io/ipython_notebook_goodies/ipython_notebook_toc.js')\n"
      ],
      "text/plain": [
       "<IPython.core.display.Javascript object>"
      ]
     },
     "metadata": {},
     "output_type": "display_data"
    }
   ],
   "source": [
    "%%javascript\n",
    "$.getScript('https://kmahelona.github.io/ipython_notebook_goodies/ipython_notebook_toc.js')"
   ]
  },
  {
   "cell_type": "markdown",
   "metadata": {},
   "source": [
    "### 262. Trips and Users"
   ]
  },
  {
   "cell_type": "raw",
   "metadata": {},
   "source": [
    "The Trips table holds all taxi trips. Each trip has a unique Id, while Client_Id and Driver_Id are both foreign keys to the Users_Id at the Users table. Status is an ENUM type of (‘completed’, ‘cancelled_by_driver’, ‘cancelled_by_client’).\n",
    "+----+-----------+-----------+---------+--------------------+----------+\n",
    "| Id | Client_Id | Driver_Id | City_Id |        Status      |Request_at|\n",
    "+----+-----------+-----------+---------+--------------------+----------+\n",
    "| 1  |     1     |    10     |    1    |     completed      |2013-10-01|\n",
    "| 2  |     2     |    11     |    1    | cancelled_by_driver|2013-10-01|\n",
    "| 3  |     3     |    12     |    6    |     completed      |2013-10-01|\n",
    "| 4  |     4     |    13     |    6    | cancelled_by_client|2013-10-01|\n",
    "| 5  |     1     |    10     |    1    |     completed      |2013-10-02|\n",
    "| 6  |     2     |    11     |    6    |     completed      |2013-10-02|\n",
    "| 7  |     3     |    12     |    6    |     completed      |2013-10-02|\n",
    "| 8  |     2     |    12     |    12   |     completed      |2013-10-03|\n",
    "| 9  |     3     |    10     |    12   |     completed      |2013-10-03| \n",
    "| 10 |     4     |    13     |    12   | cancelled_by_driver|2013-10-03|\n",
    "+----+-----------+-----------+---------+--------------------+----------+\n",
    "\n",
    "The Users table holds all users. Each user has an unique Users_Id, and Role is an ENUM type of (‘client’, ‘driver’, ‘partner’).\n",
    "+----------+--------+--------+\n",
    "| Users_Id | Banned |  Role  |\n",
    "+----------+--------+--------+\n",
    "|    1     |   No   | client |\n",
    "|    2     |   Yes  | client |\n",
    "|    3     |   No   | client |\n",
    "|    4     |   No   | client |\n",
    "|    10    |   No   | driver |\n",
    "|    11    |   No   | driver |\n",
    "|    12    |   No   | driver |\n",
    "|    13    |   No   | driver |\n",
    "+----------+--------+--------+\n",
    "\n",
    "Write a SQL query to find the cancellation rate of requests made by unbanned users (both client and driver must be unbanned) between Oct 1, 2013 and Oct 3, 2013. The cancellation rate is computed by dividing the number of canceled (by client or driver) requests made by unbanned users by the total number of requests made by unbanned users.\n",
    "\n",
    "For the above tables, your SQL query should return the following rows with the cancellation rate being rounded to two decimal places.\n",
    "+------------+-------------------+\n",
    "|     Day    | Cancellation Rate |\n",
    "+------------+-------------------+\n",
    "| 2013-10-01 |       0.33        |\n",
    "| 2013-10-02 |       0.00        |\n",
    "| 2013-10-03 |       0.50        |\n",
    "+------------+-------------------+"
   ]
  },
  {
   "cell_type": "markdown",
   "metadata": {
    "scrolled": false
   },
   "source": [
    "```mysql\n",
    "SELECT request_at AS Day, round(sum(cancelled)/count(client_id), 2) AS \"Cancellation Rate\"\n",
    "FROM (\n",
    "    SELECT client_id, request_at,\n",
    "        CASE WHEN status='completed' THEN 0\n",
    "        ELSE 1 END as cancelled\n",
    "    FROM trips\n",
    "    JOIN users ON trips.client_id=users.users_id AND users.banned='No'\n",
    "    WHERE request_at BETWEEN \"2013-10-01\" AND \"2013-10-03\"\n",
    "        AND role='client') A\n",
    "GROUP BY request_at\n",
    "\n",
    "/*SELECT\n",
    "\tTrips.Request_at AS Day,\n",
    "\tCONVERT (\n",
    "\t\tSUM( CASE WHEN Trips.STATUS LIKE 'cancelled_by_%' THEN 1 ELSE 0 END ) / COUNT( * ),\n",
    "\t\tDECIMAL ( 10, 2 ) \n",
    "\t) AS `Cancellation Rate`\n",
    "FROM\n",
    "\tTrips \n",
    "WHERE\n",
    "\tTrips.Client_Id NOT IN ( SELECT Users_Id FROM Users WHERE Banned = 'Yes' AND Role = 'client' ) \n",
    "\tAND Trips.Driver_Id NOT IN ( SELECT Users_Id FROM Users WHERE Banned = 'Yes' AND Role = 'driver' )\n",
    "    AND Trips.Request_at BETWEEN '2013-10-01' AND '2013-10-03'\n",
    "GROUP BY\n",
    "\tRequest_at*/\n",
    "```"
   ]
  },
  {
   "cell_type": "markdown",
   "metadata": {},
   "source": [
    "### 511. Game Play Analysis I"
   ]
  },
  {
   "cell_type": "raw",
   "metadata": {},
   "source": [
    "Table: Activity\n",
    "+--------------+---------+\n",
    "| Column Name  | Type    |\n",
    "+--------------+---------+\n",
    "| player_id    | int     |\n",
    "| device_id    | int     |\n",
    "| event_date   | date    |\n",
    "| games_played | int     |\n",
    "+--------------+---------+\n",
    "(player_id, event_date) is the primary key of this table.\n",
    "This table shows the activity of players of some game.\n",
    "Each row is a record of a player who logged in and played a number of games (possibly 0) before logging out on some day using some device.\n",
    "\n",
    "Write an SQL query that reports the first login date for each player.\n",
    "The query result format is in the following example:\n",
    "Activity table:\n",
    "+-----------+-----------+------------+--------------+\n",
    "| player_id | device_id | event_date | games_played |\n",
    "+-----------+-----------+------------+--------------+\n",
    "| 1         | 2         | 2016-03-01 | 5            |\n",
    "| 1         | 2         | 2016-05-02 | 6            |\n",
    "| 2         | 3         | 2017-06-25 | 1            |\n",
    "| 3         | 1         | 2016-03-02 | 0            |\n",
    "| 3         | 4         | 2018-07-03 | 5            |\n",
    "+-----------+-----------+------------+--------------+\n",
    "\n",
    "Result table:\n",
    "+-----------+-------------+\n",
    "| player_id | first_login |\n",
    "+-----------+-------------+\n",
    "| 1         | 2016-03-01  |\n",
    "| 2         | 2017-06-25  |\n",
    "| 3         | 2016-03-02  |\n",
    "+-----------+-------------+"
   ]
  },
  {
   "cell_type": "markdown",
   "metadata": {
    "scrolled": false
   },
   "source": [
    "```mysql\n",
    "SELECT player_id, MIN(event_date) AS first_login\n",
    "FROM activity\n",
    "GROUP BY player_id\n",
    "```"
   ]
  },
  {
   "cell_type": "markdown",
   "metadata": {},
   "source": [
    "### 512. Game Play Analysis II"
   ]
  },
  {
   "cell_type": "raw",
   "metadata": {},
   "source": [
    "Table: Activity\n",
    "+--------------+---------+\n",
    "| Column Name  | Type    |\n",
    "+--------------+---------+\n",
    "| player_id    | int     |\n",
    "| device_id    | int     |\n",
    "| event_date   | date    |\n",
    "| games_played | int     |\n",
    "+--------------+---------+\n",
    "(player_id, event_date) is the primary key of this table.\n",
    "This table shows the activity of players of some game.\n",
    "Each row is a record of a player who logged in and played a number of games (possibly 0) before logging out on some day using some device.\n",
    "\n",
    "Write a SQL query that reports the device that is first logged in for each player.\n",
    "The query result format is in the following example:\n",
    "Activity table:\n",
    "+-----------+-----------+------------+--------------+\n",
    "| player_id | device_id | event_date | games_played |\n",
    "+-----------+-----------+------------+--------------+\n",
    "| 1         | 2         | 2016-03-01 | 5            |\n",
    "| 1         | 2         | 2016-05-02 | 6            |\n",
    "| 2         | 3         | 2017-06-25 | 1            |\n",
    "| 3         | 1         | 2016-03-02 | 0            |\n",
    "| 3         | 4         | 2018-07-03 | 5            |\n",
    "+-----------+-----------+------------+--------------+\n",
    "\n",
    "Result table:\n",
    "+-----------+-----------+\n",
    "| player_id | device_id |\n",
    "+-----------+-----------+\n",
    "| 1         | 2         |\n",
    "| 2         | 3         |\n",
    "| 3         | 1         |\n",
    "+-----------+-----------+"
   ]
  },
  {
   "cell_type": "markdown",
   "metadata": {
    "scrolled": false
   },
   "source": [
    "```mysql\n",
    "-- MYSQL\n",
    "/*SELECT  a.player_id, device_id\n",
    "FROM activity a\n",
    "JOIN (\n",
    "    SELECT player_id, MIN(event_date) as first_login\n",
    "    FROM activity\n",
    "    GROUP BY player_id\n",
    ") b\n",
    "ON a.player_id=b.player_id AND event_date=first_login*/\n",
    "\n",
    "SELECT  player_id, device_id\n",
    "FROM activity\n",
    "WHERE (player_id, event_date) IN (\n",
    "    SELECT player_id, MIN(event_date) as login\n",
    "    FROM activity\n",
    "    GROUP BY player_id\n",
    ")\n",
    "\n",
    "-- SQL server\n",
    "SELECT  player_id, device_id\n",
    "FROM (\n",
    "    SELECT player_id, device_id,\n",
    "    RANK() OVER (PARTITION BY player_id ORDER BY event_date) as login_no\n",
    "    FROM activity\n",
    ") x\n",
    "WHERE login_no=1\n",
    "```"
   ]
  },
  {
   "cell_type": "markdown",
   "metadata": {},
   "source": [
    "### 534. Game Play Analysis III"
   ]
  },
  {
   "cell_type": "raw",
   "metadata": {},
   "source": [
    "Table: Activity\n",
    "+--------------+---------+\n",
    "| Column Name  | Type    |\n",
    "+--------------+---------+\n",
    "| player_id    | int     |\n",
    "| device_id    | int     |\n",
    "| event_date   | date    |\n",
    "| games_played | int     |\n",
    "+--------------+---------+\n",
    "(player_id, event_date) is the primary key of this table.\n",
    "This table shows the activity of players of some game.\n",
    "Each row is a record of a player who logged in and played a number of games (possibly 0) before logging out on some day using some device.\n",
    "\n",
    "Write an SQL query that reports for each player and date, how many games played so far by the player. That is, the total number of games played by the player until that date. Check the example for clarity.\n",
    "The query result format is in the following example:\n",
    "Activity table:\n",
    "+-----------+-----------+------------+--------------+\n",
    "| player_id | device_id | event_date | games_played |\n",
    "+-----------+-----------+------------+--------------+\n",
    "| 1         | 2         | 2016-03-01 | 5            |\n",
    "| 1         | 2         | 2016-05-02 | 6            |\n",
    "| 1         | 3         | 2017-06-25 | 1            |\n",
    "| 3         | 1         | 2016-03-02 | 0            |\n",
    "| 3         | 4         | 2018-07-03 | 5            |\n",
    "+-----------+-----------+------------+--------------+\n",
    "\n",
    "Result table:\n",
    "+-----------+------------+---------------------+\n",
    "| player_id | event_date | games_played_so_far |\n",
    "+-----------+------------+---------------------+\n",
    "| 1         | 2016-03-01 | 5                   |\n",
    "| 1         | 2016-05-02 | 11                  |\n",
    "| 1         | 2017-06-25 | 12                  |\n",
    "| 3         | 2016-03-02 | 0                   |\n",
    "| 3         | 2018-07-03 | 5                   |\n",
    "+-----------+------------+---------------------+\n",
    "For the player with id 1, 5 + 6 = 11 games played by 2016-05-02, and 5 + 6 + 1 = 12 games played by 2017-06-25.\n",
    "For the player with id 3, 0 + 5 = 5 games played by 2018-07-03.\n",
    "Note that for each player we only care about the days when the player logged in."
   ]
  },
  {
   "cell_type": "markdown",
   "metadata": {
    "scrolled": false
   },
   "source": [
    "```mysql\n",
    "-- MYSQL\n",
    "/*SELECT a.player_id, a.event_date, sum(b.games_played) AS games_played_so_far \n",
    "FROM activity a\n",
    "JOIN activity b\n",
    "WHERE a.event_date>=b.event_date AND a.player_id=b.player_id\n",
    "GROUP BY a.player_id, a.event_date*/\n",
    "\n",
    "select a1.player_id, a1.event_date, sum(a2.games_played) games_played_so_far\n",
    "from Activity a1, Activity a2\n",
    "where a1.event_date >= a2.event_date\n",
    "and a1.player_id = a2.player_id\n",
    "group by a1.player_id, a1.event_date\n",
    "\n",
    "-- SQL server\n",
    "SELECT player_id, event_date,\n",
    "    SUM(games_played) OVER (PARTITION BY player_id ORDER BY event_date) AS games_played_so_far\n",
    "FROM activity\n",
    "```"
   ]
  },
  {
   "cell_type": "markdown",
   "metadata": {},
   "source": [
    "### 550. Game Play Analysis IV"
   ]
  },
  {
   "cell_type": "raw",
   "metadata": {},
   "source": [
    "Table: Activity\n",
    "+--------------+---------+\n",
    "| Column Name  | Type    |\n",
    "+--------------+---------+\n",
    "| player_id    | int     |\n",
    "| device_id    | int     |\n",
    "| event_date   | date    |\n",
    "| games_played | int     |\n",
    "+--------------+---------+\n",
    "(player_id, event_date) is the primary key of this table.\n",
    "This table shows the activity of players of some game.\n",
    "Each row is a record of a player who logged in and played a number of games (possibly 0) before logging out on some day using some device.\n",
    "\n",
    "Write an SQL query that reports the fraction of players that logged in again on the day after the day they first logged in, rounded to 2 decimal places. In other words, you need to count the number of players that logged in for at least two consecutive days starting from their first login date, then divide that number by the total number of players.\n",
    "The query result format is in the following example:\n",
    "Activity table:\n",
    "+-----------+-----------+------------+--------------+\n",
    "| player_id | device_id | event_date | games_played |\n",
    "+-----------+-----------+------------+--------------+\n",
    "| 1         | 2         | 2016-03-01 | 5            |\n",
    "| 1         | 2         | 2016-03-02 | 6            |\n",
    "| 2         | 3         | 2017-06-25 | 1            |\n",
    "| 3         | 1         | 2016-03-02 | 0            |\n",
    "| 3         | 4         | 2018-07-03 | 5            |\n",
    "+-----------+-----------+------------+--------------+\n",
    "\n",
    "Result table:\n",
    "+-----------+\n",
    "| fraction  |\n",
    "+-----------+\n",
    "| 0.33      |\n",
    "+-----------+\n",
    "Only the player with id 1 logged back in after the first day he had logged in so the answer is 1/3 = 0.33"
   ]
  },
  {
   "cell_type": "markdown",
   "metadata": {
    "scrolled": false
   },
   "source": [
    "```mysql\n",
    "-- MYSQL\n",
    "/* SELECT ROUND(COUNT(a.player_id)/(SELECT COUNT(DISTINCT player_id) FROM activity), 2) AS fraction\n",
    "FROM activity a\n",
    "JOIN (\n",
    "    SELECT player_id, MIN(event_date) AS first_login\n",
    "    FROM activity\n",
    "    GROUP BY player_id) b\n",
    "ON a.player_id=b.player_id AND DATEDIFF(a.event_date, first_login)=1 */\n",
    "\n",
    "SELECT ROUND(SUM(\n",
    "    CASE WHEN a.first_login +1 = a2.event_date THEN 1 ELSE 0 END)\n",
    "             / COUNT(DISTINCT a.player_id),2) AS fraction\n",
    "FROM (\n",
    "    SELECT player_id, MIN(event_date) AS first_login\n",
    "    FROM activity\n",
    "    GROUP BY player_id) a\n",
    "JOIN activity a2\n",
    "ON a.player_id=a2.player_id\n",
    "\n",
    "-- SQL server\n",
    "SELECT ROUND( COUNT(DISTINCT player_id)*1.0 / (SELECT COUNT(DISTINCT player_id) FROM activity), 2) AS fraction\n",
    "FROM (\n",
    "    SELECT player_id, event_date,\n",
    "    DATEDIFF(day, LAG(event_date, 1) OVER (PARTITION BY player_id ORDER BY event_date), event_date) AS diff,\n",
    "    RANK() OVER (PARTITION BY player_id ORDER BY event_date) AS rnk\n",
    "    FROM activity\n",
    "    ) x\n",
    "WHERE diff=1 AND rnk=2\n",
    "```"
   ]
  },
  {
   "cell_type": "markdown",
   "metadata": {},
   "source": [
    "### 569. Median Employee Salary"
   ]
  },
  {
   "cell_type": "raw",
   "metadata": {},
   "source": [
    "The Employee table holds all employees. The employee table has three columns: Employee Id, Company Name, and Salary.\n",
    "+-----+------------+--------+\n",
    "|Id   | Company    | Salary |\n",
    "+-----+------------+--------+\n",
    "|1    | A          | 2341   |\n",
    "|2    | A          | 341    |\n",
    "|3    | A          | 15     |\n",
    "|4    | A          | 15314  |\n",
    "|5    | A          | 451    |\n",
    "|6    | A          | 513    |\n",
    "|7    | B          | 15     |\n",
    "|8    | B          | 13     |\n",
    "|9    | B          | 1154   |\n",
    "|10   | B          | 1345   |\n",
    "|11   | B          | 1221   |\n",
    "|12   | B          | 234    |\n",
    "|13   | C          | 2345   |\n",
    "|14   | C          | 2645   |\n",
    "|15   | C          | 2645   |\n",
    "|16   | C          | 2652   |\n",
    "|17   | C          | 65     |\n",
    "+-----+------------+--------+\n",
    "\n",
    "Write a SQL query to find the median salary of each company. Bonus points if you can solve it without using any built-in SQL functions.\n",
    "+-----+------------+--------+\n",
    "|Id   | Company    | Salary |\n",
    "+-----+------------+--------+\n",
    "|5    | A          | 451    |\n",
    "|6    | A          | 513    |\n",
    "|12   | B          | 234    |\n",
    "|9    | B          | 1154   |\n",
    "|14   | C          | 2645   |\n",
    "+-----+------------+--------+"
   ]
  },
  {
   "cell_type": "markdown",
   "metadata": {
    "scrolled": false
   },
   "source": [
    "```mysql\n",
    "-- MYSQL\n",
    "SELECT\n",
    "    Employee.Id, Employee.Company, Employee.Salary\n",
    "FROM\n",
    "    Employee,\n",
    "    Employee alias\n",
    "WHERE\n",
    "    Employee.Company = alias.Company\n",
    "GROUP BY Employee.Company , Employee.Salary\n",
    "HAVING SUM(\n",
    "    CASE WHEN Employee.Salary = alias.Salary THEN 1\n",
    "    ELSE 0 END)\n",
    "    >= ABS(SUM(SIGN(Employee.Salary - alias.Salary)))\n",
    "ORDER BY Employee.Id\n",
    "\n",
    "-- SQL server\n",
    "SELECT id, company, salary\n",
    "FROM (\n",
    "    SELECT id, company, salary,\n",
    "        COUNT(*) OVER (PARTITION BY company) as num_employee,\n",
    "        ROW_NUMBER() OVER (PARTITION BY company ORDER BY salary) as seq_employee\n",
    "    FROM employee) AS x\n",
    "WHERE seq_employee IN (CEILING((num_employee+1)/2.0), FLOOR((num_employee+1)/2.0))\n",
    "```"
   ]
  },
  {
   "cell_type": "markdown",
   "metadata": {},
   "source": [
    "### 570. Managers with at Least 5 Direct Reports"
   ]
  },
  {
   "cell_type": "raw",
   "metadata": {},
   "source": [
    "The Employee table holds all employees including their managers. Every employee has an Id, and there is also a column for the manager Id.\n",
    "+------+----------+-----------+----------+\n",
    "|Id    |Name \t  |Department |ManagerId |\n",
    "+------+----------+-----------+----------+\n",
    "|101   |John \t  |A \t      |null      |\n",
    "|102   |Dan \t  |A \t      |101       |\n",
    "|103   |James \t  |A \t      |101       |\n",
    "|104   |Amy \t  |A \t      |101       |\n",
    "|105   |Anne \t  |A \t      |101       |\n",
    "|106   |Ron \t  |B \t      |101       |\n",
    "+------+----------+-----------+----------+\n",
    "\n",
    "Given the Employee table, write a SQL query that finds out managers with at least 5 direct report. For the above table, your SQL query should return:\n",
    "+-------+\n",
    "| Name  |\n",
    "+-------+\n",
    "| John  |\n",
    "+-------+\n",
    "Note: No one would report to himself."
   ]
  },
  {
   "cell_type": "markdown",
   "metadata": {
    "scrolled": false
   },
   "source": [
    "```mysql\n",
    "SELECT name\n",
    "FROM employee\n",
    "WHERE Id IN (\n",
    "    SELECT managerId\n",
    "    FROM employee\n",
    "    GROUP BY managerId\n",
    "    HAVING count(*)>=5)\n",
    "```"
   ]
  },
  {
   "cell_type": "markdown",
   "metadata": {},
   "source": [
    "### 571. Find Median Given Frequency of Numbers"
   ]
  },
  {
   "cell_type": "raw",
   "metadata": {},
   "source": [
    "The Numbers table keeps the value of number and its frequency.\n",
    "+----------+-------------+\n",
    "|  Number  |  Frequency  |\n",
    "+----------+-------------|\n",
    "|  0       |  7          |\n",
    "|  1       |  1          |\n",
    "|  2       |  3          |\n",
    "|  3       |  1          |\n",
    "+----------+-------------+\n",
    "\n",
    "In this table, the numbers are 0, 0, 0, 0, 0, 0, 0, 1, 2, 2, 2, 3, so the median is (0 + 0) / 2 = 0.\n",
    "+--------+\n",
    "| median |\n",
    "+--------|\n",
    "| 0.0000 |\n",
    "+--------+\n",
    "Write a query to find the median of all numbers and name the result as median."
   ]
  },
  {
   "cell_type": "markdown",
   "metadata": {
    "scrolled": false
   },
   "source": [
    "```mysql\n",
    "-- MYSQL\n",
    "SELECT AVG(median) AS 'median'\n",
    "FROM (\n",
    "    SELECT a.Number as median, a.Frequency\n",
    "    FROM Numbers a, Numbers b\n",
    "    GROUP BY a.Number\n",
    "    HAVING\n",
    "        a.Frequency >= abs(Sum(\n",
    "            CASE WHEN a.Number-b.Number > 0 THEN 1 * b.Frequency\n",
    "                WHEN a.Number=b.Number THEN 0\n",
    "                ELSE -1 * b.Frequency\n",
    "            END))\n",
    ") X\n",
    "\n",
    "-- SQL server\n",
    "with temp as (\n",
    "    select sum(frequency) over(order by number) as cum_total,\n",
    "    (sum(frequency) over(order by number) - frequency) as cum_excluded,\n",
    "    sum(frequency) over () total,\n",
    "    number, frequency\n",
    "    from Numbers)\n",
    "\n",
    "select avg(cast(number as decimal(6,2))) as median\n",
    "from temp\n",
    "where (total/2.0) between cum_excluded and cum_total\n",
    "\n",
    "/*\n",
    "SELECT sum(number)/cast(count(number) AS float) as median\n",
    "FROM (SELECT number, frequency,\n",
    "    sum(frequency) OVER (ORDER BY number ROWS BETWEEN unbounded preceding AND current ROW) AS CUM_NUM_high,\n",
    "    sum(frequency) OVER (ORDER BY number ROWS BETWEEN unbounded preceding AND 1 preceding) AS CUM_NUM_low\n",
    "FROM Numbers) AS X\n",
    "WHERE (SELECT sum(frequency)/2.0 FROM numbers) BETWEEN coalesce(cum_num_low, 0) AND cum_num_high\n",
    "*/\n",
    "```"
   ]
  },
  {
   "cell_type": "markdown",
   "metadata": {},
   "source": [
    "### 574. Winning Candidate"
   ]
  },
  {
   "cell_type": "raw",
   "metadata": {},
   "source": [
    "Table: Candidate\n",
    "+-----+---------+\n",
    "| id  | Name    |\n",
    "+-----+---------+\n",
    "| 1   | A       |\n",
    "| 2   | B       |\n",
    "| 3   | C       |\n",
    "| 4   | D       |\n",
    "| 5   | E       |\n",
    "+-----+---------+  \n",
    "\n",
    "Table: Vote\n",
    "+-----+--------------+\n",
    "| id  | CandidateId  |\n",
    "+-----+--------------+\n",
    "| 1   |     2        |\n",
    "| 2   |     4        |\n",
    "| 3   |     3        |\n",
    "| 4   |     2        |\n",
    "| 5   |     5        |\n",
    "+-----+--------------+\n",
    "\n",
    "id is the auto-increment primary key,\n",
    "CandidateId is the id appeared in Candidate table.\n",
    "Write a sql to find the name of the winning candidate, the above example will return the winner B.\n",
    "+------+\n",
    "| Name |\n",
    "+------+\n",
    "| B    |\n",
    "+------+\n",
    "\n",
    "Notes: You may assume there is no tie, in other words there will be only one winning candidate"
   ]
  },
  {
   "cell_type": "markdown",
   "metadata": {
    "scrolled": false
   },
   "source": [
    "```mysql\n",
    "-- MYSQL\n",
    "SELECT name\n",
    "FROM candidate\n",
    "JOIN vote\n",
    "ON vote.candidateid=candidate.id\n",
    "GROUP BY candidate.id\n",
    "HAVING  count(vote.id)=(\n",
    "    SELECT MAX(votes)\n",
    "    FROM (\n",
    "        SELECT count(*) AS votes\n",
    "        FROM candidate\n",
    "        RIGHT JOIN vote\n",
    "        ON vote.candidateid=candidate.id\n",
    "        GROUP BY candidate.id\n",
    "        ) X\n",
    "    )\n",
    "\n",
    "-- SQL server\n",
    "SELECT C.Name\n",
    "FROM Candidate C\n",
    "JOIN (\n",
    "    SELECT CandidateId, RANK() OVER (ORDER BY COUNT(CandidateId) desc) AS rnk\n",
    "    FROM Vote\n",
    "    GROUP BY CandidateId) Voting\n",
    "    ON C.id = Voting.CandidateId\n",
    "    WHERE Voting.rnk=1\n",
    "```"
   ]
  },
  {
   "cell_type": "markdown",
   "metadata": {},
   "source": [
    "### 577. Employee Bonus"
   ]
  },
  {
   "cell_type": "raw",
   "metadata": {},
   "source": [
    "Select all employee's name and bonus whose bonus is < 1000.\n",
    "Table:Employee\n",
    "+-------+--------+-----------+--------+\n",
    "| empId |  name  | supervisor| salary |\n",
    "+-------+--------+-----------+--------+\n",
    "|   1   | John   |  3        | 1000   |\n",
    "|   2   | Dan    |  3        | 2000   |\n",
    "|   3   | Brad   |  null     | 4000   |\n",
    "|   4   | Thomas |  3        | 4000   |\n",
    "+-------+--------+-----------+--------+\n",
    "empId is the primary key column for this table.\n",
    "\n",
    "Table: Bonus\n",
    "+-------+-------+\n",
    "| empId | bonus |\n",
    "+-------+-------+\n",
    "| 2     | 500   |\n",
    "| 4     | 2000  |\n",
    "+-------+-------+\n",
    "empId is the primary key column for this table.\n",
    "\n",
    "Example ouput:\n",
    "+-------+-------+\n",
    "| name  | bonus |\n",
    "+-------+-------+\n",
    "| John  | null  |\n",
    "| Dan   | 500   |\n",
    "| Brad  | null  |\n",
    "+-------+-------+"
   ]
  },
  {
   "cell_type": "markdown",
   "metadata": {
    "scrolled": false
   },
   "source": [
    "```mysql\n",
    "SELECT name, bonus\n",
    "FROM employee as a\n",
    "LEFT JOIN bonus as b\n",
    "ON a.empid=b.empid \n",
    "WHERE b.bonus<1000 OR b.bonus IS NULL\n",
    "```"
   ]
  },
  {
   "cell_type": "markdown",
   "metadata": {},
   "source": [
    "### 578. Get Highest Answer Rate Question"
   ]
  },
  {
   "cell_type": "raw",
   "metadata": {},
   "source": [
    "Get the highest answer rate question from a table survey_log with these columns: id, action, question_id, answer_id, q_num, timestamp.\n",
    "\n",
    "id means user id; action has these kind of values: \"show\", \"answer\", \"skip\"; answer_id is not null when action column is \"answer\", while is null for \"show\" and \"skip\"; q_num is the numeral order of the question in current session.\n",
    "\n",
    "Write a sql query to identify the question which has the highest answer rate.\n",
    "Example:\n",
    "Input:\n",
    "+------+-----------+--------------+------------+-----------+------------+\n",
    "| id   | action    | question_id  | answer_id  | q_num     | timestamp  |\n",
    "+------+-----------+--------------+------------+-----------+------------+\n",
    "| 5    | show      | 285          | null       | 1         | 123        |\n",
    "| 5    | answer    | 285          | 124124     | 1         | 124        |\n",
    "| 5    | show      | 369          | null       | 2         | 125        |\n",
    "| 5    | skip      | 369          | null       | 2         | 126        |\n",
    "+------+-----------+--------------+------------+-----------+------------+\n",
    "Output:\n",
    "+-------------+\n",
    "| survey_log  |\n",
    "+-------------+\n",
    "|    285      |\n",
    "+-------------+\n",
    "Explanation:\n",
    "question 285 has answer rate 1/1, while question 369 has 0/1 answer rate, so output 285."
   ]
  },
  {
   "cell_type": "markdown",
   "metadata": {
    "scrolled": false
   },
   "source": [
    "```mysql\n",
    "SELECT question_id as survey_log\n",
    "FROM survey_log\n",
    "GROUP BY question_id\n",
    "HAVING (SUM(IF(action='answer',1,0))/COUNT(action))=(\n",
    "    SELECT MAX(rate)\n",
    "    FROM (\n",
    "        SELECT SUM(IF(action='answer',1,0))/COUNT(action) as rate\n",
    "        FROM survey_log\n",
    "        GROUP BY question_id) X\n",
    "    )\n",
    "\n",
    "/*SELECT question_id as survey_log\n",
    "FROM\n",
    "(\n",
    "    SELECT question_id,\n",
    "         SUM(case when action=\"answer\" THEN 1 ELSE 0 END) as num_answer,\n",
    "        SUM(case when action=\"show\" THEN 1 ELSE 0 END) as num_show \n",
    "    FROM survey_log\n",
    "    GROUP BY question_id\n",
    ") as tbl\n",
    "ORDER BY (num_answer / (num_show+num_answer)) DESC\n",
    "LIMIT 1*/\n",
    "```"
   ]
  },
  {
   "cell_type": "markdown",
   "metadata": {},
   "source": [
    "### 579. Find Cumulative Salary of an Employee"
   ]
  },
  {
   "cell_type": "raw",
   "metadata": {},
   "source": [
    "The Employee table holds the salary information in a year.\n",
    "\n",
    "Write a SQL to get the cumulative sum of an employee's salary over a period of 3 months but exclude the most recent month.\n",
    "The result should be displayed by 'Id' ascending, and then by 'Month' descending.\n",
    "Example\n",
    "Input\n",
    "| Id | Month | Salary |\n",
    "|----|-------|--------|\n",
    "| 1  | 1     | 20     |\n",
    "| 2  | 1     | 20     |\n",
    "| 1  | 2     | 30     |\n",
    "| 2  | 2     | 30     |\n",
    "| 3  | 2     | 40     |\n",
    "| 1  | 3     | 40     |\n",
    "| 3  | 3     | 60     |\n",
    "| 1  | 4     | 60     |\n",
    "| 3  | 4     | 70     |\n",
    "\n",
    "Output\n",
    "| Id | Month | Salary |\n",
    "|----|-------|--------|\n",
    "| 1  | 3     | 90     |\n",
    "| 1  | 2     | 50     |\n",
    "| 1  | 1     | 20     |\n",
    "| 2  | 1     | 20     |\n",
    "| 3  | 3     | 100    |\n",
    "| 3  | 2     | 40     |"
   ]
  },
  {
   "cell_type": "markdown",
   "metadata": {
    "scrolled": false
   },
   "source": [
    "```mysql\n",
    "-- MYSQL\n",
    "SELECT t1.id, t1.month, t1.salary\n",
    "FROM (\n",
    "    SELECT a1.id, b1.month, sum(a1.salary) as salary\n",
    "    FROM employee a1, employee b1\n",
    "    where a1.id=b1.id AND a1.month between b1.month-2 and b1.month\n",
    "    group by a1.id, b1.month) t1\n",
    "JOIN (\n",
    "    SELECT id, max(month) as month\n",
    "    FROM (SELECT a.id, b.month, sum(a.salary) as salary\n",
    "    FROM employee a, employee b\n",
    "    where a.id=b.id AND a.month between b.month-2 and b.month\n",
    "    group by a.id, b.month) X\n",
    "    group by id) t2\n",
    "ON t1.id=t2.id AND t1.month!=t2.month\n",
    "ORDER BY t1.id, t1.month DESC\n",
    "\n",
    "-- SQL server\n",
    "SELECT id, month, salary\n",
    "FROM (\n",
    "    SELECT id, month,\n",
    "    SUM(Salary) OVER (PARTITION BY id ORDER BY month ROWS BETWEEN 2 PRECEDING AND CURRENT ROW) AS salary,\n",
    "    RANK() OVER (PARTITION BY id ORDER BY month DESC) as month_rank\n",
    "    FROM employee\n",
    ") AS X\n",
    "WHERE month_rank!=1\n",
    "ORDER BY id, month DESC\n",
    "\n",
    "/* SELECT A.ID,A.MONTH,\n",
    "    SUM(SALARY) over (PARTITION BY A.ID order by month ROWS BETWEEN 2 PRECEDING AND CURRENT ROW ) salary\n",
    "FROM EMPLOYEE A\n",
    "WHERE (A.ID, A.MONTH)\n",
    "    NOT IN (SELECT ID,MAX(MONTH) FROM EMPLOYEE_INPUT GROUP BY ID)\n",
    "ORDER BY A.ID,A.MONTH DESC*/\n",
    "```"
   ]
  },
  {
   "cell_type": "markdown",
   "metadata": {},
   "source": [
    "### 580. Count Student Number in Departments"
   ]
  },
  {
   "cell_type": "raw",
   "metadata": {},
   "source": [
    "A university uses 2 data tables, student and department, to store data about its students and the departments associated with each major.\n",
    "\n",
    "Write a query to print the respective department name and number of students majoring in each department for all departments in the department table (even ones with no current students).\n",
    "Sort your results by descending number of students; if two or more departments have the same number of students, then sort those departments alphabetically by department name.\n",
    "\n",
    "The student is described as follow:\n",
    "| Column Name  | Type      |\n",
    "|--------------|-----------|\n",
    "| student_id   | Integer   |\n",
    "| student_name | String    |\n",
    "| gender       | Character |\n",
    "| dept_id      | Integer   |\n",
    "where student_id is the student's ID number, student_name is the student's name, gender is their gender, and dept_id is the department ID associated with their declared major.\n",
    "\n",
    "And the department table is described as below:\n",
    "| Column Name | Type    |\n",
    "|-------------|---------|\n",
    "| dept_id     | Integer |\n",
    "| dept_name   | String  |\n",
    "where dept_id is the department's ID number and dept_name is the department name.\n",
    "\n",
    "Here is an example input:\n",
    "student table:\n",
    "| student_id | student_name | gender | dept_id |\n",
    "|------------|--------------|--------|---------|\n",
    "| 1          | Jack         | M      | 1       |\n",
    "| 2          | Jane         | F      | 1       |\n",
    "| 3          | Mark         | M      | 2       |\n",
    "department table:\n",
    "| dept_id | dept_name   |\n",
    "|---------|-------------|\n",
    "| 1       | Engineering |\n",
    "| 2       | Science     |\n",
    "| 3       | Law         |\n",
    "\n",
    "The Output should be:\n",
    "| dept_name   | student_number |\n",
    "|-------------|----------------|\n",
    "| Engineering | 2              |\n",
    "| Science     | 1              |\n",
    "| Law         | 0              |"
   ]
  },
  {
   "cell_type": "markdown",
   "metadata": {},
   "source": [
    "```mysql\n",
    "SELECT dept_name, COUNT(student_name) as student_number\n",
    "FROM department d\n",
    "LEFT JOIN student s\n",
    "ON d.dept_id=s.dept_id\n",
    "GROUP BY d.dept_name\n",
    "ORDER BY student_number DESC, d.dept_name\n",
    "```"
   ]
  }
 ],
 "metadata": {
  "kernelspec": {
   "display_name": "Python 3",
   "language": "python",
   "name": "python3"
  },
  "language_info": {
   "codemirror_mode": {
    "name": "ipython",
    "version": 3
   },
   "file_extension": ".py",
   "mimetype": "text/x-python",
   "name": "python",
   "nbconvert_exporter": "python",
   "pygments_lexer": "ipython3",
   "version": "3.7.4"
  }
 },
 "nbformat": 4,
 "nbformat_minor": 2
}
