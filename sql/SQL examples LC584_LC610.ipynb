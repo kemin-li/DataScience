{
 "cells": [
  {
   "cell_type": "markdown",
   "metadata": {},
   "source": [
    "<h1 id=\"tocheading\">Table of Contents</h1>\n",
    "<div id=\"toc\"></div>"
   ]
  },
  {
   "cell_type": "code",
   "execution_count": 1,
   "metadata": {},
   "outputs": [
    {
     "data": {
      "application/javascript": [
       "$.getScript('https://kmahelona.github.io/ipython_notebook_goodies/ipython_notebook_toc.js')\n"
      ],
      "text/plain": [
       "<IPython.core.display.Javascript object>"
      ]
     },
     "metadata": {},
     "output_type": "display_data"
    }
   ],
   "source": [
    "%%javascript\n",
    "$.getScript('https://kmahelona.github.io/ipython_notebook_goodies/ipython_notebook_toc.js')"
   ]
  },
  {
   "cell_type": "markdown",
   "metadata": {},
   "source": [
    "### 584. Find Customer Referee"
   ]
  },
  {
   "cell_type": "raw",
   "metadata": {},
   "source": [
    "Given a table customer holding customers information and the referee.\n",
    "+------+------+-----------+\n",
    "| id   | name | referee_id|\n",
    "+------+------+-----------+\n",
    "|    1 | Will |      NULL |\n",
    "|    2 | Jane |      NULL |\n",
    "|    3 | Alex |         2 |\n",
    "|    4 | Bill |      NULL |\n",
    "|    5 | Zack |         1 |\n",
    "|    6 | Mark |         2 |\n",
    "+------+------+-----------+\n",
    "Write a query to return the list of customers NOT referred by the person with id '2'.\n",
    "\n",
    "For the sample data above, the result is:\n",
    "+------+\n",
    "| name |\n",
    "+------+\n",
    "| Will |\n",
    "| Jane |\n",
    "| Bill |\n",
    "| Zack |\n",
    "+------+"
   ]
  },
  {
   "cell_type": "markdown",
   "metadata": {
    "scrolled": false
   },
   "source": [
    "```mysql\n",
    "SELECT name\n",
    "FROM customer\n",
    "WHERE referee_id!=2 OR referee_id IS NULL\n",
    "```"
   ]
  },
  {
   "cell_type": "markdown",
   "metadata": {},
   "source": [
    "### 585. Investments in 2016"
   ]
  },
  {
   "cell_type": "raw",
   "metadata": {},
   "source": [
    "Write a query to print the sum of all total investment values in 2016 (TIV_2016), to a scale of 2 decimal places, for all policy holders who meet the following criteria:\n",
    "\n",
    "Have the same TIV_2015 value as one or more other policyholders.\n",
    "Are not located in the same city as any other policyholder (i.e.: the (latitude, longitude) attribute pairs must be unique).\n",
    "Input Format:\n",
    "The insurance table is described as follows:\n",
    "| Column Name | Type          |\n",
    "|-------------|---------------|\n",
    "| PID         | INTEGER(11)   |\n",
    "| TIV_2015    | NUMERIC(15,2) |\n",
    "| TIV_2016    | NUMERIC(15,2) |\n",
    "| LAT         | NUMERIC(5,2)  |\n",
    "| LON         | NUMERIC(5,2)  |\n",
    "where PID is the policyholder's policy ID, TIV_2015 is the total investment value in 2015, TIV_2016 is the total investment value in 2016, LAT is the latitude of the policy holder's city, and LON is the longitude of the policy holder's city.\n",
    "\n",
    "Sample Input\n",
    "| PID | TIV_2015 | TIV_2016 | LAT | LON |\n",
    "|-----|----------|----------|-----|-----|\n",
    "| 1   | 10       | 5        | 10  | 10  |\n",
    "| 2   | 20       | 20       | 20  | 20  |\n",
    "| 3   | 10       | 30       | 20  | 20  |\n",
    "| 4   | 10       | 40       | 40  | 40  |\n",
    "Sample Output\n",
    "| TIV_2016 |\n",
    "|----------|\n",
    "| 45.00    |\n",
    "\n",
    "Explanation\n",
    "The first record in the table, like the last record, meets both of the two criteria.\n",
    "The TIV_2015 value '10' is as the same as the third and forth record, and its location unique.\n",
    "The second record does not meet any of the two criteria. Its TIV_2015 is not like any other policyholders.\n",
    "And its location is the same with the third record, which makes the third record fail, too.\n",
    "So, the result is the sum of TIV_2016 of the first and last record, which is 45."
   ]
  },
  {
   "cell_type": "markdown",
   "metadata": {
    "scrolled": false
   },
   "source": [
    "```mysql\n",
    "SELECT SUM(i.TIV_2016) AS TIV_2016\n",
    "FROM insurance i\n",
    "JOIN (\n",
    "    SELECT lat, lon\n",
    "    FROM insurance\n",
    "    GROUP BY lat, lon\n",
    "    HAVING COUNT(pid)=1\n",
    ") AS X\n",
    "ON i.lat=x.lat AND i.lon=x.lon\n",
    "WHERE TIV_2015 IN (\n",
    "    SELECT TIV_2015\n",
    "    FROM insurance\n",
    "    GROUP BY TIV_2015\n",
    "    HAVING COUNT(tiv_2015)>1)\n",
    "\n",
    "/*SELECT SUM(TIV_2016) AS TIV_2016\n",
    "FROM insurance\n",
    "WHERE TIV_2015 IN (\n",
    "    SELECT TIV_2015\n",
    "    FROM insurance\n",
    "    GROUP BY TIV_2015\n",
    "    HAVING COUNT(tiv_2015)>1)\n",
    "AND CONCAT_WS(',', lat, lon) IN (\n",
    "    SELECT CONCAT_WS(',', lat, lon)\n",
    "    FROM insurance\n",
    "    GROUP BY CONCAT_WS(',', lat, lon)\n",
    "    HAVING COUNT(pid)=1)*/\n",
    "```"
   ]
  },
  {
   "cell_type": "markdown",
   "metadata": {},
   "source": [
    "### 586. Customer Placing the Largest Number of Orders"
   ]
  },
  {
   "cell_type": "raw",
   "metadata": {},
   "source": [
    "Query the customer_number from the orders table for the customer who has placed the largest number of orders.\n",
    "It is guaranteed that exactly one customer will have placed more orders than any other customer.\n",
    "\n",
    "The orders table is defined as follows:\n",
    "| Column            | Type      |\n",
    "|-------------------|-----------|\n",
    "| order_number (PK) | int       |\n",
    "| customer_number   | int       |\n",
    "| order_date        | date      |\n",
    "| required_date     | date      |\n",
    "| shipped_date      | date      |\n",
    "| status            | char(15)  |\n",
    "| comment           | char(200) |\n",
    "\n",
    "Sample Input\n",
    "| order_number | customer_number | order_date | required_date | shipped_date | status | comment |\n",
    "|--------------|-----------------|------------|---------------|--------------|--------|---------|\n",
    "| 1            | 1               | 2017-04-09 | 2017-04-13    | 2017-04-12   | Closed |         |\n",
    "| 2            | 2               | 2017-04-15 | 2017-04-20    | 2017-04-18   | Closed |         |\n",
    "| 3            | 3               | 2017-04-16 | 2017-04-25    | 2017-04-20   | Closed |         |\n",
    "| 4            | 3               | 2017-04-18 | 2017-04-28    | 2017-04-25   | Closed |         |\n",
    "Sample Output\n",
    "| customer_number |\n",
    "|-----------------|\n",
    "| 3               |\n",
    "\n",
    "Explanation\n",
    "The customer with number '3' has two orders, which is greater than either customer '1' or '2' because each of them  only has one order. \n",
    "So the result is customer_number '3'.\n",
    "Follow up: What if more than one customer have the largest number of orders, can you find all the customer_number in this case?"
   ]
  },
  {
   "cell_type": "markdown",
   "metadata": {
    "scrolled": false
   },
   "source": [
    "```mysql\n",
    "/*SELECT customer_number\n",
    "FROM orders\n",
    "GROUP BY customer_number\n",
    "HAVING COUNT(*) = (\n",
    "    SELECT MAX(X.n_order)\n",
    "    FROM (\n",
    "        SELECT customer_number, COUNT(*) as n_order\n",
    "        FROM orders\n",
    "        GROUP BY customer_number) AS X)*/\n",
    "SELECT customer_number\n",
    "FROM orders\n",
    "GROUP BY customer_number\n",
    "HAVING COUNT(*) >= ALL(\n",
    "    SELECT COUNT(*) as n_order\n",
    "    FROM orders\n",
    "    GROUP BY customer_number)\n",
    "```"
   ]
  },
  {
   "cell_type": "markdown",
   "metadata": {},
   "source": [
    "### 595. Big Countries"
   ]
  },
  {
   "cell_type": "raw",
   "metadata": {},
   "source": [
    "There is a table World\n",
    "+-----------------+------------+------------+--------------+---------------+\n",
    "| name            | continent  | area       | population   | gdp           |\n",
    "+-----------------+------------+------------+--------------+---------------+\n",
    "| Afghanistan     | Asia       | 652230     | 25500100     | 20343000      |\n",
    "| Albania         | Europe     | 28748      | 2831741      | 12960000      |\n",
    "| Algeria         | Africa     | 2381741    | 37100000     | 188681000     |\n",
    "| Andorra         | Europe     | 468        | 78115        | 3712000       |\n",
    "| Angola          | Africa     | 1246700    | 20609294     | 100990000     |\n",
    "+-----------------+------------+------------+--------------+---------------+\n",
    "A country is big if it has an area of bigger than 3 million square km or a population of more than 25 million.\n",
    "\n",
    "Write a SQL solution to output big countries' name, population and area.\n",
    "For example, according to the above table, we should output:\n",
    "+--------------+-------------+--------------+\n",
    "| name         | population  | area         |\n",
    "+--------------+-------------+--------------+\n",
    "| Afghanistan  | 25500100    | 652230       |\n",
    "| Algeria      | 37100000    | 2381741      |\n",
    "+--------------+-------------+--------------+"
   ]
  },
  {
   "cell_type": "markdown",
   "metadata": {
    "scrolled": false
   },
   "source": [
    "```mysql\n",
    "SELECT name, population, area\n",
    "FROM World\n",
    "WHERE area>3000000 OR population>25000000\n",
    "```"
   ]
  },
  {
   "cell_type": "markdown",
   "metadata": {},
   "source": [
    "### 596. Classes More Than 5 Students"
   ]
  },
  {
   "cell_type": "raw",
   "metadata": {},
   "source": [
    "There is a table courses with columns: student and class\n",
    "Please list out all classes which have more than or equal to 5 students.\n",
    "\n",
    "For example, the table:\n",
    "+---------+------------+\n",
    "| student | class      |\n",
    "+---------+------------+\n",
    "| A       | Math       |\n",
    "| B       | English    |\n",
    "| C       | Math       |\n",
    "| D       | Biology    |\n",
    "| E       | Math       |\n",
    "| F       | Computer   |\n",
    "| G       | Math       |\n",
    "| H       | Math       |\n",
    "| I       | Math       |\n",
    "+---------+------------+\n",
    "Should output:\n",
    "+---------+\n",
    "| class   |\n",
    "+---------+\n",
    "| Math    |\n",
    "+---------+"
   ]
  },
  {
   "cell_type": "markdown",
   "metadata": {
    "scrolled": false
   },
   "source": [
    "```mysql\n",
    "SELECT class\n",
    "FROM courses\n",
    "GROUP BY class\n",
    "HAVING COUNT(DISTINCT student)>=5\n",
    "```"
   ]
  },
  {
   "cell_type": "markdown",
   "metadata": {},
   "source": [
    "### 597. Friend Requests I: Overall Acceptance Rate"
   ]
  },
  {
   "cell_type": "raw",
   "metadata": {},
   "source": [
    "In social network like Facebook or Twitter, people send friend requests and accept others’ requests as well. Now given two tables as below:\n",
    "Table: friend_request\n",
    "| sender_id | send_to_id |request_date|\n",
    "|-----------|------------|------------|\n",
    "| 1         | 2          | 2016_06-01 |\n",
    "| 1         | 3          | 2016_06-01 |\n",
    "| 1         | 4          | 2016_06-01 |\n",
    "| 2         | 3          | 2016_06-02 |\n",
    "| 3         | 4          | 2016-06-09 |\n",
    "\n",
    "Table: request_accepted\n",
    "| requester_id | accepter_id |accept_date |\n",
    "|--------------|-------------|------------|\n",
    "| 1            | 2           | 2016_06-03 |\n",
    "| 1            | 3           | 2016-06-08 |\n",
    "| 2            | 3           | 2016-06-08 |\n",
    "| 3            | 4           | 2016-06-09 |\n",
    "| 3            | 4           | 2016-06-10 |\n",
    "\n",
    "Write a query to find the overall acceptance rate of requests rounded to 2 decimals, which is the number of acceptance divide the number of requests.\n",
    "For the sample data above, your query should return the following result.\n",
    "|accept_rate|\n",
    "|-----------|\n",
    "|       0.80|\n",
    "\n",
    "Note:\n",
    "The accepted requests are not necessarily from the table friend_request. In this case, you just need to simply count the total accepted requests (no matter whether they are in the original requests), and divide it by the number of requests to get the acceptance rate.\n",
    "It is possible that a sender sends multiple requests to the same receiver, and a request could be accepted more than once. In this case, the ‘duplicated’ requests or acceptances are only counted once.\n",
    "If there is no requests at all, you should return 0.00 as the accept_rate.\n",
    "\n",
    "Explanation: There are 4 unique accepted requests, and there are 5 requests in total. So the rate is 0.80.\n",
    "\n",
    "Follow-up:\n",
    "Can you write a query to return the accept rate but for every month?\n",
    "How about the cumulative accept rate for every day?"
   ]
  },
  {
   "cell_type": "markdown",
   "metadata": {
    "scrolled": false
   },
   "source": [
    "```mysql\n",
    "SELECT ROUND(IFNULL(COUNT(DISTINCT requester_id, accepter_id)/COUNT(DISTINCT sender_id, send_to_id), 0), 2) AS accept_rate\n",
    "FROM friend_request, request_accepted\n",
    "\n",
    "# acceptance rate for each month\n",
    "/* SELECT IFNULL(n_acc/n_req, 0) as accept_rate\n",
    "FROM (\n",
    "    SELECT A.mon, n_req, n_acc\n",
    "    FROM (SELECT month(request_date) as mon, count(distinct sender_id, send_to_id) as n_req\n",
    "    FROM friend_request\n",
    "    GROUP BY month(request_date)) AS A\n",
    "    JOIN (SELECT month(accept_date) as mon, count(distinct requester_id, accepter_id) as n_acc\n",
    "    FROM request_accepted\n",
    "    GROUP BY month(accept_date)) AS B\n",
    "    ON A.mon=B.mon) AS C*/\n",
    "```"
   ]
  },
  {
   "cell_type": "markdown",
   "metadata": {},
   "source": [
    "### 601. Human Traffic of Stadium"
   ]
  },
  {
   "cell_type": "raw",
   "metadata": {},
   "source": [
    "X city built a new stadium, each day many people visit it and the stats are saved as these columns: id, visit_date, people\n",
    "Please write a query to display the records which have 3 or more consecutive rows and the amount of people more than 100(inclusive).\n",
    "\n",
    "For example, the table stadium:\n",
    "+------+------------+-----------+\n",
    "| id   | visit_date | people    |\n",
    "+------+------------+-----------+\n",
    "| 1    | 2017-01-01 | 10        |\n",
    "| 2    | 2017-01-02 | 109       |\n",
    "| 3    | 2017-01-03 | 150       |\n",
    "| 4    | 2017-01-04 | 99        |\n",
    "| 5    | 2017-01-05 | 145       |\n",
    "| 6    | 2017-01-06 | 1455      |\n",
    "| 7    | 2017-01-07 | 199       |\n",
    "| 8    | 2017-01-08 | 188       |\n",
    "+------+------------+-----------+\n",
    "For the sample data above, the output is:\n",
    "+------+------------+-----------+\n",
    "| id   | visit_date | people    |\n",
    "+------+------------+-----------+\n",
    "| 5    | 2017-01-05 | 145       |\n",
    "| 6    | 2017-01-06 | 1455      |\n",
    "| 7    | 2017-01-07 | 199       |\n",
    "| 8    | 2017-01-08 | 188       |\n",
    "+------+------------+-----------+\n",
    "\n",
    "Note:\n",
    "Each day only have one row record, and the dates are increasing with id increasing."
   ]
  },
  {
   "cell_type": "markdown",
   "metadata": {
    "scrolled": false
   },
   "source": [
    "```mysql\n",
    "-- MYSQL\n",
    "SELECT id, visit_date , people\n",
    "FROM stadium\n",
    "WHERE people > 99\n",
    "AND ( ((id-1 IN (SELECT id FROM stadium WHERE people > 99 ))\n",
    "    and (id-2 IN (SELECT id FROM stadium WHERE people > 99 )))\n",
    "OR ((id -1 IN (SELECT id FROM stadium WHERE people > 99 ))\n",
    "    and (id +1 IN (SELECT id FROM stadium WHERE people > 99 )) )\n",
    "OR ((id+1 IN (SELECT id FROM stadium WHERE people > 99 ))\n",
    "    and (id+2 IN (SELECT id FROM stadium WHERE people > 99 ))) )\n",
    "-- SQL server\n",
    "         /* WRONG WHERE CONDITIONS */\n",
    "/*SELECT id, visit_date, people\n",
    "FROM (\n",
    "    SELECT id, visit_date, people,\n",
    "        MIN(people) OVER (ORDER BY id ROWS BETWEEN 2 PRECEDING AND CURRENT ROW) as min_before,\n",
    "        MIN(people) OVER (ORDER BY id ROWS BETWEEN CURRENT ROW AND 2 FOLLOWING) as min_after,\n",
    "        ROW_NUMBER() OVER (ORDER BY id) as row,\n",
    "        COUNT(id) OVER () as n_rows\n",
    "    FROM stadium ) x\n",
    "WHERE (min_after>=100 and row<=2)\n",
    "OR (min_before>=100 and row>(n_rows-2))\n",
    "OR ((min_before>=100 or min_after>=100)and (row>2 and row<=(n_rows-2)) )*/\n",
    "\n",
    "SELECT a.id, a.visit_date, a.people\n",
    "FROM (\n",
    "    SELECT id, visit_date, people,\n",
    "    LAG(people, 2) OVER (ORDER BY visit_date) as m2,\n",
    "    LAG(people, 1) OVER (ORDER BY visit_date) as m1,\n",
    "    LEAD(people, 1) OVER (ORDER BY visit_date) as p1, \n",
    "    LEAD(people, 2) OVER (ORDER BY visit_date) as p2\n",
    "    FROM stadium) a\n",
    "WHERE\n",
    "    (a.people>=100 and a.p1>=100 and a.p2>=100)\n",
    "or  (a.m2>=100 and a.m1>=100 and a.people>=100)\n",
    "or  (a.m1>=100 and a.people>=100 and a.p1>=100)\n",
    "```"
   ]
  },
  {
   "cell_type": "markdown",
   "metadata": {},
   "source": [
    "### 602. Friend Requests II: Who Has the Most Friends"
   ]
  },
  {
   "cell_type": "raw",
   "metadata": {},
   "source": [
    "In social network like Facebook or Twitter, people send friend requests and accept others' requests as well.\n",
    "\n",
    "Table request_accepted\n",
    "+--------------+-------------+------------+\n",
    "| requester_id | accepter_id | accept_date|\n",
    "|--------------|-------------|------------|\n",
    "| 1            | 2           | 2016_06-03 |\n",
    "| 1            | 3           | 2016-06-08 |\n",
    "| 2            | 3           | 2016-06-08 |\n",
    "| 3            | 4           | 2016-06-09 |\n",
    "+--------------+-------------+------------+\n",
    "This table holds the data of friend acceptance, while requester_id and accepter_id both are the id of a person.\n",
    "\n",
    "Write a query to find the the people who has most friends and the most friends number under the following rules:\n",
    "It is guaranteed there is only 1 people having the most friends.\n",
    "The friend request could only been accepted once, which mean there is no multiple records with the same requester_id and accepter_id value.\n",
    "For the sample data above, the result is:\n",
    "\n",
    "Result table:\n",
    "+------+------+\n",
    "| id   | num  |\n",
    "|------|------|\n",
    "| 3    | 3    |\n",
    "+------+------+\n",
    "The person with id '3' is a friend of people '1', '2' and '4', so he has 3 friends in total, which is the most number than any others.\n",
    "Follow-up:\n",
    "In the real world, multiple people could have the same most number of friends, can you find all these people in this case?"
   ]
  },
  {
   "cell_type": "markdown",
   "metadata": {
    "scrolled": false
   },
   "source": [
    "```mysql\n",
    "-- MYSQL\n",
    "SELECT id, num\n",
    "FROM (\n",
    "    SELECT id, SUM(cnt) AS num\n",
    "    FROM (\n",
    "        SELECT requester_id as id, count(accepter_id) as cnt\n",
    "        FROM request_accepted a\n",
    "        GROUP BY requester_id\n",
    "        UNION ALL\n",
    "        SELECT accepter_id as id, count(requester_id) as cnt\n",
    "        FROM request_accepted b\n",
    "        GROUP BY accepter_id) AS x\n",
    "    GROUP BY id) AS Y\n",
    "ORDER BY num DESC\n",
    "LIMIT 1\n",
    "\n",
    "-- SQL server\n",
    "SELECT id, num\n",
    "FROM (\n",
    "    SELECT id, num, RANK() OVER (ORDER BY num DESC) AS rnk\n",
    "    FROM (\n",
    "        SELECT id, SUM(cnt) AS num\n",
    "        FROM (\n",
    "            SELECT requester_id as id, count(accepter_id) as cnt\n",
    "            FROM request_accepted\n",
    "            GROUP BY requester_id\n",
    "            UNION ALL\n",
    "            SELECT accepter_id as id, count(requester_id) as cnt\n",
    "            FROM request_accepted\n",
    "            GROUP BY accepter_id) AS x\n",
    "    GROUP BY id ) AS y\n",
    "    ) AS z\n",
    "WHERE rnk=1\n",
    "```"
   ]
  },
  {
   "cell_type": "markdown",
   "metadata": {},
   "source": [
    "### 603. Consecutive Available Seats"
   ]
  },
  {
   "cell_type": "raw",
   "metadata": {},
   "source": [
    "Several friends at a cinema ticket office would like to reserve consecutive available seats.\n",
    "Can you help to query all the consecutive available seats order by the seat_id using the following cinema table?\n",
    "| seat_id | free |\n",
    "|---------|------|\n",
    "| 1       | 1    |\n",
    "| 2       | 0    |\n",
    "| 3       | 1    |\n",
    "| 4       | 1    |\n",
    "| 5       | 1    |\n",
    "\n",
    "Your query should return the following result for the sample case above.\n",
    "| seat_id |\n",
    "|---------|\n",
    "| 3       |\n",
    "| 4       |\n",
    "| 5       |\n",
    "Note:\n",
    "The seat_id is an auto increment int, and free is bool ('1' means free, and '0' means occupied.).\n",
    "Consecutive available seats are more than 2(inclusive) seats consecutively available."
   ]
  },
  {
   "cell_type": "markdown",
   "metadata": {
    "scrolled": false
   },
   "source": [
    "```mysql\n",
    "SELECT DISTINCT a.seat_id AS seat_id\n",
    "FROM cinema as a\n",
    "JOIN cinema as b\n",
    "ON ABS(a.seat_id-b.seat_id)=1 AND (a.free=1 AND b.free=1)\n",
    "ORDER BY seat_id\n",
    "\n",
    "/*SELECT DISTINCT a.seat_id\n",
    "FROM cinema as a\n",
    "JOIN cinema as b\n",
    "ON (a.seat_id=b.seat_id-1 AND (a.free=1 AND b.free=1) )\n",
    "OR (a.seat_id=b.seat_id+1 AND (a.free=1 AND b.free=1) )*/\n",
    "```"
   ]
  },
  {
   "cell_type": "markdown",
   "metadata": {},
   "source": [
    "### 607. Sales Person"
   ]
  },
  {
   "cell_type": "raw",
   "metadata": {},
   "source": [
    "Given three tables: salesperson, company, orders.\n",
    "Output all the names in the table salesperson, who didn’t have sales to company 'RED'.\n",
    "\n",
    "Input\n",
    "Table: salesperson\n",
    "+----------+------+--------+-----------------+-----------+\n",
    "| sales_id | name | salary | commission_rate | hire_date |\n",
    "+----------+------+--------+-----------------+-----------+\n",
    "|   1      | John | 100000 |     6           | 4/1/2006  |\n",
    "|   2      | Amy  | 120000 |     5           | 5/1/2010  |\n",
    "|   3      | Mark | 65000  |     12          | 12/25/2008|\n",
    "|   4      | Pam  | 25000  |     25          | 1/1/2005  |\n",
    "|   5      | Alex | 50000  |     10          | 2/3/2007  |\n",
    "+----------+------+--------+-----------------+-----------+\n",
    "The table salesperson holds the salesperson information. Every salesperson has a sales_id and a name.\n",
    "Table: company\n",
    "+---------+--------+------------+\n",
    "| com_id  |  name  |    city    |\n",
    "+---------+--------+------------+\n",
    "|   1     |  RED   |   Boston   |\n",
    "|   2     | ORANGE |   New York |\n",
    "|   3     | YELLOW |   Boston   |\n",
    "|   4     | GREEN  |   Austin   |\n",
    "+---------+--------+------------+\n",
    "The table company holds the company information. Every company has a com_id and a name.\n",
    "Table: orders\n",
    "+----------+------------+---------+----------+--------+\n",
    "| order_id | order_date | com_id  | sales_id | amount |\n",
    "+----------+------------+---------+----------+--------+\n",
    "| 1        |   1/1/2014 |    3    |    4     | 100000 |\n",
    "| 2        |   2/1/2014 |    4    |    5     | 5000   |\n",
    "| 3        |   3/1/2014 |    1    |    1     | 50000  |\n",
    "| 4        |   4/1/2014 |    1    |    4     | 25000  |\n",
    "+----------+----------+---------+----------+--------+\n",
    "The table orders holds the sales record information, salesperson and customer company are represented by sales_id and com_id.\n",
    "output\n",
    "+------+\n",
    "| name | \n",
    "+------+\n",
    "| Amy  | \n",
    "| Mark | \n",
    "| Alex |\n",
    "+------+\n",
    "\n",
    "Explanation\n",
    "According to order '3' and '4' in table orders, it is easy to tell only salesperson 'John' and 'Alex' have sales to company 'RED',\n",
    "so we need to output all the other names in table salesperson."
   ]
  },
  {
   "cell_type": "markdown",
   "metadata": {
    "scrolled": false
   },
   "source": [
    "```mysql\n",
    "SELECT name\n",
    "FROM salesperson\n",
    "WHERE sales_id NOT IN(\n",
    "    SELECT DISTINCT a.sales_id\n",
    "    FROM orders AS a\n",
    "    JOIN company AS b\n",
    "    ON a.com_id=b.com_id AND b.name='RED')\n",
    "```"
   ]
  },
  {
   "cell_type": "markdown",
   "metadata": {},
   "source": [
    "### 608. Tree Node"
   ]
  },
  {
   "cell_type": "raw",
   "metadata": {},
   "source": [
    "Given a table tree, id is identifier of the tree node and p_id is its parent node's id.\n",
    "+----+------+\n",
    "| id | p_id |\n",
    "+----+------+\n",
    "| 1  | null |\n",
    "| 2  | 1    |\n",
    "| 3  | 1    |\n",
    "| 4  | 2    |\n",
    "| 5  | 2    |\n",
    "+----+------+\n",
    "Each node in the tree can be one of three types:\n",
    "Leaf: if the node is a leaf node.\n",
    "Root: if the node is the root of the tree.\n",
    "Inner: If the node is neither a leaf node nor a root node.\n",
    "\n",
    "Write a query to print the node id and the type of the node. Sort your output by the node id. The result for the above sample is:\n",
    "+----+------+\n",
    "| id | Type |\n",
    "+----+------+\n",
    "| 1  | Root |\n",
    "| 2  | Inner|\n",
    "| 3  | Leaf |\n",
    "| 4  | Leaf |\n",
    "| 5  | Leaf |\n",
    "+----+------+\n",
    "\n",
    "Explanation\n",
    "\n",
    "Node '1' is root node, because its parent node is NULL and it has child node '2' and '3'.\n",
    "Node '2' is inner node, because it has parent node '1' and child node '4' and '5'.\n",
    "Node '3', '4' and '5' is Leaf node, because they have parent node and they don't have child node.\n",
    "\n",
    "And here is the image of the sample tree as below:\n",
    "\t\t\t  1\n",
    "\t\t\t/   \\\n",
    "                      2       3\n",
    "                    /   \\\n",
    "                  4       5\n",
    "Note\n",
    "If there is only one node on the tree, you only need to output its root attributes."
   ]
  },
  {
   "cell_type": "markdown",
   "metadata": {
    "scrolled": false
   },
   "source": [
    "```mysql\n",
    "# left join solution\n",
    "/*SELECT id,\n",
    "    case when pid=0 then 'Root'\n",
    "        when pid!=0 and cid!=0 then 'Inner'\n",
    "        else 'Leaf'\n",
    "    end AS Type\n",
    "FROM (\n",
    "    SELECT a.id as Id, count(a.p_id) as pid, count(b.id) as cid\n",
    "    FROM tree a\n",
    "    LEFT JOIN tree b\n",
    "    ON a.id=b.p_id\n",
    "    GROUP BY id) X*/\n",
    "\n",
    "# sub query solution\n",
    "select id as Id,\n",
    "    case when p_id is null then 'Root'\n",
    "         when id in (select p_id from tree) then 'Inner'\n",
    "         else 'Leaf'\n",
    "    end as Type\n",
    "from tree\n",
    "order by id\n",
    "```"
   ]
  },
  {
   "cell_type": "markdown",
   "metadata": {},
   "source": [
    "### 610. Triangle Judgement"
   ]
  },
  {
   "cell_type": "raw",
   "metadata": {},
   "source": [
    "A pupil Tim gets homework to identify whether three line segments could possibly form a triangle.\n",
    "However, this assignment is very heavy because there are hundreds of records to calculate.\n",
    "\n",
    "Could you help Tim by writing a query to judge whether these three sides can form a triangle, assuming table triangle holds the length of the three sides x, y and z.\n",
    "| x  | y  | z  |\n",
    "|----|----|----|\n",
    "| 13 | 15 | 30 |\n",
    "| 10 | 20 | 15 |\n",
    "For the sample data above, your query should return the follow result:\n",
    "| x  | y  | z  | triangle |\n",
    "|----|----|----|----------|\n",
    "| 13 | 15 | 30 | No       |\n",
    "| 10 | 20 | 15 | Yes      |"
   ]
  },
  {
   "cell_type": "markdown",
   "metadata": {
    "scrolled": false
   },
   "source": [
    "```mysql\n",
    "SELECT x, y, z,\n",
    "    CASE WHEN x + y > z AND x + z > y AND y + z > x THEN 'Yes'\n",
    "        ELSE 'No' END AS triangle\n",
    "FROM triangle\n",
    "```"
   ]
  }
 ],
 "metadata": {
  "kernelspec": {
   "display_name": "Python 3",
   "language": "python",
   "name": "python3"
  },
  "language_info": {
   "codemirror_mode": {
    "name": "ipython",
    "version": 3
   },
   "file_extension": ".py",
   "mimetype": "text/x-python",
   "name": "python",
   "nbconvert_exporter": "python",
   "pygments_lexer": "ipython3",
   "version": "3.7.4"
  }
 },
 "nbformat": 4,
 "nbformat_minor": 2
}
