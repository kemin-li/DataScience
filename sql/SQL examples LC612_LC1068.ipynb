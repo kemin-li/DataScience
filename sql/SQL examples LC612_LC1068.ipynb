{
 "cells": [
  {
   "cell_type": "markdown",
   "metadata": {},
   "source": [
    "<h1 id=\"tocheading\">Table of Contents</h1>\n",
    "<div id=\"toc\"></div>"
   ]
  },
  {
   "cell_type": "code",
   "execution_count": 1,
   "metadata": {},
   "outputs": [
    {
     "data": {
      "application/javascript": [
       "$.getScript('https://kmahelona.github.io/ipython_notebook_goodies/ipython_notebook_toc.js')\n"
      ],
      "text/plain": [
       "<IPython.core.display.Javascript object>"
      ]
     },
     "metadata": {},
     "output_type": "display_data"
    }
   ],
   "source": [
    "%%javascript\n",
    "$.getScript('https://kmahelona.github.io/ipython_notebook_goodies/ipython_notebook_toc.js')"
   ]
  },
  {
   "cell_type": "markdown",
   "metadata": {},
   "source": [
    "### 612. Shortest Distance in a Plane"
   ]
  },
  {
   "cell_type": "raw",
   "metadata": {},
   "source": [
    "Table point_2d holds the coordinates (x,y) of some unique points (more than two) in a plane.\n",
    "\n",
    "Write a query to find the shortest distance between these points rounded to 2 decimals.\n",
    "| x  | y  |\n",
    "|----|----|\n",
    "| -1 | -1 |\n",
    "| 0  | 0  |\n",
    "| -1 | -2 |\n",
    "\n",
    "The shortest distance is 1.00 from point (-1,-1) to (-1,2). So the output should be:\n",
    "| shortest |\n",
    "|----------|\n",
    "| 1.00     |\n",
    "Note: The longest distance among all the points are less than 10000."
   ]
  },
  {
   "cell_type": "markdown",
   "metadata": {
    "scrolled": false
   },
   "source": [
    "```mysql\n",
    "/* SELECT ROUND(SQRT(MIN((a.x-b.x)*(a.x-b.x)+(a.y-b.y)*(a.y-b.y))),2) as shortest\n",
    "FROM point_2d a, point_2d b\n",
    "WHERE a.x!=b.x OR a.y!=b.y */\n",
    "\n",
    "# a little more optimized\n",
    "SELECT ROUND(SQRT(MIN((a.x-b.x)*(a.x-b.x)+(a.y-b.y)*(a.y-b.y))),2) as shortest\n",
    "FROM point_2d a, point_2d b\n",
    "WHERE (a.x>=b.x AND a.y!=b.y) OR (a.x>b.x AND a.y=b.y)\n",
    "```"
   ]
  },
  {
   "cell_type": "markdown",
   "metadata": {},
   "source": [
    "### 613. Shortest Distance in a Line"
   ]
  },
  {
   "cell_type": "raw",
   "metadata": {},
   "source": [
    "Table point holds the x coordinate of some points on x-axis in a plane, which are all integers.\n",
    "\n",
    "Write a query to find the shortest distance between two points in these points.\n",
    "| x   |\n",
    "|-----|\n",
    "| -1  |\n",
    "| 0   |\n",
    "| 2   |\n",
    "\n",
    "The shortest distance is '1' obviously, which is from point '-1' to '0'. So the output is as below:\n",
    "| shortest|\n",
    "|---------|\n",
    "| 1       |\n",
    "\n",
    "Note: Every point is unique, which means there is no duplicates in table point.\n",
    "Follow-up: What if all these points have an id and are arranged from the left most to the right most of x axis?"
   ]
  },
  {
   "cell_type": "markdown",
   "metadata": {
    "scrolled": false
   },
   "source": [
    "```mysql\n",
    "SELECT MIN(ABS(a.x-b.x)) AS shortest\n",
    "FROM point a\n",
    "JOIN point b\n",
    "ON a.x!=b.x\n",
    "```"
   ]
  },
  {
   "cell_type": "markdown",
   "metadata": {},
   "source": [
    "### 614. Second Degree Follower"
   ]
  },
  {
   "cell_type": "raw",
   "metadata": {},
   "source": [
    "In facebook, there is a follow table with two columns: followee, follower.\n",
    "\n",
    "Please write a sql query to get the amount of each follower’s follower if he/she has one.\n",
    "For example:\n",
    "+-------------+------------+\n",
    "| followee    | follower   |\n",
    "+-------------+------------+\n",
    "|     A       |     B      |\n",
    "|     B       |     C      |\n",
    "|     B       |     D      |\n",
    "|     D       |     E      |\n",
    "+-------------+------------+\n",
    "should output:\n",
    "+-------------+------------+\n",
    "| follower    | num        |\n",
    "+-------------+------------+\n",
    "|     B       |  2         |\n",
    "|     D       |  1         |\n",
    "+-------------+------------+\n",
    "Explaination:\n",
    "Both B and D exist in the follower list, when as a followee, B's follower is C and D, and D's follower is E. A does not exist in follower list.\n",
    "\n",
    "Note:\n",
    "Followee would not follow himself/herself in all cases.\n",
    "Please display the result in follower's alphabet order."
   ]
  },
  {
   "cell_type": "markdown",
   "metadata": {
    "scrolled": false
   },
   "source": [
    "```mysql\n",
    "# SELECT a.follower as follower, b.follower\n",
    "SELECT a.follower as follower, COUNT(DISTINCT b.follower) AS num\n",
    "FROM follow a\n",
    "JOIN follow b\n",
    "ON a.follower=b.followee\n",
    "GROUP BY a.follower\n",
    "HAVING num>0\n",
    "ORDER BY follower\n",
    "```"
   ]
  },
  {
   "cell_type": "markdown",
   "metadata": {},
   "source": [
    "### 615. Average Salary: Departments VS Company"
   ]
  },
  {
   "cell_type": "raw",
   "metadata": {},
   "source": [
    "Given two tables as below, write a query to display the comparison result (higher/lower/same) of the average salary of employees in a department to the company's average salary.\n",
    "\n",
    "Table: salary\n",
    "| id | employee_id | amount | pay_date   |\n",
    "|----|-------------|--------|------------|\n",
    "| 1  | 1           | 9000   | 2017-03-31 |\n",
    "| 2  | 2           | 6000   | 2017-03-31 |\n",
    "| 3  | 3           | 10000  | 2017-03-31 |\n",
    "| 4  | 1           | 7000   | 2017-02-28 |\n",
    "| 5  | 2           | 6000   | 2017-02-28 |\n",
    "| 6  | 3           | 8000   | 2017-02-28 |\n",
    "\n",
    "The employee_id column refers to the employee_id in the following table employee.\n",
    "| employee_id | department_id |\n",
    "|-------------|---------------|\n",
    "| 1           | 1             |\n",
    "| 2           | 2             |\n",
    "| 3           | 2             |\n",
    "\n",
    "So for the sample data above, the result is:\n",
    "| pay_month | department_id | comparison  |\n",
    "|-----------|---------------|-------------|\n",
    "| 2017-03   | 1             | higher      |\n",
    "| 2017-03   | 2             | lower       |\n",
    "| 2017-02   | 1             | same        |\n",
    "| 2017-02   | 2             | same        |\n",
    "\n",
    "Explanation\n",
    "In March, the company's average salary is (9000+6000+10000)/3 = 8333.33...\n",
    "The average salary for department '1' is 9000, which is the salary of employee_id '1' since there is only one employee in this department. So the comparison result is 'higher' since 9000 > 8333.33 obviously.\n",
    "\n",
    "The average salary of department '2' is (6000 + 10000)/2 = 8000, which is the average of employee_id '2' and '3'. So the comparison result is 'lower' since 8000 < 8333.33.\n",
    "With he same formula for the average salary comparison in February, the result is 'same' since both the department '1' and '2' have the same average salary with the company, which is 7000."
   ]
  },
  {
   "cell_type": "markdown",
   "metadata": {
    "scrolled": false
   },
   "source": [
    "```mysql\n",
    "-- MYSQL\n",
    "SELECT Y.pay_month, Y.department_id,\n",
    "    CASE\n",
    "        WHEN dept_salary>avg_salary THEN 'higher'\n",
    "        WHEN dept_salary<avg_salary THEN 'lower'\n",
    "        ELSE 'same'\n",
    "        END AS comparison\n",
    "FROM (SELECT distinct date_format(pay_date, '%Y-%m') as pay_month, department_id,\n",
    "    AVG(amount) AS avg_salary\n",
    "    FROM salary s\n",
    "    JOIN employee e\n",
    "    ON s.employee_id=e.employee_id\n",
    "    GROUP BY pay_month) AS X\n",
    "JOIN (SELECT distinct date_format(pay_date, '%Y-%m') as pay_month, department_id,\n",
    "    AVG(amount) AS dept_salary\n",
    "    FROM salary s\n",
    "    JOIN employee e\n",
    "    ON s.employee_id=e.employee_id\n",
    "    GROUP BY pay_month, department_id) AS Y\n",
    "ON X.pay_month=Y.pay_month\n",
    "ORDER BY Y.department_id\n",
    "\n",
    "-- SQL server\n",
    "SELECT pay_month, department_id, \n",
    "    CASE \n",
    "        WHEN dept_salary>avg_salary THEN 'higher'\n",
    "        WHEN dept_salary<avg_salary THEN 'lower'\n",
    "        ELSE 'same'\n",
    "    END AS comparison\n",
    "FROM (SELECT distinct format(pay_date, 'yyyy-MM') as pay_month,\n",
    "    department_id,\n",
    "    AVG(amount) OVER (PARTITION BY format(pay_date, 'yyyy-MM')) as avg_salary,\n",
    "    AVG(amount) OVER (PARTITION BY CONCAT_WS('-', format(pay_date, 'yyyy-MM'), department_id)) as dept_salary\n",
    "FROM salary s\n",
    "JOIN employee e\n",
    "ON s.employee_id=e.employee_id) AS X\n",
    "ORDER BY department_id\n",
    "```"
   ]
  },
  {
   "cell_type": "markdown",
   "metadata": {},
   "source": [
    "### 618. Students Report By Geography"
   ]
  },
  {
   "cell_type": "raw",
   "metadata": {},
   "source": [
    "A U.S graduate school has students from Asia, Europe and America. The students' location information are stored in table student as below.\n",
    "| name   | continent |\n",
    "|--------|-----------|\n",
    "| Jack   | America   |\n",
    "| Pascal | Europe    |\n",
    "| Xi     | Asia      |\n",
    "| Jane   | America   |\n",
    "\n",
    "Pivot the continent column in this table so that each name is sorted alphabetically and displayed underneath its corresponding continent. The output headers should be America, Asia and Europe respectively. It is guaranteed that the student number from America is no less than either Asia or Europe.\n",
    "\n",
    "For the sample input, the output is:\n",
    "| America | Asia | Europe |\n",
    "|---------|------|--------|\n",
    "| Jack    | Xi   | Pascal |\n",
    "| Jane    |      |        |\n",
    "\n",
    "Follow-up: If it is unknown which continent has the most students, can you write a query to generate the student report?"
   ]
  },
  {
   "cell_type": "markdown",
   "metadata": {
    "scrolled": false
   },
   "source": [
    "```mysql\n",
    "-- MYSQL\n",
    "select min(America) as America, min(Asia) as Asia, min(Europe) as Europe\n",
    "from\n",
    "(select @r1:=0, @r2:=0, @r3:=0) t, \n",
    "(select case when continent='America' then (@r1:=@r1+1)\n",
    "            when continent='Asia' then (@r2:=@r2+1)\n",
    "            when continent='Europe' then (@r3:=@r3+1) end as RowNumber,\n",
    "    case when continent='America' then Name end as America,\n",
    "    case when continent='Asia' then Name end as Asia,\n",
    "    case when continent='Europe' then Name end as Europe\n",
    "  from student\n",
    "  order by Name\n",
    ") Temp\n",
    "group by RowNumber\n",
    "\n",
    "/*SELECT \n",
    "    America, Asia, Europe\n",
    "FROM\n",
    "    (SELECT @as:=0, @am:=0, @eu:=0) as t,\n",
    "    (SELECT \n",
    "        @as:=@as + 1 AS asid, name AS Asia\n",
    "    FROM\n",
    "        student\n",
    "    WHERE\n",
    "        continent = 'Asia'\n",
    "    ORDER BY Asia) AS t1\n",
    "        RIGHT JOIN\n",
    "    (SELECT \n",
    "        @am:=@am + 1 AS amid, name AS America\n",
    "    FROM\n",
    "        student\n",
    "    WHERE\n",
    "        continent = 'America'\n",
    "    ORDER BY America) AS t2 ON asid = amid\n",
    "        LEFT JOIN\n",
    "    (SELECT \n",
    "        @eu:=@eu + 1 AS euid, name AS Europe\n",
    "    FROM\n",
    "        student\n",
    "    WHERE\n",
    "        continent = 'Europe'\n",
    "    ORDER BY Europe) AS t3 ON amid = euid*/\n",
    "    \n",
    "-- SQL server\n",
    "SELECT America, Asia, Europe\n",
    "FROM(\n",
    "    SELECT continentorder,\n",
    "    MAX(CASE WHEN continent = 'America' THEN name END )AS America,\n",
    "    MAX(CASE WHEN continent = 'Europe' THEN name END )AS Europe,\n",
    "    MAX(CASE WHEN continent = 'Asia' THEN name END )AS Asia\n",
    "    FROM (\n",
    "    SELECT *,\n",
    "        ROW_NUMBER()OVER(PARTITION BY continent ORDER BY name) AS continentorder\n",
    "        FROM student\n",
    "    ) AS SOURCE\n",
    "    GROUP BY continentorder\n",
    ") temp\n",
    "```"
   ]
  },
  {
   "cell_type": "markdown",
   "metadata": {},
   "source": [
    "### 619. Biggest Single Number"
   ]
  },
  {
   "cell_type": "raw",
   "metadata": {},
   "source": [
    "Table my_numbers contains many numbers in column num including duplicated ones.\n",
    "Can you write a SQL query to find the biggest number, which only appears once.\n",
    "+---+\n",
    "|num|\n",
    "+---+\n",
    "| 8 |\n",
    "| 8 |\n",
    "| 3 |\n",
    "| 3 |\n",
    "| 1 |\n",
    "| 4 |\n",
    "| 5 |\n",
    "| 6 | \n",
    "For the sample data above, your query should return the following result:\n",
    "+---+\n",
    "|num|\n",
    "+---+\n",
    "| 6 |\n",
    "Note:\n",
    "If there is no such number, just output null."
   ]
  },
  {
   "cell_type": "markdown",
   "metadata": {
    "scrolled": false
   },
   "source": [
    "```mysql\n",
    "SELECT MAX(A.num) AS num\n",
    "FROM (\n",
    "    SELECT num, count(*) as num_count\n",
    "    FROM my_numbers\n",
    "    GROUP BY num\n",
    "    HAVING num_count=1) AS a\n",
    "```"
   ]
  },
  {
   "cell_type": "markdown",
   "metadata": {},
   "source": [
    "### 620. Not Boring Movies"
   ]
  },
  {
   "cell_type": "raw",
   "metadata": {},
   "source": [
    "X city opened a new cinema, many people would like to go to this cinema. The cinema also gives out a poster indicating the movies’ ratings and descriptions.\n",
    "Please write a SQL query to output movies with an odd numbered ID and a description that is not 'boring'. Order the result by rating.\n",
    "\n",
    "For example, table cinema:\n",
    "+---------+-----------+--------------+-----------+\n",
    "|   id    | movie     |  description |  rating   |\n",
    "+---------+-----------+--------------+-----------+\n",
    "|   1     | War       |   great 3D   |   8.9     |\n",
    "|   2     | Science   |   fiction    |   8.5     |\n",
    "|   3     | irish     |   boring     |   6.2     |\n",
    "|   4     | Ice song  |   Fantacy    |   8.6     |\n",
    "|   5     | House card|   Interesting|   9.1     |\n",
    "+---------+-----------+--------------+-----------+\n",
    "For the example above, the output should be:\n",
    "+---------+-----------+--------------+-----------+\n",
    "|   id    | movie     |  description |  rating   |\n",
    "+---------+-----------+--------------+-----------+\n",
    "|   5     | House card|   Interesting|   9.1     |\n",
    "|   1     | War       |   great 3D   |   8.9     |\n",
    "+---------+-----------+--------------+-----------+"
   ]
  },
  {
   "cell_type": "markdown",
   "metadata": {
    "scrolled": false
   },
   "source": [
    "```mysql\n",
    "SELECT *\n",
    "FROM cinema\n",
    "WHERE (id%2)=1 AND description!='boring'\n",
    "ORDER by rating DESC\n",
    "```"
   ]
  },
  {
   "cell_type": "markdown",
   "metadata": {},
   "source": [
    "### 626. Exchange Seats"
   ]
  },
  {
   "cell_type": "raw",
   "metadata": {},
   "source": [
    "Mary is a teacher in a middle school and she has a table seat storing students' names and their corresponding seat ids.\n",
    "The column id is continuous increment.\n",
    "\n",
    "Mary wants to change seats for the adjacent students.\n",
    "Can you write a SQL query to output the result for Mary?\n",
    "+---------+---------+\n",
    "|    id   | student |\n",
    "+---------+---------+\n",
    "|    1    | Abbot   |\n",
    "|    2    | Doris   |\n",
    "|    3    | Emerson |\n",
    "|    4    | Green   |\n",
    "|    5    | Jeames  |\n",
    "+---------+---------+\n",
    "For the sample input, the output is:\n",
    "+---------+---------+\n",
    "|    id   | student |\n",
    "+---------+---------+\n",
    "|    1    | Doris   |\n",
    "|    2    | Abbot   |\n",
    "|    3    | Green   |\n",
    "|    4    | Emerson |\n",
    "|    5    | Jeames  |\n",
    "+---------+---------+"
   ]
  },
  {
   "cell_type": "markdown",
   "metadata": {
    "scrolled": false
   },
   "source": [
    "```mysql\n",
    "SELECT CASE\n",
    "    WHEN (id%2=1 AND id=a.max_id) then id\n",
    "    WHEN (id%2=1 AND id<a.max_id) then id+1\n",
    "    WHEN (id%2=0) THEN id-1 END AS id,\n",
    "    student\n",
    "FROM seat, (select max(id) as max_id from seat) as a\n",
    "ORDER BY id ASC\n",
    "/*SELECT\n",
    "    s1.id, COALESCE(s2.student, s1.student) AS student\n",
    "FROM\n",
    "    seat s1\n",
    "        LEFT JOIN\n",
    "    seat s2 ON ((s1.id + 1) ^ 1) - 1 = s2.id\n",
    "ORDER BY s1.id;*/\n",
    "```"
   ]
  },
  {
   "cell_type": "markdown",
   "metadata": {},
   "source": [
    "### 627. Swap Salary"
   ]
  },
  {
   "cell_type": "raw",
   "metadata": {},
   "source": [
    "Given a table salary, such as the one below, that has m=male and f=female values. Swap all f and m values (i.e., change all f values to m and vice versa) with a single update statement and no intermediate temp table.\n",
    "Note that you must write a single update statement, DO NOT write any select statement for this problem.\n",
    "\n",
    "Example:\n",
    "| id | name | sex | salary |\n",
    "|----|------|-----|--------|\n",
    "| 1  | A    | m   | 2500   |\n",
    "| 2  | B    | f   | 1500   |\n",
    "| 3  | C    | m   | 5500   |\n",
    "| 4  | D    | f   | 500    |\n",
    "After running your update statement, the above salary table should have the following rows:\n",
    "| id | name | sex | salary |\n",
    "|----|------|-----|--------|\n",
    "| 1  | A    | f   | 2500   |\n",
    "| 2  | B    | m   | 1500   |\n",
    "| 3  | C    | f   | 5500   |\n",
    "| 4  | D    | m   | 500    |"
   ]
  },
  {
   "cell_type": "markdown",
   "metadata": {
    "scrolled": false
   },
   "source": [
    "```mysql\n",
    "UPDate salary\n",
    "SET sex=case when sex='f' then 'm' else 'f' end;\n",
    "```"
   ]
  },
  {
   "cell_type": "markdown",
   "metadata": {},
   "source": [
    "### 1045. Customers Who Bought All Products"
   ]
  },
  {
   "cell_type": "raw",
   "metadata": {},
   "source": [
    "Table: Customer\n",
    "+-------------+---------+\n",
    "| Column Name | Type    |\n",
    "+-------------+---------+\n",
    "| customer_id | int     |\n",
    "| product_key | int     |\n",
    "+-------------+---------+\n",
    "product_key is a foreign key to Product table.\n",
    "Table: Product\n",
    "+-------------+---------+\n",
    "| Column Name | Type    |\n",
    "+-------------+---------+\n",
    "| product_key | int     |\n",
    "+-------------+---------+\n",
    "product_key is the primary key column for this table.\n",
    "\n",
    "Write an SQL query for a report that provides the customer ids from the Customer table that bought all the products in the Product table.\n",
    "\n",
    "For example:\n",
    "Customer table:\n",
    "+-------------+-------------+\n",
    "| customer_id | product_key |\n",
    "+-------------+-------------+\n",
    "| 1           | 5           |\n",
    "| 2           | 6           |\n",
    "| 3           | 5           |\n",
    "| 3           | 6           |\n",
    "| 1           | 6           |\n",
    "+-------------+-------------+\n",
    "Product table:\n",
    "+-------------+\n",
    "| product_key |\n",
    "+-------------+\n",
    "| 5           |\n",
    "| 6           |\n",
    "+-------------+\n",
    "Result table:\n",
    "+-------------+\n",
    "| customer_id |\n",
    "+-------------+\n",
    "| 1           |\n",
    "| 3           |\n",
    "+-------------+\n",
    "The customers who bought all the products (5 and 6) are customers with id 1 and 3."
   ]
  },
  {
   "cell_type": "markdown",
   "metadata": {
    "scrolled": false
   },
   "source": [
    "```mysql\n",
    "/* SELECT customer_id\n",
    "FROM customer\n",
    "WHERE product_key IN (\n",
    "    SELECT product_key)\n",
    "GROUP BY customer_id\n",
    "HAVING COUNT(DISTINCT product_key)>=(\n",
    "    SELECT COUNT(product_key)\n",
    "    FROM product\n",
    ")*/\n",
    "\n",
    "SELECT T.CUSTOMER_ID AS customer_id\n",
    "FROM (\n",
    "    SELECT DISTINCT C.CUSTOMER_ID, COUNT( DISTINCT P.PRODUCT_KEY) AS CT\n",
    "    FROM CUSTOMER AS C\n",
    "    INNER JOIN PRODUCT AS P\n",
    "    ON C.PRODUCT_KEY = P.PRODUCT_KEY\n",
    "    GROUP BY C.CUSTOMER_ID\n",
    "    HAVING CT = (\n",
    "        SELECT COUNT(DISTINCT PRODUCT_KEY)\n",
    "        FROM PRODUCT)\n",
    ") AS T\n",
    "```"
   ]
  },
  {
   "cell_type": "markdown",
   "metadata": {},
   "source": [
    "### 1050. Actors and Directors Who Cooperated At Least Three Times"
   ]
  },
  {
   "cell_type": "raw",
   "metadata": {},
   "source": [
    "Table: ActorDirector\n",
    "+-------------+---------+\n",
    "| Column Name | Type    |\n",
    "+-------------+---------+\n",
    "| actor_id    | int     |\n",
    "| director_id | int     |\n",
    "| timestamp   | int     |\n",
    "+-------------+---------+\n",
    "timestamp is the primary key column for this table.\n",
    "\n",
    "Write a SQL query for a report that provides the pairs (actor_id, director_id) where the actor have cooperated with the director at least 3 times.\n",
    "Example:\n",
    "ActorDirector table:\n",
    "+-------------+-------------+-------------+\n",
    "| actor_id    | director_id | timestamp   |\n",
    "+-------------+-------------+-------------+\n",
    "| 1           | 1           | 0           |\n",
    "| 1           | 1           | 1           |\n",
    "| 1           | 1           | 2           |\n",
    "| 1           | 2           | 3           |\n",
    "| 1           | 2           | 4           |\n",
    "| 2           | 1           | 5           |\n",
    "| 2           | 1           | 6           |\n",
    "+-------------+-------------+-------------+\n",
    "Result table:\n",
    "+-------------+-------------+\n",
    "| actor_id    | director_id |\n",
    "+-------------+-------------+\n",
    "| 1           | 1           |\n",
    "+-------------+-------------+\n",
    "The only pair is (1, 1) where they cooperated exactly 3 times."
   ]
  },
  {
   "cell_type": "markdown",
   "metadata": {
    "scrolled": false
   },
   "source": [
    "```mysql\n",
    "SELECT actor_id as ACTOR_ID, director_id AS DIRECTOR_ID\n",
    "FROM actordirector\n",
    "GROUP BY actor_id, director_id\n",
    "HAVING COUNT(*)>=3\n",
    "```"
   ]
  }
 ],
 "metadata": {
  "kernelspec": {
   "display_name": "Python 3",
   "language": "python",
   "name": "python3"
  },
  "language_info": {
   "codemirror_mode": {
    "name": "ipython",
    "version": 3
   },
   "file_extension": ".py",
   "mimetype": "text/x-python",
   "name": "python",
   "nbconvert_exporter": "python",
   "pygments_lexer": "ipython3",
   "version": "3.7.4"
  }
 },
 "nbformat": 4,
 "nbformat_minor": 2
}
