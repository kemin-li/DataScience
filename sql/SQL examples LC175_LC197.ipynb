{
 "cells": [
  {
   "cell_type": "markdown",
   "metadata": {},
   "source": [
    "<h1 id=\"tocheading\">Table of Contents</h1>\n",
    "<div id=\"toc\"></div>"
   ]
  },
  {
   "cell_type": "code",
   "execution_count": 1,
   "metadata": {},
   "outputs": [
    {
     "data": {
      "application/javascript": [
       "$.getScript('https://kmahelona.github.io/ipython_notebook_goodies/ipython_notebook_toc.js')\n"
      ],
      "text/plain": [
       "<IPython.core.display.Javascript object>"
      ]
     },
     "metadata": {},
     "output_type": "display_data"
    }
   ],
   "source": [
    "%%javascript\n",
    "$.getScript('https://kmahelona.github.io/ipython_notebook_goodies/ipython_notebook_toc.js')"
   ]
  },
  {
   "cell_type": "markdown",
   "metadata": {},
   "source": [
    "### 175. Combine Two Tables"
   ]
  },
  {
   "cell_type": "raw",
   "metadata": {},
   "source": [
    "Table: Person\n",
    "+-------------+---------+\n",
    "| Column Name | Type    |\n",
    "+-------------+---------+\n",
    "| PersonId    | int     |\n",
    "| FirstName   | varchar |\n",
    "| LastName    | varchar |\n",
    "+-------------+---------+\n",
    "PersonId is the primary key column for this table.\n",
    "\n",
    "Table: Address\n",
    "+-------------+---------+\n",
    "| Column Name | Type    |\n",
    "+-------------+---------+\n",
    "| AddressId   | int     |\n",
    "| PersonId    | int     |\n",
    "| City        | varchar |\n",
    "| State       | varchar |\n",
    "+-------------+---------+\n",
    "AddressId is the primary key column for this table.\n",
    "\n",
    "Write a SQL query for a report that provides the following information for each person in the Person table, regardless if there is an address for each of those people:\n",
    "FirstName, LastName, City, State"
   ]
  },
  {
   "cell_type": "markdown",
   "metadata": {
    "scrolled": false
   },
   "source": [
    "```mysql\n",
    "SELECT Person.FirstName, Person.LastName, Address.City, Address.State\n",
    "FROM Person\n",
    "LEFT JOIN Address\n",
    "ON Person.PersonID = Address.PersonID\n",
    "```"
   ]
  },
  {
   "cell_type": "markdown",
   "metadata": {},
   "source": [
    "### 176. Second Highest Salary"
   ]
  },
  {
   "cell_type": "raw",
   "metadata": {},
   "source": [
    "Write a SQL query to get the second highest salary from the Employee table.\n",
    "+----+--------+\n",
    "| Id | Salary |\n",
    "+----+--------+\n",
    "| 1  | 100    |\n",
    "| 2  | 200    |\n",
    "| 3  | 300    |\n",
    "+----+--------+\n",
    "\n",
    "For example, given the above Employee table, the query should return 200 as the second highest salary. If there is no second highest salary, then the query should return null.\n",
    "+---------------------+\n",
    "| SecondHighestSalary |\n",
    "+---------------------+\n",
    "| 200                 |\n",
    "+---------------------+"
   ]
  },
  {
   "cell_type": "markdown",
   "metadata": {
    "scrolled": false
   },
   "source": [
    "```mysql\n",
    "/*Select MAX(Salary) as SecondHighestSalary from Employee\n",
    "order by salary desc\n",
    "limit 1 offset 1*/\n",
    "SELECT (\n",
    "    SELECT DISTINCT Salary\n",
    "    FROM Employee\n",
    "    ORDER BY Salary DESC\n",
    "    LIMIT 1 OFFSET 1) AS SecondHighestSalary\n",
    "```"
   ]
  },
  {
   "cell_type": "markdown",
   "metadata": {},
   "source": [
    "### 177. Nth Highest Salary"
   ]
  },
  {
   "cell_type": "raw",
   "metadata": {},
   "source": [
    "Write a SQL query to get the nth highest salary from the Employee table.\n",
    "+----+--------+\n",
    "| Id | Salary |\n",
    "+----+--------+\n",
    "| 1  | 100    |\n",
    "| 2  | 200    |\n",
    "| 3  | 300    |\n",
    "+----+--------+\n",
    "\n",
    "For example, given the above Employee table, the nth highest salary where n = 2 is 200. If there is no nth highest salary, then the query should return null.\n",
    "+------------------------+\n",
    "| getNthHighestSalary(2) |\n",
    "+------------------------+\n",
    "| 200                    |\n",
    "+------------------------+"
   ]
  },
  {
   "cell_type": "markdown",
   "metadata": {
    "scrolled": false
   },
   "source": [
    "```mysql\n",
    "CREATE FUNCTION getNthHighestSalary(N INT) RETURNS INT\n",
    "BEGIN\n",
    "  DECLARE M INT;\n",
    "  SET M=N-1;\n",
    "  RETURN (\n",
    "      # Write your MySQL query statement below.\n",
    "      SELECT DISTINCT Salary from Employee\n",
    "      ORDER BY Salary DESC\n",
    "      LIMIT 1 OFFSET M\n",
    "  );\n",
    "END\n",
    "```"
   ]
  },
  {
   "cell_type": "markdown",
   "metadata": {},
   "source": [
    "### 178. Rank Scores"
   ]
  },
  {
   "cell_type": "raw",
   "metadata": {},
   "source": [
    "Write a SQL query to rank scores. If there is a tie between two scores, both should have the same ranking. Note that after a tie, the next ranking number should be the next consecutive integer value. In other words, there should be no \"holes\" between ranks.\n",
    "+----+-------+\n",
    "| Id | Score |\n",
    "+----+-------+\n",
    "| 1  | 3.50  |\n",
    "| 2  | 3.65  |\n",
    "| 3  | 4.00  |\n",
    "| 4  | 3.85  |\n",
    "| 5  | 4.00  |\n",
    "| 6  | 3.65  |\n",
    "+----+-------+\n",
    "\n",
    "For example, given the above Scores table, your query should generate the following report (order by highest score):\n",
    "+-------+------+\n",
    "| Score | Rank |\n",
    "+-------+------+\n",
    "| 4.00  | 1    |\n",
    "| 4.00  | 1    |\n",
    "| 3.85  | 2    |\n",
    "| 3.65  | 3    |\n",
    "| 3.65  | 3    |\n",
    "| 3.50  | 4    |\n",
    "+-------+------+"
   ]
  },
  {
   "cell_type": "markdown",
   "metadata": {
    "scrolled": false
   },
   "source": [
    "```mysql\n",
    "-- MYSQL\n",
    "SELECT Score, (\n",
    "    SELECT COUNT(DISTINCT b.Score)+1\n",
    "    FROM Scores b\n",
    "    WHERE b.Score > a.Score\n",
    "    ) AS Rank\n",
    "FROM Scores a\n",
    "ORDER BY Score DESC\n",
    "\n",
    "-- SQL server\n",
    "SELECT score, dense_rank() OVER (ORDER BY score DESC) AS Rank\n",
    "FROM scores;\n",
    "```"
   ]
  },
  {
   "cell_type": "markdown",
   "metadata": {},
   "source": [
    "### 180. Consecutive Numbers"
   ]
  },
  {
   "cell_type": "raw",
   "metadata": {},
   "source": [
    "Write a SQL query to find all numbers that appear at least three times consecutively.\n",
    "+----+-----+\n",
    "| Id | Num |\n",
    "+----+-----+\n",
    "| 1  |  1  |\n",
    "| 2  |  1  |\n",
    "| 3  |  1  |\n",
    "| 4  |  2  |\n",
    "| 5  |  1  |\n",
    "| 6  |  2  |\n",
    "| 7  |  2  |\n",
    "+----+-----+\n",
    "\n",
    "For example, given the above Logs table, 1 is the only number that appears consecutively for at least three times.\n",
    "+-----------------+\n",
    "| ConsecutiveNums |\n",
    "+-----------------+\n",
    "| 1               |\n",
    "+-----------------+"
   ]
  },
  {
   "cell_type": "markdown",
   "metadata": {
    "scrolled": false
   },
   "source": [
    "```mysql\n",
    "-- MYSQL\n",
    "SELECT DISTINCT a.num AS ConsecutiveNums\n",
    "FROM logs AS a\n",
    "JOIN logs AS b ON a.id=b.id+1\n",
    "JOIN logs AS c ON b.id=c.id+1\n",
    "WHERE a.num=b.num AND b.num=c.num\n",
    "\n",
    "-- SQL server\n",
    "SELECT DISTINCT num AS ConsecutiveNums\n",
    "FROM (\n",
    "    SELECT num, LEAD(num) OVER(ORDER BY id) AS lead, LAG(num) OVER (ORDER BY id) AS lag\n",
    "    FROM logs\n",
    "    ) t\n",
    "WHERE num=lead and num=lag;\n",
    "```"
   ]
  },
  {
   "cell_type": "markdown",
   "metadata": {},
   "source": [
    "### 181. Employees Earning More Than Their Managers"
   ]
  },
  {
   "cell_type": "raw",
   "metadata": {},
   "source": [
    "The Employee table holds all employees including their managers. Every employee has an Id, and there is also a column for the manager Id.\n",
    "+----+-------+--------+-----------+\n",
    "| Id | Name  | Salary | ManagerId |\n",
    "+----+-------+--------+-----------+\n",
    "| 1  | Joe   | 70000  | 3         |\n",
    "| 2  | Henry | 80000  | 4         |\n",
    "| 3  | Sam   | 60000  | NULL      |\n",
    "| 4  | Max   | 90000  | NULL      |\n",
    "+----+-------+--------+-----------+\n",
    "\n",
    "Given the Employee table, write a SQL query that finds out employees who earn more than their managers. For the above table, Joe is the only employee who earns more than his manager.\n",
    "+----------+\n",
    "| Employee |\n",
    "+----------+\n",
    "| Joe      |\n",
    "+----------+"
   ]
  },
  {
   "cell_type": "markdown",
   "metadata": {
    "scrolled": false
   },
   "source": [
    "```mysql\n",
    "-- MYSQL\n",
    "SELECT a.Name AS Employee\n",
    "FROM employee a\n",
    "JOIN employee b\n",
    "ON b.Id=a.managerId\n",
    "    AND a.salary>b.salary\n",
    "```"
   ]
  },
  {
   "cell_type": "markdown",
   "metadata": {},
   "source": [
    "### 182. Duplicate Emails"
   ]
  },
  {
   "cell_type": "raw",
   "metadata": {},
   "source": [
    "Write a SQL query to find all duplicate emails in a table named Person.\n",
    "+----+---------+\n",
    "| Id | Email   |\n",
    "+----+---------+\n",
    "| 1  | a@b.com |\n",
    "| 2  | c@d.com |\n",
    "| 3  | a@b.com |\n",
    "+----+---------+\n",
    "\n",
    "For example, your query should return the following for the above table:\n",
    "+---------+\n",
    "| Email   |\n",
    "+---------+\n",
    "| a@b.com |\n",
    "+---------+"
   ]
  },
  {
   "cell_type": "markdown",
   "metadata": {
    "scrolled": false
   },
   "source": [
    "```mysql\n",
    "SELECT Email\n",
    "FROM Person\n",
    "GROUP BY Email\n",
    "HAVING COUNT(Email)>1\n",
    "```"
   ]
  },
  {
   "cell_type": "markdown",
   "metadata": {},
   "source": [
    "### 183. Customers Who Never Order"
   ]
  },
  {
   "cell_type": "raw",
   "metadata": {},
   "source": [
    "Suppose that a website contains two tables, the Customers table and the Orders table. Write a SQL query to find all customers who never order anything.\n",
    "\n",
    "Table: Customers.\n",
    "+----+-------+\n",
    "| Id | Name  |\n",
    "+----+-------+\n",
    "| 1  | Joe   |\n",
    "| 2  | Henry |\n",
    "| 3  | Sam   |\n",
    "| 4  | Max   |\n",
    "+----+-------+\n",
    "\n",
    "Table: Orders.\n",
    "+----+------------+\n",
    "| Id | CustomerId |\n",
    "+----+------------+\n",
    "| 1  | 3          |\n",
    "| 2  | 1          |\n",
    "+----+------------+\n",
    "\n",
    "Using the above tables as example, return the following:\n",
    "+-----------+\n",
    "| Customers |\n",
    "+-----------+\n",
    "| Henry     |\n",
    "| Max       |\n",
    "+-----------+"
   ]
  },
  {
   "cell_type": "markdown",
   "metadata": {
    "scrolled": false
   },
   "source": [
    "```mysql\n",
    "SELECT Customers.Name AS Customers\n",
    "FROM Customers\n",
    "LEFT JOIN Orders ON Customers.Id=Orders.CustomerId\n",
    "WHERE orders.Id IS NULL\n",
    "```"
   ]
  },
  {
   "cell_type": "markdown",
   "metadata": {},
   "source": [
    "### 184. Department Highest Salary"
   ]
  },
  {
   "cell_type": "raw",
   "metadata": {},
   "source": [
    "The Employee table holds all employees. Every employee has an Id, a salary, and there is also a column for the department Id.\n",
    "+----+-------+--------+--------------+\n",
    "| Id | Name  | Salary | DepartmentId |\n",
    "+----+-------+--------+--------------+\n",
    "| 1  | Joe   | 70000  | 1            |\n",
    "| 2  | Jim   | 90000  | 1            |\n",
    "| 3  | Henry | 80000  | 2            |\n",
    "| 4  | Sam   | 60000  | 2            |\n",
    "| 5  | Max   | 90000  | 1            |\n",
    "+----+-------+--------+--------------+\n",
    "\n",
    "The Department table holds all departments of the company.\n",
    "+----+----------+\n",
    "| Id | Name     |\n",
    "+----+----------+\n",
    "| 1  | IT       |\n",
    "| 2  | Sales    |\n",
    "+----+----------+\n",
    "\n",
    "Write a SQL query to find employees who have the highest salary in each of the departments. For the above tables, your SQL query should return the following rows (order of rows does not matter).\n",
    "+------------+----------+--------+\n",
    "| Department | Employee | Salary |\n",
    "+------------+----------+--------+\n",
    "| IT         | Max      | 90000  |\n",
    "| IT         | Jim      | 90000  |\n",
    "| Sales      | Henry    | 80000  |\n",
    "+------------+----------+--------+\n",
    "\n",
    "Explanation: Max and Jim both have the highest salary in the IT department and Henry has the highest salary in the Sales department."
   ]
  },
  {
   "cell_type": "markdown",
   "metadata": {
    "scrolled": false
   },
   "source": [
    "```mysql\n",
    "SELECT Department.Name as Department, Employee.Name as Employee, Employee.Salary\n",
    "FROM Employee\n",
    "JOIN (select DepartmentId, MAX(Salary) AS max_s\n",
    "      from Employee\n",
    "      group by DepartmentId\n",
    ") AS E ON Employee.departmentId=E.departmentId AND Employee.Salary=E.max_s\n",
    "JOIN Department ON E.DepartmentId=Department.Id\n",
    "```"
   ]
  },
  {
   "cell_type": "markdown",
   "metadata": {},
   "source": [
    "### 185. Department Top Three Salaries"
   ]
  },
  {
   "cell_type": "raw",
   "metadata": {},
   "source": [
    "The Employee table holds all employees. Every employee has an Id, and there is also a column for the department Id.\n",
    "+----+-------+--------+--------------+\n",
    "| Id | Name  | Salary | DepartmentId |\n",
    "+----+-------+--------+--------------+\n",
    "| 1  | Joe   | 85000  | 1            |\n",
    "| 2  | Henry | 80000  | 2            |\n",
    "| 3  | Sam   | 60000  | 2            |\n",
    "| 4  | Max   | 90000  | 1            |\n",
    "| 5  | Janet | 69000  | 1            |\n",
    "| 6  | Randy | 85000  | 1            |\n",
    "| 7  | Will  | 70000  | 1            |\n",
    "+----+-------+--------+--------------+\n",
    "\n",
    "The Department table holds all departments of the company.\n",
    "+----+----------+\n",
    "| Id | Name     |\n",
    "+----+----------+\n",
    "| 1  | IT       |\n",
    "| 2  | Sales    |\n",
    "+----+----------+\n",
    "\n",
    "Write a SQL query to find employees who earn the top three salaries in each of the department. For the above tables, your SQL query should return the following rows (order of rows does not matter).\n",
    "+------------+----------+--------+\n",
    "| Department | Employee | Salary |\n",
    "+------------+----------+--------+\n",
    "| IT         | Max      | 90000  |\n",
    "| IT         | Randy    | 85000  |\n",
    "| IT         | Joe      | 85000  |\n",
    "| IT         | Will     | 70000  |\n",
    "| Sales      | Henry    | 80000  |\n",
    "| Sales      | Sam      | 60000  |\n",
    "+------------+----------+--------+\n",
    "\n",
    "Explanation: In IT department, Max earns the highest salary, both Randy and Joe earn the second highest salary, and Will earns the third highest salary. There are only two employees in the Sales department, Henry earns the highest salary while Sam earns the second highest salary."
   ]
  },
  {
   "cell_type": "markdown",
   "metadata": {
    "scrolled": false
   },
   "source": [
    "```mysql\n",
    "-- MYSQL\n",
    "SELECT d.name AS department, e.name AS employee, e.salary AS salary\n",
    "FROM employee AS e\n",
    "JOIN department AS d\n",
    "ON e.departmentid=d.id\n",
    "WHERE 3>=(\n",
    "    SELECT COUNT(DISTINCT e2.salary)+1\n",
    "    FROM employee e2\n",
    "    WHERE e2.DepartmentId=e.DepartmentId AND e2.salary > e.salary\n",
    "    )\n",
    "\n",
    "-- SQL server\n",
    "SELECT department, employee, salary\n",
    "FROM (\n",
    "    SELECT d.name AS department, e.name AS employee, salary,\n",
    "        dense_rank() OVER (PARTITION BY d.name ORDER BY salary DESC) AS rank\n",
    "    FROM employee AS e\n",
    "    JOIN department AS d\n",
    "    ON e.departmentid=d.id) t\n",
    "WHERE t.rank <=3\n",
    "```"
   ]
  },
  {
   "cell_type": "markdown",
   "metadata": {},
   "source": [
    "### 196. Delete Duplicate Emails"
   ]
  },
  {
   "cell_type": "raw",
   "metadata": {},
   "source": [
    "Write a SQL query to delete all duplicate email entries in a table named Person, keeping only unique emails based on its smallest Id.\n",
    "+----+------------------+\n",
    "| Id | Email            |\n",
    "+----+------------------+\n",
    "| 1  | john@example.com |\n",
    "| 2  | bob@example.com  |\n",
    "| 3  | john@example.com |\n",
    "+----+------------------+\n",
    "\n",
    "Id is the primary key column for this table.\n",
    "For example, after running your query, the above Person table should have the following rows:\n",
    "+----+------------------+\n",
    "| Id | Email            |\n",
    "+----+------------------+\n",
    "| 1  | john@example.com |\n",
    "| 2  | bob@example.com  |\n",
    "+----+------------------+\n",
    "\n",
    "Note: Your output is the whole Person table after executing your sql. Use delete statement."
   ]
  },
  {
   "cell_type": "markdown",
   "metadata": {
    "scrolled": false
   },
   "source": [
    "```mysql\n",
    "DELETE p1\n",
    "FROM Person p1\n",
    "JOIN Person p2\n",
    "ON p1.Email=p2.Email AND p1.id > p2.id\n",
    "```"
   ]
  },
  {
   "cell_type": "markdown",
   "metadata": {},
   "source": [
    "### 197. Rising Temperature"
   ]
  },
  {
   "cell_type": "raw",
   "metadata": {},
   "source": [
    "Given a Weather table, write a SQL query to find all dates' Ids with higher temperature compared to its previous (yesterday's) dates.\n",
    "+---------+------------------+------------------+\n",
    "| Id(INT) | RecordDate(DATE) | Temperature(INT) |\n",
    "+---------+------------------+------------------+\n",
    "|       1 |       2015-01-01 |               10 |\n",
    "|       2 |       2015-01-02 |               25 |\n",
    "|       3 |       2015-01-03 |               20 |\n",
    "|       4 |       2015-01-04 |               30 |\n",
    "+---------+------------------+------------------+\n",
    "\n",
    "For example, return the following Ids for the above Weather table:\n",
    "+----+\n",
    "| Id |\n",
    "+----+\n",
    "|  2 |\n",
    "|  4 |\n",
    "+----+"
   ]
  },
  {
   "cell_type": "markdown",
   "metadata": {
    "scrolled": false
   },
   "source": [
    "```mysql\n",
    "-- MYSQL\n",
    "SELECT a.id\n",
    "FROM weather a\n",
    "WHERE a.temperature>(\n",
    "    SELECT b.temperature\n",
    "    FROM weather as b\n",
    "    WHERE b.recorddate = date_sub(a.recorddate, interval 1 day)\n",
    ")\n",
    "\n",
    "-- SQL server\n",
    "SELECT id \n",
    "FROM (\n",
    "    SELECT id, LAG (Temperature,1) OVER (ORDER BY recordDate) AS pre_temp, Temperature\n",
    "    FROM weather) A\n",
    "WHERE A.Temperature > A.pre_temp\n",
    "```"
   ]
  },
  {
   "cell_type": "code",
   "execution_count": null,
   "metadata": {},
   "outputs": [],
   "source": []
  }
 ],
 "metadata": {
  "kernelspec": {
   "display_name": "Python 3",
   "language": "python",
   "name": "python3"
  },
  "language_info": {
   "codemirror_mode": {
    "name": "ipython",
    "version": 3
   },
   "file_extension": ".py",
   "mimetype": "text/x-python",
   "name": "python",
   "nbconvert_exporter": "python",
   "pygments_lexer": "ipython3",
   "version": "3.7.4"
  }
 },
 "nbformat": 4,
 "nbformat_minor": 2
}
