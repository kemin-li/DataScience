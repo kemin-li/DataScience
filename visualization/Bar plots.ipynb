{
 "cells": [
  {
   "cell_type": "code",
   "execution_count": 1,
   "metadata": {
    "scrolled": true
   },
   "outputs": [],
   "source": [
    "%load_ext autoreload\n",
    "%autoreload 2\n",
    "\n",
    "import pandas as pd\n",
    "import numpy as np\n",
    "import matplotlib.pyplot as plt\n",
    "import matplotlib as mpl\n",
    "import seaborn as sns\n",
    "\n",
    "from IPython.core.interactiveshell import InteractiveShell\n",
    "InteractiveShell.ast_node_interactivity = \"all\"\n",
    "pd.set_option('display.max_rows', 200)\n",
    "pd.set_option('display.max_columns', 50)\n",
    "pd.set_option('display.max_colwidth', 50)\n",
    "pd.set_option('display.precision', 3)\n",
    "\n",
    "# default using seabron style\n",
    "%matplotlib inline\n",
    "plt.style.use('seaborn')"
   ]
  },
  {
   "cell_type": "markdown",
   "metadata": {},
   "source": [
    "## Dataset\n",
    "Illustrate line plots using stock data using pandas_datareader. Note yahoo finance API is not accurate or reliable, we use it for demonstration ONLY"
   ]
  },
  {
   "cell_type": "code",
   "execution_count": 2,
   "metadata": {
    "scrolled": false
   },
   "outputs": [
    {
     "data": {
      "text/plain": [
       "(244, 8)"
      ]
     },
     "execution_count": 2,
     "metadata": {},
     "output_type": "execute_result"
    },
    {
     "data": {
      "text/html": [
       "<div>\n",
       "<style scoped>\n",
       "    .dataframe tbody tr th:only-of-type {\n",
       "        vertical-align: middle;\n",
       "    }\n",
       "\n",
       "    .dataframe tbody tr th {\n",
       "        vertical-align: top;\n",
       "    }\n",
       "\n",
       "    .dataframe thead th {\n",
       "        text-align: right;\n",
       "    }\n",
       "</style>\n",
       "<table border=\"1\" class=\"dataframe\">\n",
       "  <thead>\n",
       "    <tr style=\"text-align: right;\">\n",
       "      <th></th>\n",
       "      <th>total_bill</th>\n",
       "      <th>tip</th>\n",
       "      <th>sex</th>\n",
       "      <th>smoker</th>\n",
       "      <th>day</th>\n",
       "      <th>time</th>\n",
       "      <th>size</th>\n",
       "      <th>tip_pct</th>\n",
       "    </tr>\n",
       "  </thead>\n",
       "  <tbody>\n",
       "    <tr>\n",
       "      <th>0</th>\n",
       "      <td>16.99</td>\n",
       "      <td>1.01</td>\n",
       "      <td>Female</td>\n",
       "      <td>No</td>\n",
       "      <td>Sun</td>\n",
       "      <td>Dinner</td>\n",
       "      <td>2</td>\n",
       "      <td>5.945</td>\n",
       "    </tr>\n",
       "    <tr>\n",
       "      <th>1</th>\n",
       "      <td>10.34</td>\n",
       "      <td>1.66</td>\n",
       "      <td>Male</td>\n",
       "      <td>No</td>\n",
       "      <td>Sun</td>\n",
       "      <td>Dinner</td>\n",
       "      <td>3</td>\n",
       "      <td>16.054</td>\n",
       "    </tr>\n",
       "    <tr>\n",
       "      <th>2</th>\n",
       "      <td>21.01</td>\n",
       "      <td>3.50</td>\n",
       "      <td>Male</td>\n",
       "      <td>No</td>\n",
       "      <td>Sun</td>\n",
       "      <td>Dinner</td>\n",
       "      <td>3</td>\n",
       "      <td>16.659</td>\n",
       "    </tr>\n",
       "    <tr>\n",
       "      <th>3</th>\n",
       "      <td>23.68</td>\n",
       "      <td>3.31</td>\n",
       "      <td>Male</td>\n",
       "      <td>No</td>\n",
       "      <td>Sun</td>\n",
       "      <td>Dinner</td>\n",
       "      <td>2</td>\n",
       "      <td>13.978</td>\n",
       "    </tr>\n",
       "    <tr>\n",
       "      <th>4</th>\n",
       "      <td>24.59</td>\n",
       "      <td>3.61</td>\n",
       "      <td>Female</td>\n",
       "      <td>No</td>\n",
       "      <td>Sun</td>\n",
       "      <td>Dinner</td>\n",
       "      <td>4</td>\n",
       "      <td>14.681</td>\n",
       "    </tr>\n",
       "  </tbody>\n",
       "</table>\n",
       "</div>"
      ],
      "text/plain": [
       "   total_bill   tip     sex smoker  day    time  size  tip_pct\n",
       "0       16.99  1.01  Female     No  Sun  Dinner     2    5.945\n",
       "1       10.34  1.66    Male     No  Sun  Dinner     3   16.054\n",
       "2       21.01  3.50    Male     No  Sun  Dinner     3   16.659\n",
       "3       23.68  3.31    Male     No  Sun  Dinner     2   13.978\n",
       "4       24.59  3.61  Female     No  Sun  Dinner     4   14.681"
      ]
     },
     "execution_count": 2,
     "metadata": {},
     "output_type": "execute_result"
    }
   ],
   "source": [
    "# seaborn tip data\n",
    "tips = sns.load_dataset('tips')\n",
    "tips['tip_pct'] = tips.tip / tips.total_bill * 100\n",
    "tips.shape\n",
    "tips.head()"
   ]
  },
  {
   "cell_type": "markdown",
   "metadata": {},
   "source": [
    "## Bar charts\n",
    "Check one dimensional count/value distribution\n",
    "- default use seaborn\n",
    "- use matplotlib to set additional settings\n",
    "- pandas for stacked bar charts\n",
    "- matplotlib for stacked and floating bar charts"
   ]
  },
  {
   "cell_type": "markdown",
   "metadata": {},
   "source": [
    "### Seaborn bar chart\n",
    "- barplot use 'hue' column to plot side by side bar over all categories\n",
    "- if there are multiple y values for each x+hue, show an err bar, mean +/- std"
   ]
  },
  {
   "cell_type": "code",
   "execution_count": 3,
   "metadata": {
    "scrolled": false
   },
   "outputs": [
    {
     "data": {
      "image/png": "[encoded data removed]",
      "text/plain": [
       "<Figure size 864x864 with 4 Axes>"
      ]
     },
     "metadata": {},
     "output_type": "display_data"
    },
    {
     "data": {
      "image/png": "[encoded data removed]",
      "text/plain": [
       "<Figure size 864x864 with 4 Axes>"
      ]
     },
     "metadata": {},
     "output_type": "display_data"
    }
   ],
   "source": [
    "# wanted to find out tip rate vs. time/sex/day\n",
    "fig, axes = plt.subplots(2, 2, figsize=(12, 12))\n",
    "axes_1d = axes.ravel()\n",
    "hue_cols = ['sex', 'time', 'smoker', 'size']\n",
    "for ind, hue in enumerate(hue_cols):\n",
    "    sns.barplot(data=tips, x='day', y='total_bill', hue=hue, ax=axes_1d[ind]);\n",
    "fig.suptitle('Total bill breakdown', fontsize=14);\n",
    "fig.subplots_adjust(top=0.92);\n",
    "\n",
    "# wanted to find out tip rate vs. time/sex/day\n",
    "fig, axes = plt.subplots(2, 2, figsize=(12, 12))\n",
    "axes_1d = axes.ravel()\n",
    "x_col = 'day'\n",
    "y_col = 'tip_pct'\n",
    "hue_cols = ['sex', 'time', 'smoker', 'size']\n",
    "for ind, hue_col in enumerate(hue_cols):\n",
    "    temp_df = tips.groupby([x_col, hue_col])[y_col].mean().reset_index()\n",
    "    _ = sns.barplot(data=temp_df, x=x_col, y=y_col, hue=hue_col, ax=axes_1d[ind]);\n",
    "fig.suptitle('tip % breakdown', fontsize=14);\n",
    "fig.subplots_adjust(top=0.92);"
   ]
  },
  {
   "cell_type": "markdown",
   "metadata": {},
   "source": [
    "## Stacked bar chart\n",
    "- Seaborn does not support plotting stacked bar chart. Instead pandas bar plot support stacked options\n",
    "- pandas bar plot:\n",
    " - a-axis: index, y-axis: multiple columns.\n",
    " - first use pivot_table to convert category (hue) column into multiple columns, then apply stacked option\n",
    "- matplotlib can manually overlay to create stacked bar chart"
   ]
  },
  {
   "cell_type": "code",
   "execution_count": 4,
   "metadata": {},
   "outputs": [
    {
     "data": {
      "image/png": "[encoded data removed]",
      "text/plain": [
       "<Figure size 1080x540 with 2 Axes>"
      ]
     },
     "metadata": {},
     "output_type": "display_data"
    }
   ],
   "source": [
    "# pandas bar plot stacked option\n",
    "fig, axes = plt.subplots(1, 2, figsize=(15, 7.5))\n",
    "tips_sex = tips.groupby(['day', 'sex'])['total_bill'].sum().reset_index().pivot(index='day', columns='sex', values='total_bill')\n",
    "tips_sex.plot.bar(stacked=True, ax=axes[0]);\n",
    "tips_size = tips.groupby(['day', 'size'])['total_bill'].sum().reset_index().pivot(index='day', columns='size', values='total_bill')\n",
    "tips_size.plot.bar(stacked=True, ax=axes[1]);"
   ]
  },
  {
   "cell_type": "code",
   "execution_count": 5,
   "metadata": {},
   "outputs": [
    {
     "data": {
      "image/png": "[encoded data removed]",
      "text/plain": [
       "<Figure size 1080x540 with 2 Axes>"
      ]
     },
     "metadata": {},
     "output_type": "display_data"
    }
   ],
   "source": [
    "# matplotlib stacked bar chart, a lot more code is needed\n",
    "# this time try stacked in percentage\n",
    "# compuate ratio cumsum\n",
    "tips_sex_ratio = tips_sex / tips_sex.sum(axis=1)[:, np.newaxis]\n",
    "tips_sex_ratio_cumsum = tips_sex_ratio.cumsum(axis=1)\n",
    "tips_sex_ratio_cumsum\n",
    "\n",
    "tips_size_ratio = tips_size / tips_size.sum(axis=1)[:, np.newaxis]\n",
    "tips_size_ratio_cumsum = tips_size_ratio.cumsum(axis=1)\n",
    "tips_size_ratio_cumsum\n",
    "\n",
    "# overlay barchart of cumsum\n",
    "bar_width = 0.8\n",
    "fig, axes = plt.subplots(1, 2, figsize=(15, 7.5))\n",
    "n_rows, n_cols = tips_sex_ratio_cumsum.shape\n",
    "for col_no in range(n_cols-1, -1, -1):\n",
    "    axes[0].bar(tips_sex_ratio_cumsum.index, tips_sex_ratio_cumsum.iloc[:, col_no],\n",
    "            width = bar_width, label=tips_sex_ratio_cumsum.columns[col_no]);\n",
    "axes[0].set_ylim(0, 1.33);\n",
    "axes[0].legend();\n",
    "\n",
    "n_rows, n_cols = tips_size_ratio_cumsum.shape\n",
    "for col_no in range(n_cols-1, -1, -1):\n",
    "    axes[1].bar(tips_size_ratio_cumsum.index, tips_size_ratio_cumsum.iloc[:, col_no],\n",
    "            width = bar_width, label=tips_size_ratio_cumsum.columns[col_no]);\n",
    "axes[1].set_ylim(0, 1.33);\n",
    "axes[1].legend();"
   ]
  },
  {
   "cell_type": "markdown",
   "metadata": {},
   "source": [
    "## Floating bar chart\n",
    "Barchar that does not start from 0. For example, candle stick chart in stock price history"
   ]
  },
  {
   "cell_type": "code",
   "execution_count": 6,
   "metadata": {
    "scrolled": true
   },
   "outputs": [
    {
     "data": {
      "text/plain": [
       "(250, 18)"
      ]
     },
     "execution_count": 6,
     "metadata": {},
     "output_type": "execute_result"
    },
    {
     "data": {
      "text/plain": [
       "MultiIndex(levels=[['Adj Close', 'Close', 'High', 'Low', 'Open', 'Volume'], ['AMD', 'INTC', 'NVDA']],\n",
       "           codes=[[0, 0, 0, 1, 1, 1, 2, 2, 2, 3, 3, 3, 4, 4, 4, 5, 5, 5], [0, 1, 2, 0, 1, 2, 0, 1, 2, 0, 1, 2, 0, 1, 2, 0, 1, 2]],\n",
       "           names=['Attributes', 'Symbols'])"
      ]
     },
     "execution_count": 6,
     "metadata": {},
     "output_type": "execute_result"
    },
    {
     "data": {
      "text/html": [
       "<div>\n",
       "<style scoped>\n",
       "    .dataframe tbody tr th:only-of-type {\n",
       "        vertical-align: middle;\n",
       "    }\n",
       "\n",
       "    .dataframe tbody tr th {\n",
       "        vertical-align: top;\n",
       "    }\n",
       "\n",
       "    .dataframe thead th {\n",
       "        text-align: right;\n",
       "    }\n",
       "</style>\n",
       "<table border=\"1\" class=\"dataframe\">\n",
       "  <thead>\n",
       "    <tr style=\"text-align: right;\">\n",
       "      <th>Symbols</th>\n",
       "      <th>AMD</th>\n",
       "      <th>INTC</th>\n",
       "      <th>NVDA</th>\n",
       "    </tr>\n",
       "    <tr>\n",
       "      <th>Date</th>\n",
       "      <th></th>\n",
       "      <th></th>\n",
       "      <th></th>\n",
       "    </tr>\n",
       "  </thead>\n",
       "  <tbody>\n",
       "    <tr>\n",
       "      <th>2019-01-02</th>\n",
       "      <td>18.83</td>\n",
       "      <td>45.934</td>\n",
       "      <td>135.690</td>\n",
       "    </tr>\n",
       "    <tr>\n",
       "      <th>2019-01-03</th>\n",
       "      <td>17.05</td>\n",
       "      <td>43.407</td>\n",
       "      <td>127.492</td>\n",
       "    </tr>\n",
       "    <tr>\n",
       "      <th>2019-01-04</th>\n",
       "      <td>19.00</td>\n",
       "      <td>46.071</td>\n",
       "      <td>135.660</td>\n",
       "    </tr>\n",
       "    <tr>\n",
       "      <th>2019-01-07</th>\n",
       "      <td>20.57</td>\n",
       "      <td>46.285</td>\n",
       "      <td>142.842</td>\n",
       "    </tr>\n",
       "    <tr>\n",
       "      <th>2019-01-08</th>\n",
       "      <td>20.75</td>\n",
       "      <td>46.578</td>\n",
       "      <td>139.286</td>\n",
       "    </tr>\n",
       "  </tbody>\n",
       "</table>\n",
       "</div>"
      ],
      "text/plain": [
       "Symbols       AMD    INTC     NVDA\n",
       "Date                              \n",
       "2019-01-02  18.83  45.934  135.690\n",
       "2019-01-03  17.05  43.407  127.492\n",
       "2019-01-04  19.00  46.071  135.660\n",
       "2019-01-07  20.57  46.285  142.842\n",
       "2019-01-08  20.75  46.578  139.286"
      ]
     },
     "execution_count": 6,
     "metadata": {},
     "output_type": "execute_result"
    }
   ],
   "source": [
    "from pandas_datareader import data, wb\n",
    "yahoo_reader = data.YahooDailyReader\n",
    "\n",
    "# read daily stock prices\n",
    "chip_symbols = ['INTC', 'AMD', 'NVDA']\n",
    "df = yahoo_reader(chip_symbols, start='2019-01-01', end='2019-12-31').read()\n",
    "df.shape\n",
    "df.columns\n",
    "# get adjusted close price\n",
    "df_prices = df.drop('Volume', axis=1, level=0)\n",
    "df_volume = df['Volume']\n",
    "df_adjclose = df['Adj Close']\n",
    "df_adjclose.head()"
   ]
  },
  {
   "cell_type": "code",
   "execution_count": 7,
   "metadata": {
    "scrolled": false
   },
   "outputs": [
    {
     "data": {
      "text/html": [
       "<div>\n",
       "<style scoped>\n",
       "    .dataframe tbody tr th:only-of-type {\n",
       "        vertical-align: middle;\n",
       "    }\n",
       "\n",
       "    .dataframe tbody tr th {\n",
       "        vertical-align: top;\n",
       "    }\n",
       "\n",
       "    .dataframe thead th {\n",
       "        text-align: right;\n",
       "    }\n",
       "</style>\n",
       "<table border=\"1\" class=\"dataframe\">\n",
       "  <thead>\n",
       "    <tr style=\"text-align: right;\">\n",
       "      <th></th>\n",
       "      <th>open</th>\n",
       "      <th>high</th>\n",
       "      <th>low</th>\n",
       "      <th>close</th>\n",
       "    </tr>\n",
       "    <tr>\n",
       "      <th>Date</th>\n",
       "      <th></th>\n",
       "      <th></th>\n",
       "      <th></th>\n",
       "      <th></th>\n",
       "    </tr>\n",
       "  </thead>\n",
       "  <tbody>\n",
       "    <tr>\n",
       "      <th>2019-01-31</th>\n",
       "      <td>18.83</td>\n",
       "      <td>25.14</td>\n",
       "      <td>16.94</td>\n",
       "      <td>23.02</td>\n",
       "    </tr>\n",
       "    <tr>\n",
       "      <th>2019-02-28</th>\n",
       "      <td>24.51</td>\n",
       "      <td>25.52</td>\n",
       "      <td>22.27</td>\n",
       "      <td>23.21</td>\n",
       "    </tr>\n",
       "    <tr>\n",
       "      <th>2019-03-31</th>\n",
       "      <td>23.68</td>\n",
       "      <td>28.11</td>\n",
       "      <td>21.04</td>\n",
       "      <td>25.58</td>\n",
       "    </tr>\n",
       "    <tr>\n",
       "      <th>2019-04-30</th>\n",
       "      <td>26.36</td>\n",
       "      <td>29.95</td>\n",
       "      <td>25.83</td>\n",
       "      <td>27.59</td>\n",
       "    </tr>\n",
       "    <tr>\n",
       "      <th>2019-05-31</th>\n",
       "      <td>26.81</td>\n",
       "      <td>29.67</td>\n",
       "      <td>26.03</td>\n",
       "      <td>27.57</td>\n",
       "    </tr>\n",
       "    <tr>\n",
       "      <th>2019-06-30</th>\n",
       "      <td>27.58</td>\n",
       "      <td>34.30</td>\n",
       "      <td>27.29</td>\n",
       "      <td>31.08</td>\n",
       "    </tr>\n",
       "    <tr>\n",
       "      <th>2019-07-31</th>\n",
       "      <td>31.20</td>\n",
       "      <td>34.86</td>\n",
       "      <td>30.10</td>\n",
       "      <td>32.08</td>\n",
       "    </tr>\n",
       "    <tr>\n",
       "      <th>2019-08-31</th>\n",
       "      <td>29.86</td>\n",
       "      <td>35.55</td>\n",
       "      <td>27.65</td>\n",
       "      <td>31.60</td>\n",
       "    </tr>\n",
       "    <tr>\n",
       "      <th>2019-09-30</th>\n",
       "      <td>30.90</td>\n",
       "      <td>32.05</td>\n",
       "      <td>28.35</td>\n",
       "      <td>28.89</td>\n",
       "    </tr>\n",
       "    <tr>\n",
       "      <th>2019-10-31</th>\n",
       "      <td>28.76</td>\n",
       "      <td>34.34</td>\n",
       "      <td>27.43</td>\n",
       "      <td>32.98</td>\n",
       "    </tr>\n",
       "    <tr>\n",
       "      <th>2019-11-30</th>\n",
       "      <td>34.89</td>\n",
       "      <td>41.79</td>\n",
       "      <td>34.10</td>\n",
       "      <td>39.10</td>\n",
       "    </tr>\n",
       "    <tr>\n",
       "      <th>2019-12-31</th>\n",
       "      <td>38.73</td>\n",
       "      <td>47.31</td>\n",
       "      <td>37.15</td>\n",
       "      <td>46.85</td>\n",
       "    </tr>\n",
       "  </tbody>\n",
       "</table>\n",
       "</div>"
      ],
      "text/plain": [
       "             open   high    low  close\n",
       "Date                                  \n",
       "2019-01-31  18.83  25.14  16.94  23.02\n",
       "2019-02-28  24.51  25.52  22.27  23.21\n",
       "2019-03-31  23.68  28.11  21.04  25.58\n",
       "2019-04-30  26.36  29.95  25.83  27.59\n",
       "2019-05-31  26.81  29.67  26.03  27.57\n",
       "2019-06-30  27.58  34.30  27.29  31.08\n",
       "2019-07-31  31.20  34.86  30.10  32.08\n",
       "2019-08-31  29.86  35.55  27.65  31.60\n",
       "2019-09-30  30.90  32.05  28.35  28.89\n",
       "2019-10-31  28.76  34.34  27.43  32.98\n",
       "2019-11-30  34.89  41.79  34.10  39.10\n",
       "2019-12-31  38.73  47.31  37.15  46.85"
      ]
     },
     "execution_count": 7,
     "metadata": {},
     "output_type": "execute_result"
    },
    {
     "name": "stderr",
     "output_type": "stream",
     "text": [
      "/home/ubuntu/anaconda3/lib/python3.6/site-packages/matplotlib/axes/_axes.py:2180: FutureWarning: Addition/subtraction of integers and integer-arrays to Timestamp is deprecated, will be removed in a future version.  Instead of adding/subtracting `n`, use `n * self.freq`\n",
      "  dx = [convert(x0 + ddx) - x for ddx in dx]\n"
     ]
    },
    {
     "data": {
      "text/plain": [
       "<BarContainer object of 12 artists>"
      ]
     },
     "execution_count": 7,
     "metadata": {},
     "output_type": "execute_result"
    },
    {
     "data": {
      "text/plain": [
       "<matplotlib.collections.LineCollection at 0x7f0bd587d198>"
      ]
     },
     "execution_count": 7,
     "metadata": {},
     "output_type": "execute_result"
    },
    {
     "data": {
      "text/plain": [
       "(0, 50.0)"
      ]
     },
     "execution_count": 7,
     "metadata": {},
     "output_type": "execute_result"
    },
    {
     "data": {
      "text/plain": [
       "Text(0.5, 1.0, 'AMD candle stick plot')"
      ]
     },
     "execution_count": 7,
     "metadata": {},
     "output_type": "execute_result"
    },
    {
     "data": {
      "image/png": "[encoded data removed]",
      "text/plain": [
       "<Figure size 576x576 with 1 Axes>"
      ]
     },
     "metadata": {},
     "output_type": "display_data"
    }
   ],
   "source": [
    "# stock candle stick plot\n",
    "amd_prices = df_prices.stack(level=0).reset_index(level=1).drop(columns='Attributes')['AMD']\n",
    "amd_monthly = amd_prices.resample('1M').ohlc()\n",
    "amd_monthly\n",
    "\n",
    "# open_close_min--open_close_max bar, 'red' if close>=open else 'green'\n",
    "# low--high vlines, 'red' if close>=open else 'green'\n",
    "bar_width = 0.9\n",
    "amd_up = amd_monthly.close - amd_monthly.open\n",
    "amd_color = amd_up.apply(lambda x: 'red' if x>=0 else 'green')\n",
    "amd_low = amd_monthly[['open', 'close']].min(axis=1)\n",
    "amd_high = amd_monthly[['open', 'close']].max(axis=1)\n",
    "\n",
    "fig, ax = plt.subplots(1, 1, figsize=(8, 8))\n",
    "ax.bar(amd_monthly.index, amd_high-amd_low, bottom=amd_low, color=amd_color, width=1);\n",
    "ax.vlines(amd_monthly.index, amd_monthly.low, amd_monthly.high, color=amd_color)\n",
    "ax.set_ylim(0, np.ceil(amd_monthly.max().max()/10)*10);\n",
    "ax.set_title('AMD candle stick plot')"
   ]
  },
  {
   "cell_type": "code",
   "execution_count": 8,
   "metadata": {
    "scrolled": false
   },
   "outputs": [
    {
     "name": "stdout",
     "output_type": "stream",
     "text": [
      "Couldn't find program: 'False'\n"
     ]
    }
   ],
   "source": [
    "%%script False\n",
    "yahoo_dividend = data.YahooDivReader\n",
    "# read dividend payout\n",
    "divi_symbols = ['REM', 'MORL', 'INDA', 'VNM']\n",
    "df_dividend = pd.DataFrame()\n",
    "for symbol in divi_symbols:\n",
    "    symbol_dividend = yahoo_dividend(symbol, start='2011-01-01', end='2019-12-28').read()\n",
    "    df_temp = pd.DataFrame(symbol_dividend.value).rename({'value': symbol}, axis=1)\n",
    "    df_dividend = pd.concat([df_dividend, df_temp], axis=1)\n",
    "df_dividend.shape\n",
    "df_dividend.columns\n",
    "df_dividend.head()\n",
    "#data.DataReader(\"DIG\",'yahoo', '2019-11-11', '2019-11-19') \n",
    "#data.DataReader(\"600919.SS\",'yahoo', '2019-11-11', '2019-11-19')\n",
    "#data.YahooDivReader('MORL', start='2019-01-11', end='2019-11-19').read()\n",
    "df_dividend.resample('1Y').sum().plot.bar()"
   ]
  },
  {
   "cell_type": "code",
   "execution_count": null,
   "metadata": {},
   "outputs": [],
   "source": []
  }
 ],
 "metadata": {
  "kernelspec": {
   "display_name": "Python 3",
   "language": "python",
   "name": "python3"
  },
  "language_info": {
   "codemirror_mode": {
    "name": "ipython",
    "version": 3
   },
   "file_extension": ".py",
   "mimetype": "text/x-python",
   "name": "python",
   "nbconvert_exporter": "python",
   "pygments_lexer": "ipython3",
   "version": "3.6.5"
  }
 },
 "nbformat": 4,
 "nbformat_minor": 2
}
